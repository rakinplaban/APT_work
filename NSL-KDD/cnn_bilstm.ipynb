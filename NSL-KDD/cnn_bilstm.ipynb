{
 "cells": [
  {
   "cell_type": "markdown",
   "id": "af0bbd65",
   "metadata": {
    "papermill": {
     "duration": 0.008788,
     "end_time": "2024-06-04T17:13:33.463098",
     "exception": false,
     "start_time": "2024-06-04T17:13:33.454310",
     "status": "completed"
    },
    "tags": []
   },
   "source": [
    "## Importing librariesl"
   ]
  },
  {
   "cell_type": "code",
   "execution_count": 1,
   "id": "060664a1",
   "metadata": {
    "execution": {
     "iopub.execute_input": "2024-06-04T17:13:33.481410Z",
     "iopub.status.busy": "2024-06-04T17:13:33.480982Z",
     "iopub.status.idle": "2024-06-04T17:13:35.927086Z",
     "shell.execute_reply": "2024-06-04T17:13:35.925949Z"
    },
    "papermill": {
     "duration": 2.458414,
     "end_time": "2024-06-04T17:13:35.929818",
     "exception": false,
     "start_time": "2024-06-04T17:13:33.471404",
     "status": "completed"
    },
    "tags": []
   },
   "outputs": [],
   "source": [
    "import numpy as np\n",
    "import pandas as pd\n",
    "from scipy.io import arff\n",
    "import matplotlib.pyplot as plt\n",
    "import seaborn as sns\n",
    "from sklearn.preprocessing import StandardScaler\n",
    "# pd.set_option('max_columns', 200)"
   ]
  },
  {
   "cell_type": "markdown",
   "id": "63544297",
   "metadata": {
    "papermill": {
     "duration": 0.007803,
     "end_time": "2024-06-04T17:13:35.945935",
     "exception": false,
     "start_time": "2024-06-04T17:13:35.938132",
     "status": "completed"
    },
    "tags": []
   },
   "source": [
    "## Load training data"
   ]
  },
  {
   "cell_type": "code",
   "execution_count": 2,
   "id": "0fda8174",
   "metadata": {
    "execution": {
     "iopub.execute_input": "2024-06-04T17:13:35.963648Z",
     "iopub.status.busy": "2024-06-04T17:13:35.963148Z",
     "iopub.status.idle": "2024-06-04T17:13:37.146642Z",
     "shell.execute_reply": "2024-06-04T17:13:37.145315Z"
    },
    "papermill": {
     "duration": 1.195308,
     "end_time": "2024-06-04T17:13:37.149283",
     "exception": false,
     "start_time": "2024-06-04T17:13:35.953975",
     "status": "completed"
    },
    "tags": []
   },
   "outputs": [],
   "source": [
    "data = []\n",
    "with open('/kaggle/input/nslkdd/KDDTrain+.arff', \"r\") as f:\n",
    "    for line in f:\n",
    "        line = line.replace('\\n', '')\n",
    "        data.append(line.split(','))\n",
    "\n",
    "\n",
    "names = ['duration',  'protocol_type', 'service',  'flag',  'src_bytes' , 'dst_bytes' , 'land' , 'wrong_fragment' , 'urgent' , 'hot' , 'num_failed_logins' ,\n",
    " 'logged_in' , 'num_compromised' , 'root_shell' , 'su_attempted' , 'num_root' , 'num_file_creations' , 'num_shells' , 'num_access_files' , 'num_outbound_cmds' ,\n",
    " 'is_host_login' , 'is_guest_login' , 'count' , 'srv_count' , 'serror_rate' , 'srv_serror_rate' , 'rerror_rate' , 'srv_rerror_rate' , 'same_srv_rate' ,\n",
    " 'diff_srv_rate' , 'srv_diff_host_rate' , 'dst_host_count' , 'dst_host_srv_count' , 'dst_host_same_srv_rate' , 'dst_host_diff_srv_rate' , 'dst_host_same_src_port_rate' ,\n",
    " 'dst_host_srv_diff_host_rate' , 'dst_host_serror_rate', 'dst_host_srv_serror_rate' , 'dst_host_rerror_rate' , 'dst_host_srv_rerror_rate' , 'class' ,]\n",
    "    \n",
    "df = pd.DataFrame(data[44:], columns=names)"
   ]
  },
  {
   "cell_type": "code",
   "execution_count": 3,
   "id": "31713cb1",
   "metadata": {
    "execution": {
     "iopub.execute_input": "2024-06-04T17:13:37.167881Z",
     "iopub.status.busy": "2024-06-04T17:13:37.167443Z",
     "iopub.status.idle": "2024-06-04T17:13:37.200294Z",
     "shell.execute_reply": "2024-06-04T17:13:37.199156Z"
    },
    "papermill": {
     "duration": 0.044933,
     "end_time": "2024-06-04T17:13:37.202611",
     "exception": false,
     "start_time": "2024-06-04T17:13:37.157678",
     "status": "completed"
    },
    "tags": []
   },
   "outputs": [
    {
     "data": {
      "text/html": [
       "<div>\n",
       "<style scoped>\n",
       "    .dataframe tbody tr th:only-of-type {\n",
       "        vertical-align: middle;\n",
       "    }\n",
       "\n",
       "    .dataframe tbody tr th {\n",
       "        vertical-align: top;\n",
       "    }\n",
       "\n",
       "    .dataframe thead th {\n",
       "        text-align: right;\n",
       "    }\n",
       "</style>\n",
       "<table border=\"1\" class=\"dataframe\">\n",
       "  <thead>\n",
       "    <tr style=\"text-align: right;\">\n",
       "      <th></th>\n",
       "      <th>duration</th>\n",
       "      <th>protocol_type</th>\n",
       "      <th>service</th>\n",
       "      <th>flag</th>\n",
       "      <th>src_bytes</th>\n",
       "      <th>dst_bytes</th>\n",
       "      <th>land</th>\n",
       "      <th>wrong_fragment</th>\n",
       "      <th>urgent</th>\n",
       "      <th>hot</th>\n",
       "      <th>...</th>\n",
       "      <th>dst_host_srv_count</th>\n",
       "      <th>dst_host_same_srv_rate</th>\n",
       "      <th>dst_host_diff_srv_rate</th>\n",
       "      <th>dst_host_same_src_port_rate</th>\n",
       "      <th>dst_host_srv_diff_host_rate</th>\n",
       "      <th>dst_host_serror_rate</th>\n",
       "      <th>dst_host_srv_serror_rate</th>\n",
       "      <th>dst_host_rerror_rate</th>\n",
       "      <th>dst_host_srv_rerror_rate</th>\n",
       "      <th>class</th>\n",
       "    </tr>\n",
       "  </thead>\n",
       "  <tbody>\n",
       "    <tr>\n",
       "      <th>0</th>\n",
       "      <td>0</td>\n",
       "      <td>tcp</td>\n",
       "      <td>ftp_data</td>\n",
       "      <td>SF</td>\n",
       "      <td>491</td>\n",
       "      <td>0</td>\n",
       "      <td>0</td>\n",
       "      <td>0</td>\n",
       "      <td>0</td>\n",
       "      <td>0</td>\n",
       "      <td>...</td>\n",
       "      <td>25</td>\n",
       "      <td>0.17</td>\n",
       "      <td>0.03</td>\n",
       "      <td>0.17</td>\n",
       "      <td>0.00</td>\n",
       "      <td>0.00</td>\n",
       "      <td>0.00</td>\n",
       "      <td>0.05</td>\n",
       "      <td>0.00</td>\n",
       "      <td>normal</td>\n",
       "    </tr>\n",
       "    <tr>\n",
       "      <th>1</th>\n",
       "      <td>0</td>\n",
       "      <td>udp</td>\n",
       "      <td>other</td>\n",
       "      <td>SF</td>\n",
       "      <td>146</td>\n",
       "      <td>0</td>\n",
       "      <td>0</td>\n",
       "      <td>0</td>\n",
       "      <td>0</td>\n",
       "      <td>0</td>\n",
       "      <td>...</td>\n",
       "      <td>1</td>\n",
       "      <td>0.00</td>\n",
       "      <td>0.60</td>\n",
       "      <td>0.88</td>\n",
       "      <td>0.00</td>\n",
       "      <td>0.00</td>\n",
       "      <td>0.00</td>\n",
       "      <td>0.00</td>\n",
       "      <td>0.00</td>\n",
       "      <td>normal</td>\n",
       "    </tr>\n",
       "    <tr>\n",
       "      <th>2</th>\n",
       "      <td>0</td>\n",
       "      <td>tcp</td>\n",
       "      <td>private</td>\n",
       "      <td>S0</td>\n",
       "      <td>0</td>\n",
       "      <td>0</td>\n",
       "      <td>0</td>\n",
       "      <td>0</td>\n",
       "      <td>0</td>\n",
       "      <td>0</td>\n",
       "      <td>...</td>\n",
       "      <td>26</td>\n",
       "      <td>0.10</td>\n",
       "      <td>0.05</td>\n",
       "      <td>0.00</td>\n",
       "      <td>0.00</td>\n",
       "      <td>1.00</td>\n",
       "      <td>1.00</td>\n",
       "      <td>0.00</td>\n",
       "      <td>0.00</td>\n",
       "      <td>anomaly</td>\n",
       "    </tr>\n",
       "    <tr>\n",
       "      <th>3</th>\n",
       "      <td>0</td>\n",
       "      <td>tcp</td>\n",
       "      <td>http</td>\n",
       "      <td>SF</td>\n",
       "      <td>232</td>\n",
       "      <td>8153</td>\n",
       "      <td>0</td>\n",
       "      <td>0</td>\n",
       "      <td>0</td>\n",
       "      <td>0</td>\n",
       "      <td>...</td>\n",
       "      <td>255</td>\n",
       "      <td>1.00</td>\n",
       "      <td>0.00</td>\n",
       "      <td>0.03</td>\n",
       "      <td>0.04</td>\n",
       "      <td>0.03</td>\n",
       "      <td>0.01</td>\n",
       "      <td>0.00</td>\n",
       "      <td>0.01</td>\n",
       "      <td>normal</td>\n",
       "    </tr>\n",
       "    <tr>\n",
       "      <th>4</th>\n",
       "      <td>0</td>\n",
       "      <td>tcp</td>\n",
       "      <td>http</td>\n",
       "      <td>SF</td>\n",
       "      <td>199</td>\n",
       "      <td>420</td>\n",
       "      <td>0</td>\n",
       "      <td>0</td>\n",
       "      <td>0</td>\n",
       "      <td>0</td>\n",
       "      <td>...</td>\n",
       "      <td>255</td>\n",
       "      <td>1.00</td>\n",
       "      <td>0.00</td>\n",
       "      <td>0.00</td>\n",
       "      <td>0.00</td>\n",
       "      <td>0.00</td>\n",
       "      <td>0.00</td>\n",
       "      <td>0.00</td>\n",
       "      <td>0.00</td>\n",
       "      <td>normal</td>\n",
       "    </tr>\n",
       "  </tbody>\n",
       "</table>\n",
       "<p>5 rows × 42 columns</p>\n",
       "</div>"
      ],
      "text/plain": [
       "  duration protocol_type   service flag src_bytes dst_bytes land  \\\n",
       "0        0           tcp  ftp_data   SF       491         0    0   \n",
       "1        0           udp     other   SF       146         0    0   \n",
       "2        0           tcp   private   S0         0         0    0   \n",
       "3        0           tcp      http   SF       232      8153    0   \n",
       "4        0           tcp      http   SF       199       420    0   \n",
       "\n",
       "  wrong_fragment urgent hot  ... dst_host_srv_count dst_host_same_srv_rate  \\\n",
       "0              0      0   0  ...                 25                   0.17   \n",
       "1              0      0   0  ...                  1                   0.00   \n",
       "2              0      0   0  ...                 26                   0.10   \n",
       "3              0      0   0  ...                255                   1.00   \n",
       "4              0      0   0  ...                255                   1.00   \n",
       "\n",
       "  dst_host_diff_srv_rate dst_host_same_src_port_rate  \\\n",
       "0                   0.03                        0.17   \n",
       "1                   0.60                        0.88   \n",
       "2                   0.05                        0.00   \n",
       "3                   0.00                        0.03   \n",
       "4                   0.00                        0.00   \n",
       "\n",
       "  dst_host_srv_diff_host_rate dst_host_serror_rate dst_host_srv_serror_rate  \\\n",
       "0                        0.00                 0.00                     0.00   \n",
       "1                        0.00                 0.00                     0.00   \n",
       "2                        0.00                 1.00                     1.00   \n",
       "3                        0.04                 0.03                     0.01   \n",
       "4                        0.00                 0.00                     0.00   \n",
       "\n",
       "  dst_host_rerror_rate dst_host_srv_rerror_rate    class  \n",
       "0                 0.05                     0.00   normal  \n",
       "1                 0.00                     0.00   normal  \n",
       "2                 0.00                     0.00  anomaly  \n",
       "3                 0.00                     0.01   normal  \n",
       "4                 0.00                     0.00   normal  \n",
       "\n",
       "[5 rows x 42 columns]"
      ]
     },
     "execution_count": 3,
     "metadata": {},
     "output_type": "execute_result"
    }
   ],
   "source": [
    "df.head()"
   ]
  },
  {
   "cell_type": "code",
   "execution_count": 4,
   "id": "b3db618e",
   "metadata": {
    "execution": {
     "iopub.execute_input": "2024-06-04T17:13:37.221747Z",
     "iopub.status.busy": "2024-06-04T17:13:37.221362Z",
     "iopub.status.idle": "2024-06-04T17:13:37.228143Z",
     "shell.execute_reply": "2024-06-04T17:13:37.227127Z"
    },
    "papermill": {
     "duration": 0.018906,
     "end_time": "2024-06-04T17:13:37.230377",
     "exception": false,
     "start_time": "2024-06-04T17:13:37.211471",
     "status": "completed"
    },
    "tags": []
   },
   "outputs": [
    {
     "data": {
      "text/plain": [
       "(125973, 42)"
      ]
     },
     "execution_count": 4,
     "metadata": {},
     "output_type": "execute_result"
    }
   ],
   "source": [
    "df.shape"
   ]
  },
  {
   "cell_type": "code",
   "execution_count": 5,
   "id": "e7e230c4",
   "metadata": {
    "execution": {
     "iopub.execute_input": "2024-06-04T17:13:37.250290Z",
     "iopub.status.busy": "2024-06-04T17:13:37.249306Z",
     "iopub.status.idle": "2024-06-04T17:13:37.257125Z",
     "shell.execute_reply": "2024-06-04T17:13:37.256065Z"
    },
    "papermill": {
     "duration": 0.020206,
     "end_time": "2024-06-04T17:13:37.259379",
     "exception": false,
     "start_time": "2024-06-04T17:13:37.239173",
     "status": "completed"
    },
    "tags": []
   },
   "outputs": [
    {
     "data": {
      "text/plain": [
       "Index(['duration', 'protocol_type', 'service', 'flag', 'src_bytes',\n",
       "       'dst_bytes', 'land', 'wrong_fragment', 'urgent', 'hot',\n",
       "       'num_failed_logins', 'logged_in', 'num_compromised', 'root_shell',\n",
       "       'su_attempted', 'num_root', 'num_file_creations', 'num_shells',\n",
       "       'num_access_files', 'num_outbound_cmds', 'is_host_login',\n",
       "       'is_guest_login', 'count', 'srv_count', 'serror_rate',\n",
       "       'srv_serror_rate', 'rerror_rate', 'srv_rerror_rate', 'same_srv_rate',\n",
       "       'diff_srv_rate', 'srv_diff_host_rate', 'dst_host_count',\n",
       "       'dst_host_srv_count', 'dst_host_same_srv_rate',\n",
       "       'dst_host_diff_srv_rate', 'dst_host_same_src_port_rate',\n",
       "       'dst_host_srv_diff_host_rate', 'dst_host_serror_rate',\n",
       "       'dst_host_srv_serror_rate', 'dst_host_rerror_rate',\n",
       "       'dst_host_srv_rerror_rate', 'class'],\n",
       "      dtype='object')"
      ]
     },
     "execution_count": 5,
     "metadata": {},
     "output_type": "execute_result"
    }
   ],
   "source": [
    "df.columns"
   ]
  },
  {
   "cell_type": "code",
   "execution_count": 6,
   "id": "6e1c8769",
   "metadata": {
    "execution": {
     "iopub.execute_input": "2024-06-04T17:13:37.278705Z",
     "iopub.status.busy": "2024-06-04T17:13:37.278344Z",
     "iopub.status.idle": "2024-06-04T17:13:37.286970Z",
     "shell.execute_reply": "2024-06-04T17:13:37.285973Z"
    },
    "papermill": {
     "duration": 0.020746,
     "end_time": "2024-06-04T17:13:37.288973",
     "exception": false,
     "start_time": "2024-06-04T17:13:37.268227",
     "status": "completed"
    },
    "tags": []
   },
   "outputs": [
    {
     "data": {
      "text/plain": [
       "duration                       object\n",
       "protocol_type                  object\n",
       "service                        object\n",
       "flag                           object\n",
       "src_bytes                      object\n",
       "dst_bytes                      object\n",
       "land                           object\n",
       "wrong_fragment                 object\n",
       "urgent                         object\n",
       "hot                            object\n",
       "num_failed_logins              object\n",
       "logged_in                      object\n",
       "num_compromised                object\n",
       "root_shell                     object\n",
       "su_attempted                   object\n",
       "num_root                       object\n",
       "num_file_creations             object\n",
       "num_shells                     object\n",
       "num_access_files               object\n",
       "num_outbound_cmds              object\n",
       "is_host_login                  object\n",
       "is_guest_login                 object\n",
       "count                          object\n",
       "srv_count                      object\n",
       "serror_rate                    object\n",
       "srv_serror_rate                object\n",
       "rerror_rate                    object\n",
       "srv_rerror_rate                object\n",
       "same_srv_rate                  object\n",
       "diff_srv_rate                  object\n",
       "srv_diff_host_rate             object\n",
       "dst_host_count                 object\n",
       "dst_host_srv_count             object\n",
       "dst_host_same_srv_rate         object\n",
       "dst_host_diff_srv_rate         object\n",
       "dst_host_same_src_port_rate    object\n",
       "dst_host_srv_diff_host_rate    object\n",
       "dst_host_serror_rate           object\n",
       "dst_host_srv_serror_rate       object\n",
       "dst_host_rerror_rate           object\n",
       "dst_host_srv_rerror_rate       object\n",
       "class                          object\n",
       "dtype: object"
      ]
     },
     "execution_count": 6,
     "metadata": {},
     "output_type": "execute_result"
    }
   ],
   "source": [
    "df.dtypes"
   ]
  },
  {
   "cell_type": "code",
   "execution_count": 7,
   "id": "eb69ad32",
   "metadata": {
    "execution": {
     "iopub.execute_input": "2024-06-04T17:13:37.309516Z",
     "iopub.status.busy": "2024-06-04T17:13:37.308759Z",
     "iopub.status.idle": "2024-06-04T17:13:38.164327Z",
     "shell.execute_reply": "2024-06-04T17:13:38.163187Z"
    },
    "papermill": {
     "duration": 0.868421,
     "end_time": "2024-06-04T17:13:38.167054",
     "exception": false,
     "start_time": "2024-06-04T17:13:37.298633",
     "status": "completed"
    },
    "tags": []
   },
   "outputs": [],
   "source": [
    "# Define the expected data types based on the research paper\n",
    "expected_data_types = {\n",
    "    'duration': 'float64',\n",
    "    'protocol_type': 'category',\n",
    "    'service': 'category',\n",
    "    'flag': 'category',\n",
    "    'src_bytes': 'float64',\n",
    "    'dst_bytes': 'float64',\n",
    "    'land': 'category',\n",
    "    'wrong_fragment': 'float64',\n",
    "    'urgent': 'float64',\n",
    "    'hot': 'float64',\n",
    "    'num_failed_logins': 'float64',\n",
    "    'logged_in': 'category',\n",
    "    'num_compromised': 'float64',\n",
    "    'root_shell': 'float64',\n",
    "    'su_attempted': 'float64',\n",
    "    'num_root': 'float64',\n",
    "    'num_file_creations': 'float64',\n",
    "    'num_shells': 'float64',\n",
    "    'num_access_files': 'float64',\n",
    "    'num_outbound_cmds': 'float64',\n",
    "    'is_host_login': 'category',\n",
    "    'is_guest_login': 'category',\n",
    "    'count': 'float64',\n",
    "    'srv_count': 'float64',\n",
    "    'serror_rate': 'float64',\n",
    "    'srv_serror_rate': 'float64',\n",
    "    'rerror_rate': 'float64',\n",
    "    'srv_rerror_rate': 'float64',\n",
    "    'same_srv_rate': 'float64',\n",
    "    'diff_srv_rate': 'float64',\n",
    "    'srv_diff_host_rate': 'float64',\n",
    "    'dst_host_count': 'float64',\n",
    "    'dst_host_srv_count': 'float64',\n",
    "    'dst_host_same_srv_rate': 'float64',\n",
    "    'dst_host_diff_srv_rate': 'float64',\n",
    "    'dst_host_same_src_port_rate': 'float64',\n",
    "    'dst_host_srv_diff_host_rate': 'float64',\n",
    "    'dst_host_serror_rate': 'float64',\n",
    "    'dst_host_srv_serror_rate': 'float64',\n",
    "    'dst_host_rerror_rate': 'float64',\n",
    "    'dst_host_srv_rerror_rate': 'float64',\n",
    "    'class': 'category'\n",
    "}\n",
    "\n",
    "# Convert columns to appropriate data types\n",
    "df = df.astype(expected_data_types)\n"
   ]
  },
  {
   "cell_type": "code",
   "execution_count": 8,
   "id": "b8292148",
   "metadata": {
    "execution": {
     "iopub.execute_input": "2024-06-04T17:13:38.186586Z",
     "iopub.status.busy": "2024-06-04T17:13:38.186174Z",
     "iopub.status.idle": "2024-06-04T17:13:38.195243Z",
     "shell.execute_reply": "2024-06-04T17:13:38.194223Z"
    },
    "papermill": {
     "duration": 0.021352,
     "end_time": "2024-06-04T17:13:38.197411",
     "exception": false,
     "start_time": "2024-06-04T17:13:38.176059",
     "status": "completed"
    },
    "tags": []
   },
   "outputs": [
    {
     "data": {
      "text/plain": [
       "duration                        float64\n",
       "protocol_type                  category\n",
       "service                        category\n",
       "flag                           category\n",
       "src_bytes                       float64\n",
       "dst_bytes                       float64\n",
       "land                           category\n",
       "wrong_fragment                  float64\n",
       "urgent                          float64\n",
       "hot                             float64\n",
       "num_failed_logins               float64\n",
       "logged_in                      category\n",
       "num_compromised                 float64\n",
       "root_shell                      float64\n",
       "su_attempted                    float64\n",
       "num_root                        float64\n",
       "num_file_creations              float64\n",
       "num_shells                      float64\n",
       "num_access_files                float64\n",
       "num_outbound_cmds               float64\n",
       "is_host_login                  category\n",
       "is_guest_login                 category\n",
       "count                           float64\n",
       "srv_count                       float64\n",
       "serror_rate                     float64\n",
       "srv_serror_rate                 float64\n",
       "rerror_rate                     float64\n",
       "srv_rerror_rate                 float64\n",
       "same_srv_rate                   float64\n",
       "diff_srv_rate                   float64\n",
       "srv_diff_host_rate              float64\n",
       "dst_host_count                  float64\n",
       "dst_host_srv_count              float64\n",
       "dst_host_same_srv_rate          float64\n",
       "dst_host_diff_srv_rate          float64\n",
       "dst_host_same_src_port_rate     float64\n",
       "dst_host_srv_diff_host_rate     float64\n",
       "dst_host_serror_rate            float64\n",
       "dst_host_srv_serror_rate        float64\n",
       "dst_host_rerror_rate            float64\n",
       "dst_host_srv_rerror_rate        float64\n",
       "class                          category\n",
       "dtype: object"
      ]
     },
     "execution_count": 8,
     "metadata": {},
     "output_type": "execute_result"
    }
   ],
   "source": [
    "df.dtypes"
   ]
  },
  {
   "cell_type": "code",
   "execution_count": 9,
   "id": "f799e604",
   "metadata": {
    "execution": {
     "iopub.execute_input": "2024-06-04T17:13:38.217331Z",
     "iopub.status.busy": "2024-06-04T17:13:38.216912Z",
     "iopub.status.idle": "2024-06-04T17:13:38.266295Z",
     "shell.execute_reply": "2024-06-04T17:13:38.265148Z"
    },
    "papermill": {
     "duration": 0.06234,
     "end_time": "2024-06-04T17:13:38.268971",
     "exception": false,
     "start_time": "2024-06-04T17:13:38.206631",
     "status": "completed"
    },
    "tags": []
   },
   "outputs": [],
   "source": [
    "X = df.drop([\"class\"],axis = 1)"
   ]
  },
  {
   "cell_type": "code",
   "execution_count": 10,
   "id": "ad8eb3d4",
   "metadata": {
    "execution": {
     "iopub.execute_input": "2024-06-04T17:13:38.288956Z",
     "iopub.status.busy": "2024-06-04T17:13:38.288550Z",
     "iopub.status.idle": "2024-06-04T17:13:38.295928Z",
     "shell.execute_reply": "2024-06-04T17:13:38.294703Z"
    },
    "papermill": {
     "duration": 0.019969,
     "end_time": "2024-06-04T17:13:38.298183",
     "exception": false,
     "start_time": "2024-06-04T17:13:38.278214",
     "status": "completed"
    },
    "tags": []
   },
   "outputs": [
    {
     "data": {
      "text/plain": [
       "Index(['duration', 'protocol_type', 'service', 'flag', 'src_bytes',\n",
       "       'dst_bytes', 'land', 'wrong_fragment', 'urgent', 'hot',\n",
       "       'num_failed_logins', 'logged_in', 'num_compromised', 'root_shell',\n",
       "       'su_attempted', 'num_root', 'num_file_creations', 'num_shells',\n",
       "       'num_access_files', 'num_outbound_cmds', 'is_host_login',\n",
       "       'is_guest_login', 'count', 'srv_count', 'serror_rate',\n",
       "       'srv_serror_rate', 'rerror_rate', 'srv_rerror_rate', 'same_srv_rate',\n",
       "       'diff_srv_rate', 'srv_diff_host_rate', 'dst_host_count',\n",
       "       'dst_host_srv_count', 'dst_host_same_srv_rate',\n",
       "       'dst_host_diff_srv_rate', 'dst_host_same_src_port_rate',\n",
       "       'dst_host_srv_diff_host_rate', 'dst_host_serror_rate',\n",
       "       'dst_host_srv_serror_rate', 'dst_host_rerror_rate',\n",
       "       'dst_host_srv_rerror_rate'],\n",
       "      dtype='object')"
      ]
     },
     "execution_count": 10,
     "metadata": {},
     "output_type": "execute_result"
    }
   ],
   "source": [
    "X.columns"
   ]
  },
  {
   "cell_type": "markdown",
   "id": "4b0d5941",
   "metadata": {
    "papermill": {
     "duration": 0.009026,
     "end_time": "2024-06-04T17:13:38.317105",
     "exception": false,
     "start_time": "2024-06-04T17:13:38.308079",
     "status": "completed"
    },
    "tags": []
   },
   "source": [
    "## Encoding Categorical Data"
   ]
  },
  {
   "cell_type": "code",
   "execution_count": 11,
   "id": "624d5e7b",
   "metadata": {
    "execution": {
     "iopub.execute_input": "2024-06-04T17:13:38.338238Z",
     "iopub.status.busy": "2024-06-04T17:13:38.337224Z",
     "iopub.status.idle": "2024-06-04T17:13:38.349833Z",
     "shell.execute_reply": "2024-06-04T17:13:38.348447Z"
    },
    "papermill": {
     "duration": 0.025819,
     "end_time": "2024-06-04T17:13:38.352183",
     "exception": false,
     "start_time": "2024-06-04T17:13:38.326364",
     "status": "completed"
    },
    "tags": []
   },
   "outputs": [],
   "source": [
    "# Protocol type\n",
    "X['protocol_type'] = df['protocol_type'].astype('category').cat.codes\n",
    "\n",
    "# Land\n",
    "X['land'] = pd.Categorical(df['land'], ['0', '1']).codes\n",
    "\n",
    "# Is logged in\n",
    "X['logged_in'] = pd.Categorical(df['logged_in'], ['0', '1']).codes\n",
    "\n",
    "# Host logged in\n",
    "X['is_host_login'] = pd.Categorical(df['is_host_login'], ['0', '1']).codes\n",
    "\n",
    "# Guest logged in\n",
    "X['is_guest_login'] = pd.Categorical(df['is_guest_login'], ['0', '1']).codes\n",
    "\n",
    "# Class\n",
    "Y = pd.Categorical(df['class'], ['normal', 'anomaly']).codes\n"
   ]
  },
  {
   "cell_type": "markdown",
   "id": "329bd7f5",
   "metadata": {
    "papermill": {
     "duration": 0.008912,
     "end_time": "2024-06-04T17:13:38.370425",
     "exception": false,
     "start_time": "2024-06-04T17:13:38.361513",
     "status": "completed"
    },
    "tags": []
   },
   "source": [
    "### Count unique values."
   ]
  },
  {
   "cell_type": "code",
   "execution_count": 12,
   "id": "bd7b81e1",
   "metadata": {
    "execution": {
     "iopub.execute_input": "2024-06-04T17:13:38.390774Z",
     "iopub.status.busy": "2024-06-04T17:13:38.390376Z",
     "iopub.status.idle": "2024-06-04T17:13:38.402796Z",
     "shell.execute_reply": "2024-06-04T17:13:38.401798Z"
    },
    "papermill": {
     "duration": 0.025233,
     "end_time": "2024-06-04T17:13:38.405060",
     "exception": false,
     "start_time": "2024-06-04T17:13:38.379827",
     "status": "completed"
    },
    "tags": []
   },
   "outputs": [
    {
     "data": {
      "text/plain": [
       "class\n",
       "normal     67343\n",
       "anomaly    58630\n",
       "Name: count, dtype: int64"
      ]
     },
     "execution_count": 12,
     "metadata": {},
     "output_type": "execute_result"
    }
   ],
   "source": [
    "df[\"class\"].value_counts()"
   ]
  },
  {
   "cell_type": "markdown",
   "id": "85ec0c31",
   "metadata": {
    "papermill": {
     "duration": 0.009022,
     "end_time": "2024-06-04T17:13:38.423991",
     "exception": false,
     "start_time": "2024-06-04T17:13:38.414969",
     "status": "completed"
    },
    "tags": []
   },
   "source": [
    "### view final trainig set."
   ]
  },
  {
   "cell_type": "code",
   "execution_count": 13,
   "id": "f9b6e55f",
   "metadata": {
    "execution": {
     "iopub.execute_input": "2024-06-04T17:13:38.444524Z",
     "iopub.status.busy": "2024-06-04T17:13:38.444145Z",
     "iopub.status.idle": "2024-06-04T17:13:38.482810Z",
     "shell.execute_reply": "2024-06-04T17:13:38.481743Z"
    },
    "papermill": {
     "duration": 0.051981,
     "end_time": "2024-06-04T17:13:38.485466",
     "exception": false,
     "start_time": "2024-06-04T17:13:38.433485",
     "status": "completed"
    },
    "tags": []
   },
   "outputs": [
    {
     "data": {
      "text/html": [
       "<div>\n",
       "<style scoped>\n",
       "    .dataframe tbody tr th:only-of-type {\n",
       "        vertical-align: middle;\n",
       "    }\n",
       "\n",
       "    .dataframe tbody tr th {\n",
       "        vertical-align: top;\n",
       "    }\n",
       "\n",
       "    .dataframe thead th {\n",
       "        text-align: right;\n",
       "    }\n",
       "</style>\n",
       "<table border=\"1\" class=\"dataframe\">\n",
       "  <thead>\n",
       "    <tr style=\"text-align: right;\">\n",
       "      <th></th>\n",
       "      <th>duration</th>\n",
       "      <th>protocol_type</th>\n",
       "      <th>service</th>\n",
       "      <th>flag</th>\n",
       "      <th>src_bytes</th>\n",
       "      <th>dst_bytes</th>\n",
       "      <th>land</th>\n",
       "      <th>wrong_fragment</th>\n",
       "      <th>urgent</th>\n",
       "      <th>hot</th>\n",
       "      <th>...</th>\n",
       "      <th>dst_host_count</th>\n",
       "      <th>dst_host_srv_count</th>\n",
       "      <th>dst_host_same_srv_rate</th>\n",
       "      <th>dst_host_diff_srv_rate</th>\n",
       "      <th>dst_host_same_src_port_rate</th>\n",
       "      <th>dst_host_srv_diff_host_rate</th>\n",
       "      <th>dst_host_serror_rate</th>\n",
       "      <th>dst_host_srv_serror_rate</th>\n",
       "      <th>dst_host_rerror_rate</th>\n",
       "      <th>dst_host_srv_rerror_rate</th>\n",
       "    </tr>\n",
       "  </thead>\n",
       "  <tbody>\n",
       "    <tr>\n",
       "      <th>0</th>\n",
       "      <td>0.0</td>\n",
       "      <td>1</td>\n",
       "      <td>ftp_data</td>\n",
       "      <td>SF</td>\n",
       "      <td>491.0</td>\n",
       "      <td>0.0</td>\n",
       "      <td>0</td>\n",
       "      <td>0.0</td>\n",
       "      <td>0.0</td>\n",
       "      <td>0.0</td>\n",
       "      <td>...</td>\n",
       "      <td>150.0</td>\n",
       "      <td>25.0</td>\n",
       "      <td>0.17</td>\n",
       "      <td>0.03</td>\n",
       "      <td>0.17</td>\n",
       "      <td>0.00</td>\n",
       "      <td>0.00</td>\n",
       "      <td>0.00</td>\n",
       "      <td>0.05</td>\n",
       "      <td>0.00</td>\n",
       "    </tr>\n",
       "    <tr>\n",
       "      <th>1</th>\n",
       "      <td>0.0</td>\n",
       "      <td>2</td>\n",
       "      <td>other</td>\n",
       "      <td>SF</td>\n",
       "      <td>146.0</td>\n",
       "      <td>0.0</td>\n",
       "      <td>0</td>\n",
       "      <td>0.0</td>\n",
       "      <td>0.0</td>\n",
       "      <td>0.0</td>\n",
       "      <td>...</td>\n",
       "      <td>255.0</td>\n",
       "      <td>1.0</td>\n",
       "      <td>0.00</td>\n",
       "      <td>0.60</td>\n",
       "      <td>0.88</td>\n",
       "      <td>0.00</td>\n",
       "      <td>0.00</td>\n",
       "      <td>0.00</td>\n",
       "      <td>0.00</td>\n",
       "      <td>0.00</td>\n",
       "    </tr>\n",
       "    <tr>\n",
       "      <th>2</th>\n",
       "      <td>0.0</td>\n",
       "      <td>1</td>\n",
       "      <td>private</td>\n",
       "      <td>S0</td>\n",
       "      <td>0.0</td>\n",
       "      <td>0.0</td>\n",
       "      <td>0</td>\n",
       "      <td>0.0</td>\n",
       "      <td>0.0</td>\n",
       "      <td>0.0</td>\n",
       "      <td>...</td>\n",
       "      <td>255.0</td>\n",
       "      <td>26.0</td>\n",
       "      <td>0.10</td>\n",
       "      <td>0.05</td>\n",
       "      <td>0.00</td>\n",
       "      <td>0.00</td>\n",
       "      <td>1.00</td>\n",
       "      <td>1.00</td>\n",
       "      <td>0.00</td>\n",
       "      <td>0.00</td>\n",
       "    </tr>\n",
       "    <tr>\n",
       "      <th>3</th>\n",
       "      <td>0.0</td>\n",
       "      <td>1</td>\n",
       "      <td>http</td>\n",
       "      <td>SF</td>\n",
       "      <td>232.0</td>\n",
       "      <td>8153.0</td>\n",
       "      <td>0</td>\n",
       "      <td>0.0</td>\n",
       "      <td>0.0</td>\n",
       "      <td>0.0</td>\n",
       "      <td>...</td>\n",
       "      <td>30.0</td>\n",
       "      <td>255.0</td>\n",
       "      <td>1.00</td>\n",
       "      <td>0.00</td>\n",
       "      <td>0.03</td>\n",
       "      <td>0.04</td>\n",
       "      <td>0.03</td>\n",
       "      <td>0.01</td>\n",
       "      <td>0.00</td>\n",
       "      <td>0.01</td>\n",
       "    </tr>\n",
       "    <tr>\n",
       "      <th>4</th>\n",
       "      <td>0.0</td>\n",
       "      <td>1</td>\n",
       "      <td>http</td>\n",
       "      <td>SF</td>\n",
       "      <td>199.0</td>\n",
       "      <td>420.0</td>\n",
       "      <td>0</td>\n",
       "      <td>0.0</td>\n",
       "      <td>0.0</td>\n",
       "      <td>0.0</td>\n",
       "      <td>...</td>\n",
       "      <td>255.0</td>\n",
       "      <td>255.0</td>\n",
       "      <td>1.00</td>\n",
       "      <td>0.00</td>\n",
       "      <td>0.00</td>\n",
       "      <td>0.00</td>\n",
       "      <td>0.00</td>\n",
       "      <td>0.00</td>\n",
       "      <td>0.00</td>\n",
       "      <td>0.00</td>\n",
       "    </tr>\n",
       "  </tbody>\n",
       "</table>\n",
       "<p>5 rows × 41 columns</p>\n",
       "</div>"
      ],
      "text/plain": [
       "   duration  protocol_type   service flag  src_bytes  dst_bytes  land  \\\n",
       "0       0.0              1  ftp_data   SF      491.0        0.0     0   \n",
       "1       0.0              2     other   SF      146.0        0.0     0   \n",
       "2       0.0              1   private   S0        0.0        0.0     0   \n",
       "3       0.0              1      http   SF      232.0     8153.0     0   \n",
       "4       0.0              1      http   SF      199.0      420.0     0   \n",
       "\n",
       "   wrong_fragment  urgent  hot  ...  dst_host_count  dst_host_srv_count  \\\n",
       "0             0.0     0.0  0.0  ...           150.0                25.0   \n",
       "1             0.0     0.0  0.0  ...           255.0                 1.0   \n",
       "2             0.0     0.0  0.0  ...           255.0                26.0   \n",
       "3             0.0     0.0  0.0  ...            30.0               255.0   \n",
       "4             0.0     0.0  0.0  ...           255.0               255.0   \n",
       "\n",
       "   dst_host_same_srv_rate  dst_host_diff_srv_rate  \\\n",
       "0                    0.17                    0.03   \n",
       "1                    0.00                    0.60   \n",
       "2                    0.10                    0.05   \n",
       "3                    1.00                    0.00   \n",
       "4                    1.00                    0.00   \n",
       "\n",
       "   dst_host_same_src_port_rate  dst_host_srv_diff_host_rate  \\\n",
       "0                         0.17                         0.00   \n",
       "1                         0.88                         0.00   \n",
       "2                         0.00                         0.00   \n",
       "3                         0.03                         0.04   \n",
       "4                         0.00                         0.00   \n",
       "\n",
       "   dst_host_serror_rate  dst_host_srv_serror_rate  dst_host_rerror_rate  \\\n",
       "0                  0.00                      0.00                  0.05   \n",
       "1                  0.00                      0.00                  0.00   \n",
       "2                  1.00                      1.00                  0.00   \n",
       "3                  0.03                      0.01                  0.00   \n",
       "4                  0.00                      0.00                  0.00   \n",
       "\n",
       "   dst_host_srv_rerror_rate  \n",
       "0                      0.00  \n",
       "1                      0.00  \n",
       "2                      0.00  \n",
       "3                      0.01  \n",
       "4                      0.00  \n",
       "\n",
       "[5 rows x 41 columns]"
      ]
     },
     "execution_count": 13,
     "metadata": {},
     "output_type": "execute_result"
    }
   ],
   "source": [
    "X.head()"
   ]
  },
  {
   "cell_type": "code",
   "execution_count": 14,
   "id": "e7c21ca7",
   "metadata": {
    "execution": {
     "iopub.execute_input": "2024-06-04T17:13:38.507250Z",
     "iopub.status.busy": "2024-06-04T17:13:38.506868Z",
     "iopub.status.idle": "2024-06-04T17:13:38.567008Z",
     "shell.execute_reply": "2024-06-04T17:13:38.566009Z"
    },
    "papermill": {
     "duration": 0.074214,
     "end_time": "2024-06-04T17:13:38.569653",
     "exception": false,
     "start_time": "2024-06-04T17:13:38.495439",
     "status": "completed"
    },
    "tags": []
   },
   "outputs": [],
   "source": [
    "from sklearn.preprocessing import LabelEncoder\n",
    "\n",
    "le_service = LabelEncoder()\n",
    "X['service'] = le_service.fit_transform(df['service'])\n",
    "\n",
    "le_flag = LabelEncoder()\n",
    "X['flag'] = le_flag.fit_transform(df['flag'])\n",
    "\n"
   ]
  },
  {
   "cell_type": "code",
   "execution_count": 15,
   "id": "bdadd1c7",
   "metadata": {
    "execution": {
     "iopub.execute_input": "2024-06-04T17:13:38.591519Z",
     "iopub.status.busy": "2024-06-04T17:13:38.591132Z",
     "iopub.status.idle": "2024-06-04T17:13:38.623019Z",
     "shell.execute_reply": "2024-06-04T17:13:38.621973Z"
    },
    "papermill": {
     "duration": 0.045367,
     "end_time": "2024-06-04T17:13:38.625350",
     "exception": false,
     "start_time": "2024-06-04T17:13:38.579983",
     "status": "completed"
    },
    "tags": []
   },
   "outputs": [
    {
     "data": {
      "text/html": [
       "<div>\n",
       "<style scoped>\n",
       "    .dataframe tbody tr th:only-of-type {\n",
       "        vertical-align: middle;\n",
       "    }\n",
       "\n",
       "    .dataframe tbody tr th {\n",
       "        vertical-align: top;\n",
       "    }\n",
       "\n",
       "    .dataframe thead th {\n",
       "        text-align: right;\n",
       "    }\n",
       "</style>\n",
       "<table border=\"1\" class=\"dataframe\">\n",
       "  <thead>\n",
       "    <tr style=\"text-align: right;\">\n",
       "      <th></th>\n",
       "      <th>duration</th>\n",
       "      <th>protocol_type</th>\n",
       "      <th>service</th>\n",
       "      <th>flag</th>\n",
       "      <th>src_bytes</th>\n",
       "      <th>dst_bytes</th>\n",
       "      <th>land</th>\n",
       "      <th>wrong_fragment</th>\n",
       "      <th>urgent</th>\n",
       "      <th>hot</th>\n",
       "      <th>...</th>\n",
       "      <th>dst_host_count</th>\n",
       "      <th>dst_host_srv_count</th>\n",
       "      <th>dst_host_same_srv_rate</th>\n",
       "      <th>dst_host_diff_srv_rate</th>\n",
       "      <th>dst_host_same_src_port_rate</th>\n",
       "      <th>dst_host_srv_diff_host_rate</th>\n",
       "      <th>dst_host_serror_rate</th>\n",
       "      <th>dst_host_srv_serror_rate</th>\n",
       "      <th>dst_host_rerror_rate</th>\n",
       "      <th>dst_host_srv_rerror_rate</th>\n",
       "    </tr>\n",
       "  </thead>\n",
       "  <tbody>\n",
       "    <tr>\n",
       "      <th>0</th>\n",
       "      <td>0.0</td>\n",
       "      <td>1</td>\n",
       "      <td>20</td>\n",
       "      <td>9</td>\n",
       "      <td>491.0</td>\n",
       "      <td>0.0</td>\n",
       "      <td>0</td>\n",
       "      <td>0.0</td>\n",
       "      <td>0.0</td>\n",
       "      <td>0.0</td>\n",
       "      <td>...</td>\n",
       "      <td>150.0</td>\n",
       "      <td>25.0</td>\n",
       "      <td>0.17</td>\n",
       "      <td>0.03</td>\n",
       "      <td>0.17</td>\n",
       "      <td>0.00</td>\n",
       "      <td>0.00</td>\n",
       "      <td>0.00</td>\n",
       "      <td>0.05</td>\n",
       "      <td>0.00</td>\n",
       "    </tr>\n",
       "    <tr>\n",
       "      <th>1</th>\n",
       "      <td>0.0</td>\n",
       "      <td>2</td>\n",
       "      <td>44</td>\n",
       "      <td>9</td>\n",
       "      <td>146.0</td>\n",
       "      <td>0.0</td>\n",
       "      <td>0</td>\n",
       "      <td>0.0</td>\n",
       "      <td>0.0</td>\n",
       "      <td>0.0</td>\n",
       "      <td>...</td>\n",
       "      <td>255.0</td>\n",
       "      <td>1.0</td>\n",
       "      <td>0.00</td>\n",
       "      <td>0.60</td>\n",
       "      <td>0.88</td>\n",
       "      <td>0.00</td>\n",
       "      <td>0.00</td>\n",
       "      <td>0.00</td>\n",
       "      <td>0.00</td>\n",
       "      <td>0.00</td>\n",
       "    </tr>\n",
       "    <tr>\n",
       "      <th>2</th>\n",
       "      <td>0.0</td>\n",
       "      <td>1</td>\n",
       "      <td>49</td>\n",
       "      <td>5</td>\n",
       "      <td>0.0</td>\n",
       "      <td>0.0</td>\n",
       "      <td>0</td>\n",
       "      <td>0.0</td>\n",
       "      <td>0.0</td>\n",
       "      <td>0.0</td>\n",
       "      <td>...</td>\n",
       "      <td>255.0</td>\n",
       "      <td>26.0</td>\n",
       "      <td>0.10</td>\n",
       "      <td>0.05</td>\n",
       "      <td>0.00</td>\n",
       "      <td>0.00</td>\n",
       "      <td>1.00</td>\n",
       "      <td>1.00</td>\n",
       "      <td>0.00</td>\n",
       "      <td>0.00</td>\n",
       "    </tr>\n",
       "    <tr>\n",
       "      <th>3</th>\n",
       "      <td>0.0</td>\n",
       "      <td>1</td>\n",
       "      <td>24</td>\n",
       "      <td>9</td>\n",
       "      <td>232.0</td>\n",
       "      <td>8153.0</td>\n",
       "      <td>0</td>\n",
       "      <td>0.0</td>\n",
       "      <td>0.0</td>\n",
       "      <td>0.0</td>\n",
       "      <td>...</td>\n",
       "      <td>30.0</td>\n",
       "      <td>255.0</td>\n",
       "      <td>1.00</td>\n",
       "      <td>0.00</td>\n",
       "      <td>0.03</td>\n",
       "      <td>0.04</td>\n",
       "      <td>0.03</td>\n",
       "      <td>0.01</td>\n",
       "      <td>0.00</td>\n",
       "      <td>0.01</td>\n",
       "    </tr>\n",
       "    <tr>\n",
       "      <th>4</th>\n",
       "      <td>0.0</td>\n",
       "      <td>1</td>\n",
       "      <td>24</td>\n",
       "      <td>9</td>\n",
       "      <td>199.0</td>\n",
       "      <td>420.0</td>\n",
       "      <td>0</td>\n",
       "      <td>0.0</td>\n",
       "      <td>0.0</td>\n",
       "      <td>0.0</td>\n",
       "      <td>...</td>\n",
       "      <td>255.0</td>\n",
       "      <td>255.0</td>\n",
       "      <td>1.00</td>\n",
       "      <td>0.00</td>\n",
       "      <td>0.00</td>\n",
       "      <td>0.00</td>\n",
       "      <td>0.00</td>\n",
       "      <td>0.00</td>\n",
       "      <td>0.00</td>\n",
       "      <td>0.00</td>\n",
       "    </tr>\n",
       "  </tbody>\n",
       "</table>\n",
       "<p>5 rows × 41 columns</p>\n",
       "</div>"
      ],
      "text/plain": [
       "   duration  protocol_type  service  flag  src_bytes  dst_bytes  land  \\\n",
       "0       0.0              1       20     9      491.0        0.0     0   \n",
       "1       0.0              2       44     9      146.0        0.0     0   \n",
       "2       0.0              1       49     5        0.0        0.0     0   \n",
       "3       0.0              1       24     9      232.0     8153.0     0   \n",
       "4       0.0              1       24     9      199.0      420.0     0   \n",
       "\n",
       "   wrong_fragment  urgent  hot  ...  dst_host_count  dst_host_srv_count  \\\n",
       "0             0.0     0.0  0.0  ...           150.0                25.0   \n",
       "1             0.0     0.0  0.0  ...           255.0                 1.0   \n",
       "2             0.0     0.0  0.0  ...           255.0                26.0   \n",
       "3             0.0     0.0  0.0  ...            30.0               255.0   \n",
       "4             0.0     0.0  0.0  ...           255.0               255.0   \n",
       "\n",
       "   dst_host_same_srv_rate  dst_host_diff_srv_rate  \\\n",
       "0                    0.17                    0.03   \n",
       "1                    0.00                    0.60   \n",
       "2                    0.10                    0.05   \n",
       "3                    1.00                    0.00   \n",
       "4                    1.00                    0.00   \n",
       "\n",
       "   dst_host_same_src_port_rate  dst_host_srv_diff_host_rate  \\\n",
       "0                         0.17                         0.00   \n",
       "1                         0.88                         0.00   \n",
       "2                         0.00                         0.00   \n",
       "3                         0.03                         0.04   \n",
       "4                         0.00                         0.00   \n",
       "\n",
       "   dst_host_serror_rate  dst_host_srv_serror_rate  dst_host_rerror_rate  \\\n",
       "0                  0.00                      0.00                  0.05   \n",
       "1                  0.00                      0.00                  0.00   \n",
       "2                  1.00                      1.00                  0.00   \n",
       "3                  0.03                      0.01                  0.00   \n",
       "4                  0.00                      0.00                  0.00   \n",
       "\n",
       "   dst_host_srv_rerror_rate  \n",
       "0                      0.00  \n",
       "1                      0.00  \n",
       "2                      0.00  \n",
       "3                      0.01  \n",
       "4                      0.00  \n",
       "\n",
       "[5 rows x 41 columns]"
      ]
     },
     "execution_count": 15,
     "metadata": {},
     "output_type": "execute_result"
    }
   ],
   "source": [
    "X.head()"
   ]
  },
  {
   "cell_type": "markdown",
   "id": "949f16ce",
   "metadata": {
    "papermill": {
     "duration": 0.010152,
     "end_time": "2024-06-04T17:13:38.646085",
     "exception": false,
     "start_time": "2024-06-04T17:13:38.635933",
     "status": "completed"
    },
    "tags": []
   },
   "source": [
    "### Eliminate correlated features."
   ]
  },
  {
   "cell_type": "code",
   "execution_count": 16,
   "id": "2ade90bf",
   "metadata": {
    "execution": {
     "iopub.execute_input": "2024-06-04T17:13:38.668758Z",
     "iopub.status.busy": "2024-06-04T17:13:38.667783Z",
     "iopub.status.idle": "2024-06-04T17:13:39.322530Z",
     "shell.execute_reply": "2024-06-04T17:13:39.321163Z"
    },
    "papermill": {
     "duration": 0.6688,
     "end_time": "2024-06-04T17:13:39.325100",
     "exception": false,
     "start_time": "2024-06-04T17:13:38.656300",
     "status": "completed"
    },
    "tags": []
   },
   "outputs": [
    {
     "name": "stdout",
     "output_type": "stream",
     "text": [
      "Shape of DataFrame after dropping correlated features: (125973, 35)\n"
     ]
    }
   ],
   "source": [
    "import pandas as pd\n",
    "import numpy as np\n",
    "\n",
    "# Assuming df_cleaned is your DataFrame after removing null-valued columns\n",
    "# Compute correlation matrix\n",
    "\n",
    "correlation_matrix = X.corr().abs()\n",
    "\n",
    "# Select upper triangle of correlation matrix\n",
    "upper_triangle = correlation_matrix.where(np.triu(np.ones(correlation_matrix.shape), k=1).astype(np.bool_))\n",
    "\n",
    "# Find features with correlation greater than threshold (e.g., 0.95)\n",
    "threshold = 0.95\n",
    "correlated_features = [column for column in upper_triangle.columns if any(upper_triangle[column] > threshold)]\n",
    "\n",
    "# Drop correlated features\n",
    "df_uncorrelated = X.drop(columns=correlated_features)\n",
    "\n",
    "# Check the shape of the DataFrame after dropping correlated features\n",
    "print(\"Shape of DataFrame after dropping correlated features:\", df_uncorrelated.shape)"
   ]
  },
  {
   "cell_type": "markdown",
   "id": "c98d7fc8",
   "metadata": {
    "papermill": {
     "duration": 0.009905,
     "end_time": "2024-06-04T17:13:39.345491",
     "exception": false,
     "start_time": "2024-06-04T17:13:39.335586",
     "status": "completed"
    },
    "tags": []
   },
   "source": [
    "### uncorrelated collumns"
   ]
  },
  {
   "cell_type": "code",
   "execution_count": 17,
   "id": "e7e4d34d",
   "metadata": {
    "execution": {
     "iopub.execute_input": "2024-06-04T17:13:39.367833Z",
     "iopub.status.busy": "2024-06-04T17:13:39.367011Z",
     "iopub.status.idle": "2024-06-04T17:13:39.374126Z",
     "shell.execute_reply": "2024-06-04T17:13:39.372933Z"
    },
    "papermill": {
     "duration": 0.020413,
     "end_time": "2024-06-04T17:13:39.376202",
     "exception": false,
     "start_time": "2024-06-04T17:13:39.355789",
     "status": "completed"
    },
    "tags": []
   },
   "outputs": [
    {
     "data": {
      "text/plain": [
       "Index(['duration', 'protocol_type', 'service', 'flag', 'src_bytes',\n",
       "       'dst_bytes', 'land', 'wrong_fragment', 'urgent', 'hot',\n",
       "       'num_failed_logins', 'logged_in', 'num_compromised', 'root_shell',\n",
       "       'su_attempted', 'num_file_creations', 'num_shells', 'num_access_files',\n",
       "       'num_outbound_cmds', 'is_host_login', 'is_guest_login', 'count',\n",
       "       'srv_count', 'serror_rate', 'rerror_rate', 'same_srv_rate',\n",
       "       'diff_srv_rate', 'srv_diff_host_rate', 'dst_host_count',\n",
       "       'dst_host_srv_count', 'dst_host_same_srv_rate',\n",
       "       'dst_host_diff_srv_rate', 'dst_host_same_src_port_rate',\n",
       "       'dst_host_srv_diff_host_rate', 'dst_host_rerror_rate'],\n",
       "      dtype='object')"
      ]
     },
     "execution_count": 17,
     "metadata": {},
     "output_type": "execute_result"
    }
   ],
   "source": [
    "df_uncorrelated.columns"
   ]
  },
  {
   "cell_type": "code",
   "execution_count": 18,
   "id": "d0925489",
   "metadata": {
    "execution": {
     "iopub.execute_input": "2024-06-04T17:13:39.398423Z",
     "iopub.status.busy": "2024-06-04T17:13:39.398043Z",
     "iopub.status.idle": "2024-06-04T17:13:39.545599Z",
     "shell.execute_reply": "2024-06-04T17:13:39.544553Z"
    },
    "papermill": {
     "duration": 0.161766,
     "end_time": "2024-06-04T17:13:39.548290",
     "exception": false,
     "start_time": "2024-06-04T17:13:39.386524",
     "status": "completed"
    },
    "tags": []
   },
   "outputs": [],
   "source": [
    "\n",
    "# Specify the columns to be standardized\n",
    "columns_to_standardize = df_uncorrelated.columns\n",
    "\n",
    "# Initialize the StandardScaler\n",
    "scaler = StandardScaler()\n",
    "\n",
    "# Fit and transform the specified columns\n",
    "X = scaler.fit_transform(X[columns_to_standardize])\n"
   ]
  },
  {
   "cell_type": "code",
   "execution_count": 19,
   "id": "790aff31",
   "metadata": {
    "execution": {
     "iopub.execute_input": "2024-06-04T17:13:39.571597Z",
     "iopub.status.busy": "2024-06-04T17:13:39.570345Z",
     "iopub.status.idle": "2024-06-04T17:13:39.576864Z",
     "shell.execute_reply": "2024-06-04T17:13:39.575711Z"
    },
    "papermill": {
     "duration": 0.020297,
     "end_time": "2024-06-04T17:13:39.579203",
     "exception": false,
     "start_time": "2024-06-04T17:13:39.558906",
     "status": "completed"
    },
    "tags": []
   },
   "outputs": [
    {
     "name": "stdout",
     "output_type": "stream",
     "text": [
      "X : <class 'numpy.ndarray'> Y : <class 'numpy.ndarray'>\n"
     ]
    }
   ],
   "source": [
    "print(f\"X : {type(X)} Y : {type(Y)}\")"
   ]
  },
  {
   "cell_type": "markdown",
   "id": "6ad97230",
   "metadata": {
    "papermill": {
     "duration": 0.009742,
     "end_time": "2024-06-04T17:13:39.599213",
     "exception": false,
     "start_time": "2024-06-04T17:13:39.589471",
     "status": "completed"
    },
    "tags": []
   },
   "source": [
    "## Validation Data Preparation"
   ]
  },
  {
   "cell_type": "code",
   "execution_count": 20,
   "id": "36eb94dd",
   "metadata": {
    "execution": {
     "iopub.execute_input": "2024-06-04T17:13:39.621468Z",
     "iopub.status.busy": "2024-06-04T17:13:39.620707Z",
     "iopub.status.idle": "2024-06-04T17:13:40.105144Z",
     "shell.execute_reply": "2024-06-04T17:13:40.103985Z"
    },
    "papermill": {
     "duration": 0.4984,
     "end_time": "2024-06-04T17:13:40.107808",
     "exception": false,
     "start_time": "2024-06-04T17:13:39.609408",
     "status": "completed"
    },
    "tags": []
   },
   "outputs": [],
   "source": [
    "data_validate = []\n",
    "with open('/kaggle/input/nslkdd/KDDTrain+_20Percent.arff', \"r\") as f:\n",
    "    for line in f:\n",
    "        line = line.replace('\\n', '')\n",
    "        data_validate.append(line.split(','))\n",
    "\n",
    "\n",
    "names = ['duration',  'protocol_type', 'service',  'flag',  'src_bytes' , 'dst_bytes' , 'land' , 'wrong_fragment' , 'urgent' , 'hot' , 'num_failed_logins' ,\n",
    " 'logged_in' , 'num_compromised' , 'root_shell' , 'su_attempted' , 'num_root' , 'num_file_creations' , 'num_shells' , 'num_access_files' , 'num_outbound_cmds' ,\n",
    " 'is_host_login' , 'is_guest_login' , 'count' , 'srv_count' , 'serror_rate' , 'srv_serror_rate' , 'rerror_rate' , 'srv_rerror_rate' , 'same_srv_rate' ,\n",
    " 'diff_srv_rate' , 'srv_diff_host_rate' , 'dst_host_count' , 'dst_host_srv_count' , 'dst_host_same_srv_rate' , 'dst_host_diff_srv_rate' , 'dst_host_same_src_port_rate' ,\n",
    " 'dst_host_srv_diff_host_rate' , 'dst_host_serror_rate', 'dst_host_srv_serror_rate' , 'dst_host_rerror_rate' , 'dst_host_srv_rerror_rate' , 'class' ,]\n",
    "    \n",
    "df_validate = pd.DataFrame(data[44:], columns=names)"
   ]
  },
  {
   "cell_type": "code",
   "execution_count": 21,
   "id": "ba3c4911",
   "metadata": {
    "execution": {
     "iopub.execute_input": "2024-06-04T17:13:40.130739Z",
     "iopub.status.busy": "2024-06-04T17:13:40.130340Z",
     "iopub.status.idle": "2024-06-04T17:13:41.091650Z",
     "shell.execute_reply": "2024-06-04T17:13:41.090562Z"
    },
    "papermill": {
     "duration": 0.975734,
     "end_time": "2024-06-04T17:13:41.094373",
     "exception": false,
     "start_time": "2024-06-04T17:13:40.118639",
     "status": "completed"
    },
    "tags": []
   },
   "outputs": [],
   "source": [
    "# Convert columns to appropriate data types\n",
    "df_validate = df_validate.astype(expected_data_types)"
   ]
  },
  {
   "cell_type": "markdown",
   "id": "cfb3f360",
   "metadata": {
    "papermill": {
     "duration": 0.010128,
     "end_time": "2024-06-04T17:13:41.115122",
     "exception": false,
     "start_time": "2024-06-04T17:13:41.104994",
     "status": "completed"
    },
    "tags": []
   },
   "source": [
    "# Preparing validation data"
   ]
  },
  {
   "cell_type": "code",
   "execution_count": 22,
   "id": "2d2380fc",
   "metadata": {
    "execution": {
     "iopub.execute_input": "2024-06-04T17:13:41.137707Z",
     "iopub.status.busy": "2024-06-04T17:13:41.137298Z",
     "iopub.status.idle": "2024-06-04T17:13:41.177950Z",
     "shell.execute_reply": "2024-06-04T17:13:41.176689Z"
    },
    "papermill": {
     "duration": 0.055022,
     "end_time": "2024-06-04T17:13:41.180653",
     "exception": false,
     "start_time": "2024-06-04T17:13:41.125631",
     "status": "completed"
    },
    "tags": []
   },
   "outputs": [],
   "source": [
    "X_val = df.drop([\"class\"],axis = 1)"
   ]
  },
  {
   "cell_type": "markdown",
   "id": "19e6a078",
   "metadata": {
    "papermill": {
     "duration": 0.01014,
     "end_time": "2024-06-04T17:13:41.201360",
     "exception": false,
     "start_time": "2024-06-04T17:13:41.191220",
     "status": "completed"
    },
    "tags": []
   },
   "source": [
    "### Encodign categoricals"
   ]
  },
  {
   "cell_type": "code",
   "execution_count": 23,
   "id": "98a2d9cc",
   "metadata": {
    "execution": {
     "iopub.execute_input": "2024-06-04T17:13:41.224153Z",
     "iopub.status.busy": "2024-06-04T17:13:41.223734Z",
     "iopub.status.idle": "2024-06-04T17:13:41.235728Z",
     "shell.execute_reply": "2024-06-04T17:13:41.234638Z"
    },
    "papermill": {
     "duration": 0.026215,
     "end_time": "2024-06-04T17:13:41.238233",
     "exception": false,
     "start_time": "2024-06-04T17:13:41.212018",
     "status": "completed"
    },
    "tags": []
   },
   "outputs": [],
   "source": [
    "# Protocol type\n",
    "X_val['protocol_type'] = df_validate['protocol_type'].astype('category').cat.codes\n",
    "\n",
    "# Land\n",
    "X_val['land'] = pd.Categorical(df_validate['land'], ['0', '1']).codes\n",
    "\n",
    "# Is logged in\n",
    "X_val['logged_in'] = pd.Categorical(df_validate['logged_in'], ['0', '1']).codes\n",
    "\n",
    "# Host logged in\n",
    "X_val['is_host_login'] = pd.Categorical(df_validate['is_host_login'], ['0', '1']).codes\n",
    "\n",
    "# Guest logged in\n",
    "X_val['is_guest_login'] = pd.Categorical(df_validate['is_guest_login'], ['0', '1']).codes\n",
    "\n",
    "# Class\n",
    "Y_val = pd.Categorical(df_validate['class'], ['normal', 'anomaly']).codes"
   ]
  },
  {
   "cell_type": "code",
   "execution_count": 24,
   "id": "9ec44b98",
   "metadata": {
    "execution": {
     "iopub.execute_input": "2024-06-04T17:13:41.261246Z",
     "iopub.status.busy": "2024-06-04T17:13:41.260806Z",
     "iopub.status.idle": "2024-06-04T17:13:41.330833Z",
     "shell.execute_reply": "2024-06-04T17:13:41.329085Z"
    },
    "papermill": {
     "duration": 0.084732,
     "end_time": "2024-06-04T17:13:41.333570",
     "exception": false,
     "start_time": "2024-06-04T17:13:41.248838",
     "status": "completed"
    },
    "tags": []
   },
   "outputs": [],
   "source": [
    "from sklearn.preprocessing import LabelEncoder\n",
    "\n",
    "le_service = LabelEncoder()\n",
    "X_val['service'] = le_service.fit_transform(df_validate['service'])\n",
    "\n",
    "le_flag = LabelEncoder()\n",
    "X_val['flag'] = le_flag.fit_transform(df_validate['flag'])"
   ]
  },
  {
   "cell_type": "markdown",
   "id": "864a0ea6",
   "metadata": {
    "papermill": {
     "duration": 0.012841,
     "end_time": "2024-06-04T17:13:41.357437",
     "exception": false,
     "start_time": "2024-06-04T17:13:41.344596",
     "status": "completed"
    },
    "tags": []
   },
   "source": [
    "### Keeping only uncorrelateds"
   ]
  },
  {
   "cell_type": "code",
   "execution_count": 25,
   "id": "6c5d2e44",
   "metadata": {
    "execution": {
     "iopub.execute_input": "2024-06-04T17:13:41.382785Z",
     "iopub.status.busy": "2024-06-04T17:13:41.381761Z",
     "iopub.status.idle": "2024-06-04T17:13:41.530057Z",
     "shell.execute_reply": "2024-06-04T17:13:41.528186Z"
    },
    "papermill": {
     "duration": 0.163415,
     "end_time": "2024-06-04T17:13:41.532744",
     "exception": false,
     "start_time": "2024-06-04T17:13:41.369329",
     "status": "completed"
    },
    "tags": []
   },
   "outputs": [],
   "source": [
    "# Specify the columns to be standardized\n",
    "columns_to_standardize = df_uncorrelated.columns\n",
    "\n",
    "# Initialize the StandardScaler\n",
    "scaler = StandardScaler()\n",
    "\n",
    "# Fit and transform the specified columns\n",
    "X_val = scaler.fit_transform(X_val[columns_to_standardize])"
   ]
  },
  {
   "cell_type": "code",
   "execution_count": 26,
   "id": "68630472",
   "metadata": {
    "execution": {
     "iopub.execute_input": "2024-06-04T17:13:41.555991Z",
     "iopub.status.busy": "2024-06-04T17:13:41.555576Z",
     "iopub.status.idle": "2024-06-04T17:13:41.562394Z",
     "shell.execute_reply": "2024-06-04T17:13:41.561206Z"
    },
    "papermill": {
     "duration": 0.020992,
     "end_time": "2024-06-04T17:13:41.564787",
     "exception": false,
     "start_time": "2024-06-04T17:13:41.543795",
     "status": "completed"
    },
    "tags": []
   },
   "outputs": [
    {
     "data": {
      "text/plain": [
       "numpy.ndarray"
      ]
     },
     "execution_count": 26,
     "metadata": {},
     "output_type": "execute_result"
    }
   ],
   "source": [
    "type(X_val)"
   ]
  },
  {
   "cell_type": "markdown",
   "id": "d26a3ff4",
   "metadata": {
    "papermill": {
     "duration": 0.010586,
     "end_time": "2024-06-04T17:13:41.586044",
     "exception": false,
     "start_time": "2024-06-04T17:13:41.575458",
     "status": "completed"
    },
    "tags": []
   },
   "source": [
    "### Building Model with AutoEncoder"
   ]
  },
  {
   "cell_type": "code",
   "execution_count": 27,
   "id": "6eb3ee60",
   "metadata": {
    "execution": {
     "iopub.execute_input": "2024-06-04T17:13:41.610089Z",
     "iopub.status.busy": "2024-06-04T17:13:41.609032Z",
     "iopub.status.idle": "2024-06-04T17:59:37.935420Z",
     "shell.execute_reply": "2024-06-04T17:59:37.934087Z"
    },
    "papermill": {
     "duration": 2758.797418,
     "end_time": "2024-06-04T17:59:40.394397",
     "exception": false,
     "start_time": "2024-06-04T17:13:41.596979",
     "status": "completed"
    },
    "tags": []
   },
   "outputs": [
    {
     "name": "stderr",
     "output_type": "stream",
     "text": [
      "2024-06-04 17:13:43.866528: E external/local_xla/xla/stream_executor/cuda/cuda_dnn.cc:9261] Unable to register cuDNN factory: Attempting to register factory for plugin cuDNN when one has already been registered\n",
      "2024-06-04 17:13:43.866648: E external/local_xla/xla/stream_executor/cuda/cuda_fft.cc:607] Unable to register cuFFT factory: Attempting to register factory for plugin cuFFT when one has already been registered\n",
      "2024-06-04 17:13:44.010646: E external/local_xla/xla/stream_executor/cuda/cuda_blas.cc:1515] Unable to register cuBLAS factory: Attempting to register factory for plugin cuBLAS when one has already been registered\n"
     ]
    },
    {
     "data": {
      "text/html": [
       "<pre style=\"white-space:pre;overflow-x:auto;line-height:normal;font-family:Menlo,'DejaVu Sans Mono',consolas,'Courier New',monospace\"><span style=\"font-weight: bold\">Model: \"functional_1\"</span>\n",
       "</pre>\n"
      ],
      "text/plain": [
       "\u001b[1mModel: \"functional_1\"\u001b[0m\n"
      ]
     },
     "metadata": {},
     "output_type": "display_data"
    },
    {
     "data": {
      "text/html": [
       "<pre style=\"white-space:pre;overflow-x:auto;line-height:normal;font-family:Menlo,'DejaVu Sans Mono',consolas,'Courier New',monospace\">┏━━━━━━━━━━━━━━━━━━━━━┳━━━━━━━━━━━━━━━━━━━┳━━━━━━━━━━━━┳━━━━━━━━━━━━━━━━━━━┓\n",
       "┃<span style=\"font-weight: bold\"> Layer (type)        </span>┃<span style=\"font-weight: bold\"> Output Shape      </span>┃<span style=\"font-weight: bold\">    Param # </span>┃<span style=\"font-weight: bold\"> Connected to      </span>┃\n",
       "┡━━━━━━━━━━━━━━━━━━━━━╇━━━━━━━━━━━━━━━━━━━╇━━━━━━━━━━━━╇━━━━━━━━━━━━━━━━━━━┩\n",
       "│ input_layer         │ (<span style=\"color: #00d7ff; text-decoration-color: #00d7ff\">None</span>, <span style=\"color: #00af00; text-decoration-color: #00af00\">35</span>, <span style=\"color: #00af00; text-decoration-color: #00af00\">1</span>)     │          <span style=\"color: #00af00; text-decoration-color: #00af00\">0</span> │ -                 │\n",
       "│ (<span style=\"color: #0087ff; text-decoration-color: #0087ff\">InputLayer</span>)        │                   │            │                   │\n",
       "├─────────────────────┼───────────────────┼────────────┼───────────────────┤\n",
       "│ conv1d (<span style=\"color: #0087ff; text-decoration-color: #0087ff\">Conv1D</span>)     │ (<span style=\"color: #00d7ff; text-decoration-color: #00d7ff\">None</span>, <span style=\"color: #00af00; text-decoration-color: #00af00\">33</span>, <span style=\"color: #00af00; text-decoration-color: #00af00\">64</span>)    │        <span style=\"color: #00af00; text-decoration-color: #00af00\">256</span> │ input_layer[<span style=\"color: #00af00; text-decoration-color: #00af00\">0</span>][<span style=\"color: #00af00; text-decoration-color: #00af00\">0</span>] │\n",
       "├─────────────────────┼───────────────────┼────────────┼───────────────────┤\n",
       "│ lstm (<span style=\"color: #0087ff; text-decoration-color: #0087ff\">LSTM</span>)         │ (<span style=\"color: #00d7ff; text-decoration-color: #00d7ff\">None</span>, <span style=\"color: #00af00; text-decoration-color: #00af00\">35</span>, <span style=\"color: #00af00; text-decoration-color: #00af00\">64</span>)    │     <span style=\"color: #00af00; text-decoration-color: #00af00\">16,896</span> │ input_layer[<span style=\"color: #00af00; text-decoration-color: #00af00\">0</span>][<span style=\"color: #00af00; text-decoration-color: #00af00\">0</span>] │\n",
       "├─────────────────────┼───────────────────┼────────────┼───────────────────┤\n",
       "│ max_pooling1d       │ (<span style=\"color: #00d7ff; text-decoration-color: #00d7ff\">None</span>, <span style=\"color: #00af00; text-decoration-color: #00af00\">16</span>, <span style=\"color: #00af00; text-decoration-color: #00af00\">64</span>)    │          <span style=\"color: #00af00; text-decoration-color: #00af00\">0</span> │ conv1d[<span style=\"color: #00af00; text-decoration-color: #00af00\">0</span>][<span style=\"color: #00af00; text-decoration-color: #00af00\">0</span>]      │\n",
       "│ (<span style=\"color: #0087ff; text-decoration-color: #0087ff\">MaxPooling1D</span>)      │                   │            │                   │\n",
       "├─────────────────────┼───────────────────┼────────────┼───────────────────┤\n",
       "│ dropout (<span style=\"color: #0087ff; text-decoration-color: #0087ff\">Dropout</span>)   │ (<span style=\"color: #00d7ff; text-decoration-color: #00d7ff\">None</span>, <span style=\"color: #00af00; text-decoration-color: #00af00\">35</span>, <span style=\"color: #00af00; text-decoration-color: #00af00\">64</span>)    │          <span style=\"color: #00af00; text-decoration-color: #00af00\">0</span> │ lstm[<span style=\"color: #00af00; text-decoration-color: #00af00\">0</span>][<span style=\"color: #00af00; text-decoration-color: #00af00\">0</span>]        │\n",
       "├─────────────────────┼───────────────────┼────────────┼───────────────────┤\n",
       "│ flatten (<span style=\"color: #0087ff; text-decoration-color: #0087ff\">Flatten</span>)   │ (<span style=\"color: #00d7ff; text-decoration-color: #00d7ff\">None</span>, <span style=\"color: #00af00; text-decoration-color: #00af00\">1024</span>)      │          <span style=\"color: #00af00; text-decoration-color: #00af00\">0</span> │ max_pooling1d[<span style=\"color: #00af00; text-decoration-color: #00af00\">0</span>]… │\n",
       "├─────────────────────┼───────────────────┼────────────┼───────────────────┤\n",
       "│ lstm_1 (<span style=\"color: #0087ff; text-decoration-color: #0087ff\">LSTM</span>)       │ (<span style=\"color: #00d7ff; text-decoration-color: #00d7ff\">None</span>, <span style=\"color: #00af00; text-decoration-color: #00af00\">32</span>)        │     <span style=\"color: #00af00; text-decoration-color: #00af00\">12,416</span> │ dropout[<span style=\"color: #00af00; text-decoration-color: #00af00\">0</span>][<span style=\"color: #00af00; text-decoration-color: #00af00\">0</span>]     │\n",
       "├─────────────────────┼───────────────────┼────────────┼───────────────────┤\n",
       "│ dense (<span style=\"color: #0087ff; text-decoration-color: #0087ff\">Dense</span>)       │ (<span style=\"color: #00d7ff; text-decoration-color: #00d7ff\">None</span>, <span style=\"color: #00af00; text-decoration-color: #00af00\">32</span>)        │     <span style=\"color: #00af00; text-decoration-color: #00af00\">32,800</span> │ flatten[<span style=\"color: #00af00; text-decoration-color: #00af00\">0</span>][<span style=\"color: #00af00; text-decoration-color: #00af00\">0</span>]     │\n",
       "├─────────────────────┼───────────────────┼────────────┼───────────────────┤\n",
       "│ dropout_1 (<span style=\"color: #0087ff; text-decoration-color: #0087ff\">Dropout</span>) │ (<span style=\"color: #00d7ff; text-decoration-color: #00d7ff\">None</span>, <span style=\"color: #00af00; text-decoration-color: #00af00\">32</span>)        │          <span style=\"color: #00af00; text-decoration-color: #00af00\">0</span> │ lstm_1[<span style=\"color: #00af00; text-decoration-color: #00af00\">0</span>][<span style=\"color: #00af00; text-decoration-color: #00af00\">0</span>]      │\n",
       "├─────────────────────┼───────────────────┼────────────┼───────────────────┤\n",
       "│ dropout_2 (<span style=\"color: #0087ff; text-decoration-color: #0087ff\">Dropout</span>) │ (<span style=\"color: #00d7ff; text-decoration-color: #00d7ff\">None</span>, <span style=\"color: #00af00; text-decoration-color: #00af00\">32</span>)        │          <span style=\"color: #00af00; text-decoration-color: #00af00\">0</span> │ dense[<span style=\"color: #00af00; text-decoration-color: #00af00\">0</span>][<span style=\"color: #00af00; text-decoration-color: #00af00\">0</span>]       │\n",
       "├─────────────────────┼───────────────────┼────────────┼───────────────────┤\n",
       "│ concatenate         │ (<span style=\"color: #00d7ff; text-decoration-color: #00d7ff\">None</span>, <span style=\"color: #00af00; text-decoration-color: #00af00\">64</span>)        │          <span style=\"color: #00af00; text-decoration-color: #00af00\">0</span> │ dropout_1[<span style=\"color: #00af00; text-decoration-color: #00af00\">0</span>][<span style=\"color: #00af00; text-decoration-color: #00af00\">0</span>],  │\n",
       "│ (<span style=\"color: #0087ff; text-decoration-color: #0087ff\">Concatenate</span>)       │                   │            │ dropout_2[<span style=\"color: #00af00; text-decoration-color: #00af00\">0</span>][<span style=\"color: #00af00; text-decoration-color: #00af00\">0</span>]   │\n",
       "├─────────────────────┼───────────────────┼────────────┼───────────────────┤\n",
       "│ dense_1 (<span style=\"color: #0087ff; text-decoration-color: #0087ff\">Dense</span>)     │ (<span style=\"color: #00d7ff; text-decoration-color: #00d7ff\">None</span>, <span style=\"color: #00af00; text-decoration-color: #00af00\">64</span>)        │      <span style=\"color: #00af00; text-decoration-color: #00af00\">4,160</span> │ concatenate[<span style=\"color: #00af00; text-decoration-color: #00af00\">0</span>][<span style=\"color: #00af00; text-decoration-color: #00af00\">0</span>] │\n",
       "├─────────────────────┼───────────────────┼────────────┼───────────────────┤\n",
       "│ dropout_3 (<span style=\"color: #0087ff; text-decoration-color: #0087ff\">Dropout</span>) │ (<span style=\"color: #00d7ff; text-decoration-color: #00d7ff\">None</span>, <span style=\"color: #00af00; text-decoration-color: #00af00\">64</span>)        │          <span style=\"color: #00af00; text-decoration-color: #00af00\">0</span> │ dense_1[<span style=\"color: #00af00; text-decoration-color: #00af00\">0</span>][<span style=\"color: #00af00; text-decoration-color: #00af00\">0</span>]     │\n",
       "├─────────────────────┼───────────────────┼────────────┼───────────────────┤\n",
       "│ dense_2 (<span style=\"color: #0087ff; text-decoration-color: #0087ff\">Dense</span>)     │ (<span style=\"color: #00d7ff; text-decoration-color: #00d7ff\">None</span>, <span style=\"color: #00af00; text-decoration-color: #00af00\">1</span>)         │         <span style=\"color: #00af00; text-decoration-color: #00af00\">65</span> │ dropout_3[<span style=\"color: #00af00; text-decoration-color: #00af00\">0</span>][<span style=\"color: #00af00; text-decoration-color: #00af00\">0</span>]   │\n",
       "└─────────────────────┴───────────────────┴────────────┴───────────────────┘\n",
       "</pre>\n"
      ],
      "text/plain": [
       "┏━━━━━━━━━━━━━━━━━━━━━┳━━━━━━━━━━━━━━━━━━━┳━━━━━━━━━━━━┳━━━━━━━━━━━━━━━━━━━┓\n",
       "┃\u001b[1m \u001b[0m\u001b[1mLayer (type)       \u001b[0m\u001b[1m \u001b[0m┃\u001b[1m \u001b[0m\u001b[1mOutput Shape     \u001b[0m\u001b[1m \u001b[0m┃\u001b[1m \u001b[0m\u001b[1m   Param #\u001b[0m\u001b[1m \u001b[0m┃\u001b[1m \u001b[0m\u001b[1mConnected to     \u001b[0m\u001b[1m \u001b[0m┃\n",
       "┡━━━━━━━━━━━━━━━━━━━━━╇━━━━━━━━━━━━━━━━━━━╇━━━━━━━━━━━━╇━━━━━━━━━━━━━━━━━━━┩\n",
       "│ input_layer         │ (\u001b[38;5;45mNone\u001b[0m, \u001b[38;5;34m35\u001b[0m, \u001b[38;5;34m1\u001b[0m)     │          \u001b[38;5;34m0\u001b[0m │ -                 │\n",
       "│ (\u001b[38;5;33mInputLayer\u001b[0m)        │                   │            │                   │\n",
       "├─────────────────────┼───────────────────┼────────────┼───────────────────┤\n",
       "│ conv1d (\u001b[38;5;33mConv1D\u001b[0m)     │ (\u001b[38;5;45mNone\u001b[0m, \u001b[38;5;34m33\u001b[0m, \u001b[38;5;34m64\u001b[0m)    │        \u001b[38;5;34m256\u001b[0m │ input_layer[\u001b[38;5;34m0\u001b[0m][\u001b[38;5;34m0\u001b[0m] │\n",
       "├─────────────────────┼───────────────────┼────────────┼───────────────────┤\n",
       "│ lstm (\u001b[38;5;33mLSTM\u001b[0m)         │ (\u001b[38;5;45mNone\u001b[0m, \u001b[38;5;34m35\u001b[0m, \u001b[38;5;34m64\u001b[0m)    │     \u001b[38;5;34m16,896\u001b[0m │ input_layer[\u001b[38;5;34m0\u001b[0m][\u001b[38;5;34m0\u001b[0m] │\n",
       "├─────────────────────┼───────────────────┼────────────┼───────────────────┤\n",
       "│ max_pooling1d       │ (\u001b[38;5;45mNone\u001b[0m, \u001b[38;5;34m16\u001b[0m, \u001b[38;5;34m64\u001b[0m)    │          \u001b[38;5;34m0\u001b[0m │ conv1d[\u001b[38;5;34m0\u001b[0m][\u001b[38;5;34m0\u001b[0m]      │\n",
       "│ (\u001b[38;5;33mMaxPooling1D\u001b[0m)      │                   │            │                   │\n",
       "├─────────────────────┼───────────────────┼────────────┼───────────────────┤\n",
       "│ dropout (\u001b[38;5;33mDropout\u001b[0m)   │ (\u001b[38;5;45mNone\u001b[0m, \u001b[38;5;34m35\u001b[0m, \u001b[38;5;34m64\u001b[0m)    │          \u001b[38;5;34m0\u001b[0m │ lstm[\u001b[38;5;34m0\u001b[0m][\u001b[38;5;34m0\u001b[0m]        │\n",
       "├─────────────────────┼───────────────────┼────────────┼───────────────────┤\n",
       "│ flatten (\u001b[38;5;33mFlatten\u001b[0m)   │ (\u001b[38;5;45mNone\u001b[0m, \u001b[38;5;34m1024\u001b[0m)      │          \u001b[38;5;34m0\u001b[0m │ max_pooling1d[\u001b[38;5;34m0\u001b[0m]… │\n",
       "├─────────────────────┼───────────────────┼────────────┼───────────────────┤\n",
       "│ lstm_1 (\u001b[38;5;33mLSTM\u001b[0m)       │ (\u001b[38;5;45mNone\u001b[0m, \u001b[38;5;34m32\u001b[0m)        │     \u001b[38;5;34m12,416\u001b[0m │ dropout[\u001b[38;5;34m0\u001b[0m][\u001b[38;5;34m0\u001b[0m]     │\n",
       "├─────────────────────┼───────────────────┼────────────┼───────────────────┤\n",
       "│ dense (\u001b[38;5;33mDense\u001b[0m)       │ (\u001b[38;5;45mNone\u001b[0m, \u001b[38;5;34m32\u001b[0m)        │     \u001b[38;5;34m32,800\u001b[0m │ flatten[\u001b[38;5;34m0\u001b[0m][\u001b[38;5;34m0\u001b[0m]     │\n",
       "├─────────────────────┼───────────────────┼────────────┼───────────────────┤\n",
       "│ dropout_1 (\u001b[38;5;33mDropout\u001b[0m) │ (\u001b[38;5;45mNone\u001b[0m, \u001b[38;5;34m32\u001b[0m)        │          \u001b[38;5;34m0\u001b[0m │ lstm_1[\u001b[38;5;34m0\u001b[0m][\u001b[38;5;34m0\u001b[0m]      │\n",
       "├─────────────────────┼───────────────────┼────────────┼───────────────────┤\n",
       "│ dropout_2 (\u001b[38;5;33mDropout\u001b[0m) │ (\u001b[38;5;45mNone\u001b[0m, \u001b[38;5;34m32\u001b[0m)        │          \u001b[38;5;34m0\u001b[0m │ dense[\u001b[38;5;34m0\u001b[0m][\u001b[38;5;34m0\u001b[0m]       │\n",
       "├─────────────────────┼───────────────────┼────────────┼───────────────────┤\n",
       "│ concatenate         │ (\u001b[38;5;45mNone\u001b[0m, \u001b[38;5;34m64\u001b[0m)        │          \u001b[38;5;34m0\u001b[0m │ dropout_1[\u001b[38;5;34m0\u001b[0m][\u001b[38;5;34m0\u001b[0m],  │\n",
       "│ (\u001b[38;5;33mConcatenate\u001b[0m)       │                   │            │ dropout_2[\u001b[38;5;34m0\u001b[0m][\u001b[38;5;34m0\u001b[0m]   │\n",
       "├─────────────────────┼───────────────────┼────────────┼───────────────────┤\n",
       "│ dense_1 (\u001b[38;5;33mDense\u001b[0m)     │ (\u001b[38;5;45mNone\u001b[0m, \u001b[38;5;34m64\u001b[0m)        │      \u001b[38;5;34m4,160\u001b[0m │ concatenate[\u001b[38;5;34m0\u001b[0m][\u001b[38;5;34m0\u001b[0m] │\n",
       "├─────────────────────┼───────────────────┼────────────┼───────────────────┤\n",
       "│ dropout_3 (\u001b[38;5;33mDropout\u001b[0m) │ (\u001b[38;5;45mNone\u001b[0m, \u001b[38;5;34m64\u001b[0m)        │          \u001b[38;5;34m0\u001b[0m │ dense_1[\u001b[38;5;34m0\u001b[0m][\u001b[38;5;34m0\u001b[0m]     │\n",
       "├─────────────────────┼───────────────────┼────────────┼───────────────────┤\n",
       "│ dense_2 (\u001b[38;5;33mDense\u001b[0m)     │ (\u001b[38;5;45mNone\u001b[0m, \u001b[38;5;34m1\u001b[0m)         │         \u001b[38;5;34m65\u001b[0m │ dropout_3[\u001b[38;5;34m0\u001b[0m][\u001b[38;5;34m0\u001b[0m]   │\n",
       "└─────────────────────┴───────────────────┴────────────┴───────────────────┘\n"
      ]
     },
     "metadata": {},
     "output_type": "display_data"
    },
    {
     "data": {
      "text/html": [
       "<pre style=\"white-space:pre;overflow-x:auto;line-height:normal;font-family:Menlo,'DejaVu Sans Mono',consolas,'Courier New',monospace\"><span style=\"font-weight: bold\"> Total params: </span><span style=\"color: #00af00; text-decoration-color: #00af00\">66,593</span> (260.13 KB)\n",
       "</pre>\n"
      ],
      "text/plain": [
       "\u001b[1m Total params: \u001b[0m\u001b[38;5;34m66,593\u001b[0m (260.13 KB)\n"
      ]
     },
     "metadata": {},
     "output_type": "display_data"
    },
    {
     "data": {
      "text/html": [
       "<pre style=\"white-space:pre;overflow-x:auto;line-height:normal;font-family:Menlo,'DejaVu Sans Mono',consolas,'Courier New',monospace\"><span style=\"font-weight: bold\"> Trainable params: </span><span style=\"color: #00af00; text-decoration-color: #00af00\">66,593</span> (260.13 KB)\n",
       "</pre>\n"
      ],
      "text/plain": [
       "\u001b[1m Trainable params: \u001b[0m\u001b[38;5;34m66,593\u001b[0m (260.13 KB)\n"
      ]
     },
     "metadata": {},
     "output_type": "display_data"
    },
    {
     "data": {
      "text/html": [
       "<pre style=\"white-space:pre;overflow-x:auto;line-height:normal;font-family:Menlo,'DejaVu Sans Mono',consolas,'Courier New',monospace\"><span style=\"font-weight: bold\"> Non-trainable params: </span><span style=\"color: #00af00; text-decoration-color: #00af00\">0</span> (0.00 B)\n",
       "</pre>\n"
      ],
      "text/plain": [
       "\u001b[1m Non-trainable params: \u001b[0m\u001b[38;5;34m0\u001b[0m (0.00 B)\n"
      ]
     },
     "metadata": {},
     "output_type": "display_data"
    },
    {
     "name": "stdout",
     "output_type": "stream",
     "text": [
      "Epoch 1/20\n",
      "\u001b[1m3937/3937\u001b[0m \u001b[32m━━━━━━━━━━━━━━━━━━━━\u001b[0m\u001b[37m\u001b[0m \u001b[1m140s\u001b[0m 34ms/step - accuracy: 0.9567 - loss: 0.1271 - val_accuracy: 0.9874 - val_loss: 0.0393\n",
      "Epoch 2/20\n",
      "\u001b[1m3937/3937\u001b[0m \u001b[32m━━━━━━━━━━━━━━━━━━━━\u001b[0m\u001b[37m\u001b[0m \u001b[1m136s\u001b[0m 34ms/step - accuracy: 0.9812 - loss: 0.0515 - val_accuracy: 0.9898 - val_loss: 0.0291\n",
      "Epoch 3/20\n",
      "\u001b[1m3937/3937\u001b[0m \u001b[32m━━━━━━━━━━━━━━━━━━━━\u001b[0m\u001b[37m\u001b[0m \u001b[1m135s\u001b[0m 34ms/step - accuracy: 0.9840 - loss: 0.0427 - val_accuracy: 0.9908 - val_loss: 0.0291\n",
      "Epoch 4/20\n",
      "\u001b[1m3937/3937\u001b[0m \u001b[32m━━━━━━━━━━━━━━━━━━━━\u001b[0m\u001b[37m\u001b[0m \u001b[1m141s\u001b[0m 34ms/step - accuracy: 0.9868 - loss: 0.0386 - val_accuracy: 0.9916 - val_loss: 0.0252\n",
      "Epoch 5/20\n",
      "\u001b[1m3937/3937\u001b[0m \u001b[32m━━━━━━━━━━━━━━━━━━━━\u001b[0m\u001b[37m\u001b[0m \u001b[1m136s\u001b[0m 35ms/step - accuracy: 0.9875 - loss: 0.0368 - val_accuracy: 0.9925 - val_loss: 0.0231\n",
      "Epoch 6/20\n",
      "\u001b[1m3937/3937\u001b[0m \u001b[32m━━━━━━━━━━━━━━━━━━━━\u001b[0m\u001b[37m\u001b[0m \u001b[1m136s\u001b[0m 35ms/step - accuracy: 0.9884 - loss: 0.0333 - val_accuracy: 0.9908 - val_loss: 0.0243\n",
      "Epoch 7/20\n",
      "\u001b[1m3937/3937\u001b[0m \u001b[32m━━━━━━━━━━━━━━━━━━━━\u001b[0m\u001b[37m\u001b[0m \u001b[1m136s\u001b[0m 34ms/step - accuracy: 0.9891 - loss: 0.0302 - val_accuracy: 0.9921 - val_loss: 0.0223\n",
      "Epoch 8/20\n",
      "\u001b[1m3937/3937\u001b[0m \u001b[32m━━━━━━━━━━━━━━━━━━━━\u001b[0m\u001b[37m\u001b[0m \u001b[1m141s\u001b[0m 34ms/step - accuracy: 0.9904 - loss: 0.0287 - val_accuracy: 0.9936 - val_loss: 0.0193\n",
      "Epoch 9/20\n",
      "\u001b[1m3937/3937\u001b[0m \u001b[32m━━━━━━━━━━━━━━━━━━━━\u001b[0m\u001b[37m\u001b[0m \u001b[1m136s\u001b[0m 34ms/step - accuracy: 0.9910 - loss: 0.0262 - val_accuracy: 0.9924 - val_loss: 0.0218\n",
      "Epoch 10/20\n",
      "\u001b[1m3937/3937\u001b[0m \u001b[32m━━━━━━━━━━━━━━━━━━━━\u001b[0m\u001b[37m\u001b[0m \u001b[1m141s\u001b[0m 34ms/step - accuracy: 0.9923 - loss: 0.0239 - val_accuracy: 0.9936 - val_loss: 0.0203\n",
      "Epoch 11/20\n",
      "\u001b[1m3937/3937\u001b[0m \u001b[32m━━━━━━━━━━━━━━━━━━━━\u001b[0m\u001b[37m\u001b[0m \u001b[1m136s\u001b[0m 35ms/step - accuracy: 0.9917 - loss: 0.0276 - val_accuracy: 0.9943 - val_loss: 0.0165\n",
      "Epoch 12/20\n",
      "\u001b[1m3937/3937\u001b[0m \u001b[32m━━━━━━━━━━━━━━━━━━━━\u001b[0m\u001b[37m\u001b[0m \u001b[1m137s\u001b[0m 35ms/step - accuracy: 0.9921 - loss: 0.0240 - val_accuracy: 0.9938 - val_loss: 0.0164\n",
      "Epoch 13/20\n",
      "\u001b[1m3937/3937\u001b[0m \u001b[32m━━━━━━━━━━━━━━━━━━━━\u001b[0m\u001b[37m\u001b[0m \u001b[1m136s\u001b[0m 34ms/step - accuracy: 0.9928 - loss: 0.0216 - val_accuracy: 0.9939 - val_loss: 0.0171\n",
      "Epoch 14/20\n",
      "\u001b[1m3937/3937\u001b[0m \u001b[32m━━━━━━━━━━━━━━━━━━━━\u001b[0m\u001b[37m\u001b[0m \u001b[1m136s\u001b[0m 34ms/step - accuracy: 0.9927 - loss: 0.0217 - val_accuracy: 0.9949 - val_loss: 0.0148\n",
      "Epoch 15/20\n",
      "\u001b[1m3937/3937\u001b[0m \u001b[32m━━━━━━━━━━━━━━━━━━━━\u001b[0m\u001b[37m\u001b[0m \u001b[1m137s\u001b[0m 35ms/step - accuracy: 0.9929 - loss: 0.0218 - val_accuracy: 0.9952 - val_loss: 0.0147\n",
      "Epoch 16/20\n",
      "\u001b[1m3937/3937\u001b[0m \u001b[32m━━━━━━━━━━━━━━━━━━━━\u001b[0m\u001b[37m\u001b[0m \u001b[1m137s\u001b[0m 35ms/step - accuracy: 0.9935 - loss: 0.0202 - val_accuracy: 0.9960 - val_loss: 0.0131\n",
      "Epoch 17/20\n",
      "\u001b[1m3937/3937\u001b[0m \u001b[32m━━━━━━━━━━━━━━━━━━━━\u001b[0m\u001b[37m\u001b[0m \u001b[1m136s\u001b[0m 35ms/step - accuracy: 0.9944 - loss: 0.0178 - val_accuracy: 0.9947 - val_loss: 0.0139\n",
      "Epoch 18/20\n",
      "\u001b[1m3937/3937\u001b[0m \u001b[32m━━━━━━━━━━━━━━━━━━━━\u001b[0m\u001b[37m\u001b[0m \u001b[1m137s\u001b[0m 35ms/step - accuracy: 0.9938 - loss: 0.0182 - val_accuracy: 0.9950 - val_loss: 0.0140\n",
      "Epoch 19/20\n",
      "\u001b[1m3937/3937\u001b[0m \u001b[32m━━━━━━━━━━━━━━━━━━━━\u001b[0m\u001b[37m\u001b[0m \u001b[1m137s\u001b[0m 35ms/step - accuracy: 0.9939 - loss: 0.0187 - val_accuracy: 0.9944 - val_loss: 0.0166\n",
      "Epoch 20/20\n",
      "\u001b[1m3937/3937\u001b[0m \u001b[32m━━━━━━━━━━━━━━━━━━━━\u001b[0m\u001b[37m\u001b[0m \u001b[1m137s\u001b[0m 35ms/step - accuracy: 0.9942 - loss: 0.0179 - val_accuracy: 0.9955 - val_loss: 0.0130\n"
     ]
    }
   ],
   "source": [
    "from keras.models import Model, load_model\n",
    "from keras.layers import Input, LSTM, Dense, Dropout, Conv1D, MaxPooling1D, Flatten, Concatenate\n",
    "from keras.callbacks import EarlyStopping, ModelCheckpoint\n",
    "from sklearn.model_selection import KFold\n",
    "from sklearn.metrics import precision_score, recall_score, f1_score\n",
    "import numpy as np\n",
    "\n",
    "def create_bilstm_cnn_model(input_shape):\n",
    "    # Input layer\n",
    "    input_layer = Input(shape=input_shape)\n",
    "\n",
    "    # Bi-LSTM branch\n",
    "    lstm_output = LSTM(64, return_sequences=True)(input_layer)\n",
    "    lstm_output = Dropout(0.5)(lstm_output)\n",
    "    lstm_output = LSTM(32)(lstm_output)\n",
    "    lstm_output = Dropout(0.5)(lstm_output)\n",
    "\n",
    "    # CNN branch\n",
    "    cnn_output = Conv1D(filters=64, kernel_size=3, activation='relu')(input_layer)\n",
    "    cnn_output = MaxPooling1D(pool_size=2)(cnn_output)\n",
    "    cnn_output = Flatten()(cnn_output)\n",
    "    cnn_output = Dense(32, activation='relu')(cnn_output)\n",
    "    cnn_output = Dropout(0.5)(cnn_output)\n",
    "\n",
    "    # Combine LSTM and CNN branches\n",
    "    combined = Concatenate()([lstm_output, cnn_output])\n",
    "    combined = Dense(64, activation='relu')(combined)\n",
    "    combined = Dropout(0.3)(combined)\n",
    "    output = Dense(1, activation='sigmoid')(combined)\n",
    "\n",
    "    model = Model(inputs=input_layer, outputs=output)\n",
    "    return model\n",
    "\n",
    "# Reshape training data\n",
    "# X_resampled_np = X_resampled.to_numpy()\n",
    "X_train = np.expand_dims(X, axis=2)  # Reshape to (samples, timesteps, features)\n",
    "n_samples, n_timesteps, n_features = X_train.shape\n",
    "\n",
    "\n",
    "# Create and compile the model\n",
    "model = create_bilstm_cnn_model((n_timesteps, n_features))\n",
    "model.compile(optimizer='adam', loss='binary_crossentropy', metrics=['accuracy'])\n",
    "model.summary()\n",
    "\n",
    "# Define the checkpoint callback to save the best model during training\n",
    "checkpoint_path = '/kaggle/working/best_model.keras'\n",
    "checkpoint = ModelCheckpoint(checkpoint_path, monitor='val_accuracy', save_best_only=True, mode='max', save_weights_only=False)\n",
    "\n",
    "# Training the model\n",
    "history = model.fit(\n",
    "    X_train, Y,\n",
    "    epochs=20,\n",
    "    batch_size=32,\n",
    "    validation_data=(X_val, Y_val),\n",
    "    callbacks=[EarlyStopping(patience=5), checkpoint]\n",
    ")"
   ]
  },
  {
   "cell_type": "markdown",
   "id": "5c1f1243",
   "metadata": {
    "papermill": {
     "duration": 2.448067,
     "end_time": "2024-06-04T17:59:45.329135",
     "exception": false,
     "start_time": "2024-06-04T17:59:42.881068",
     "status": "completed"
    },
    "tags": []
   },
   "source": [
    "### Evaluation"
   ]
  }
 ],
 "metadata": {
  "kaggle": {
   "accelerator": "none",
   "dataSources": [
    {
     "datasetId": 174616,
     "sourceId": 394223,
     "sourceType": "datasetVersion"
    }
   ],
   "dockerImageVersionId": 30715,
   "isGpuEnabled": false,
   "isInternetEnabled": true,
   "language": "python",
   "sourceType": "notebook"
  },
  "kernelspec": {
   "display_name": "Python 3",
   "language": "python",
   "name": "python3"
  },
  "language_info": {
   "codemirror_mode": {
    "name": "ipython",
    "version": 3
   },
   "file_extension": ".py",
   "mimetype": "text/x-python",
   "name": "python",
   "nbconvert_exporter": "python",
   "pygments_lexer": "ipython3",
   "version": "3.10.13"
  },
  "papermill": {
   "default_parameters": {},
   "duration": 2779.17399,
   "end_time": "2024-06-04T17:59:49.896962",
   "environment_variables": {},
   "exception": null,
   "input_path": "__notebook__.ipynb",
   "output_path": "__notebook__.ipynb",
   "parameters": {},
   "start_time": "2024-06-04T17:13:30.722972",
   "version": "2.5.0"
  }
 },
 "nbformat": 4,
 "nbformat_minor": 5
}

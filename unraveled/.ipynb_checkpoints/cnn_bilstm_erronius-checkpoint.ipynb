{
 "cells": [
  {
   "cell_type": "markdown",
   "id": "56d8688f",
   "metadata": {
    "papermill": {
     "duration": 0.014654,
     "end_time": "2024-06-03T16:53:01.294668",
     "exception": false,
     "start_time": "2024-06-03T16:53:01.280014",
     "status": "completed"
    },
    "tags": []
   },
   "source": [
    "### Loading datasets"
   ]
  },
  {
   "cell_type": "code",
   "execution_count": 1,
   "id": "de0cc504",
   "metadata": {
    "execution": {
     "iopub.execute_input": "2024-06-03T16:53:01.326975Z",
     "iopub.status.busy": "2024-06-03T16:53:01.326597Z",
     "iopub.status.idle": "2024-06-03T16:53:03.353050Z",
     "shell.execute_reply": "2024-06-03T16:53:03.351906Z"
    },
    "papermill": {
     "duration": 2.045743,
     "end_time": "2024-06-03T16:53:03.355514",
     "exception": false,
     "start_time": "2024-06-03T16:53:01.309771",
     "status": "completed"
    },
    "tags": []
   },
   "outputs": [
    {
     "name": "stdout",
     "output_type": "stream",
     "text": [
      "Signature distribution:\n",
      "Signature\n",
      "APT    6148\n",
      "AA     4466\n",
      "Name: count, dtype: int64\n",
      "Activity distribution:\n",
      "Activity\n",
      "Normal                                       52620\n",
      "Active Scanning: Scanning IP Blocks           4462\n",
      "Encrypted Channel: Symmetric Cryptography     2660\n",
      "Maintain Access                               2157\n",
      "Data Transfer Size Limits                     1331\n",
      "Active Scanning: Vulnerability Scanning          4\n",
      "Name: count, dtype: int64\n",
      "Stage distribution:\n",
      "Stage\n",
      "Benign                52620\n",
      "Reconnaissance         4466\n",
      "Establish Foothold     2660\n",
      "Lateral Movement       2157\n",
      "Data Exfiltration      1331\n",
      "Name: count, dtype: int64\n"
     ]
    }
   ],
   "source": [
    "import os\n",
    "import pandas as pd\n",
    "# Base directory where your dataset is stored\n",
    "base_directory = '/kaggle/input/apt-unraveled/Week5_Day6_06272021/Week5_Day6_06272021'\n",
    "\n",
    "# Exclude Week 1 and list CSV files from Weeks 2 to 6\n",
    "csv_files = []\n",
    "for root, dirs, files in os.walk(base_directory):\n",
    "    for file in files:\n",
    "        if file.endswith('.csv'):\n",
    "            csv_files.append(os.path.join(root, file))\n",
    "\n",
    "# Load all CSV files from relevant weeks\n",
    "dataframes = [pd.read_csv(file) for file in csv_files]\n",
    "combined_data = pd.concat(dataframes, ignore_index=True)\n",
    "\n",
    "\n",
    "# Check label distribution for balance\n",
    "signature_counts = combined_data['Signature'].value_counts()\n",
    "print(\"Signature distribution:\")\n",
    "print(signature_counts)\n",
    "\n",
    "activity_counts = combined_data['Activity'].value_counts()\n",
    "print(\"Activity distribution:\")\n",
    "print(activity_counts)\n",
    "\n",
    "stage_counts = combined_data['Stage'].value_counts()\n",
    "print(\"Stage distribution:\")\n",
    "print(stage_counts)"
   ]
  },
  {
   "cell_type": "code",
   "execution_count": 2,
   "id": "503bd782",
   "metadata": {
    "execution": {
     "iopub.execute_input": "2024-06-03T16:53:03.387935Z",
     "iopub.status.busy": "2024-06-03T16:53:03.387620Z",
     "iopub.status.idle": "2024-06-03T16:53:03.394318Z",
     "shell.execute_reply": "2024-06-03T16:53:03.393417Z"
    },
    "papermill": {
     "duration": 0.025612,
     "end_time": "2024-06-03T16:53:03.396132",
     "exception": false,
     "start_time": "2024-06-03T16:53:03.370520",
     "status": "completed"
    },
    "tags": []
   },
   "outputs": [
    {
     "data": {
      "text/plain": [
       "(63234, 89)"
      ]
     },
     "execution_count": 2,
     "metadata": {},
     "output_type": "execute_result"
    }
   ],
   "source": [
    "combined_data.shape"
   ]
  },
  {
   "cell_type": "code",
   "execution_count": 3,
   "id": "37b9c92c",
   "metadata": {
    "execution": {
     "iopub.execute_input": "2024-06-03T16:53:03.428535Z",
     "iopub.status.busy": "2024-06-03T16:53:03.428275Z",
     "iopub.status.idle": "2024-06-03T16:53:03.434800Z",
     "shell.execute_reply": "2024-06-03T16:53:03.433915Z"
    },
    "papermill": {
     "duration": 0.024576,
     "end_time": "2024-06-03T16:53:03.436634",
     "exception": false,
     "start_time": "2024-06-03T16:53:03.412058",
     "status": "completed"
    },
    "tags": []
   },
   "outputs": [
    {
     "data": {
      "text/plain": [
       "Index(['id', 'expiration_id', 'src_ip', 'src_mac', 'src_oui', 'src_port',\n",
       "       'dst_ip', 'dst_mac', 'dst_oui', 'dst_port', 'protocol', 'ip_version',\n",
       "       'vlan_id', 'tunnel_id', 'bidirectional_first_seen_ms',\n",
       "       'bidirectional_last_seen_ms', 'bidirectional_duration_ms',\n",
       "       'bidirectional_packets', 'bidirectional_bytes', 'src2dst_first_seen_ms',\n",
       "       'src2dst_last_seen_ms', 'src2dst_duration_ms', 'src2dst_packets',\n",
       "       'src2dst_bytes', 'dst2src_first_seen_ms', 'dst2src_last_seen_ms',\n",
       "       'dst2src_duration_ms', 'dst2src_packets', 'dst2src_bytes',\n",
       "       'bidirectional_min_ps', 'bidirectional_mean_ps',\n",
       "       'bidirectional_stddev_ps', 'bidirectional_max_ps', 'src2dst_min_ps',\n",
       "       'src2dst_mean_ps', 'src2dst_stddev_ps', 'src2dst_max_ps',\n",
       "       'dst2src_min_ps', 'dst2src_mean_ps', 'dst2src_stddev_ps',\n",
       "       'dst2src_max_ps', 'bidirectional_min_piat_ms',\n",
       "       'bidirectional_mean_piat_ms', 'bidirectional_stddev_piat_ms',\n",
       "       'bidirectional_max_piat_ms', 'src2dst_min_piat_ms',\n",
       "       'src2dst_mean_piat_ms', 'src2dst_stddev_piat_ms', 'src2dst_max_piat_ms',\n",
       "       'dst2src_min_piat_ms', 'dst2src_mean_piat_ms', 'dst2src_stddev_piat_ms',\n",
       "       'dst2src_max_piat_ms', 'bidirectional_syn_packets',\n",
       "       'bidirectional_cwr_packets', 'bidirectional_ece_packets',\n",
       "       'bidirectional_urg_packets', 'bidirectional_ack_packets',\n",
       "       'bidirectional_psh_packets', 'bidirectional_rst_packets',\n",
       "       'bidirectional_fin_packets', 'src2dst_syn_packets',\n",
       "       'src2dst_cwr_packets', 'src2dst_ece_packets', 'src2dst_urg_packets',\n",
       "       'src2dst_ack_packets', 'src2dst_psh_packets', 'src2dst_rst_packets',\n",
       "       'src2dst_fin_packets', 'dst2src_syn_packets', 'dst2src_cwr_packets',\n",
       "       'dst2src_ece_packets', 'dst2src_urg_packets', 'dst2src_ack_packets',\n",
       "       'dst2src_psh_packets', 'dst2src_rst_packets', 'dst2src_fin_packets',\n",
       "       'application_name', 'application_category_name',\n",
       "       'application_is_guessed', 'requested_server_name', 'client_fingerprint',\n",
       "       'server_fingerprint', 'user_agent', 'content_type', 'Activity', 'Stage',\n",
       "       'DefenderResponse', 'Signature'],\n",
       "      dtype='object')"
      ]
     },
     "execution_count": 3,
     "metadata": {},
     "output_type": "execute_result"
    }
   ],
   "source": [
    "combined_data.columns"
   ]
  },
  {
   "cell_type": "code",
   "execution_count": 4,
   "id": "fe52f704",
   "metadata": {
    "execution": {
     "iopub.execute_input": "2024-06-03T16:53:03.468834Z",
     "iopub.status.busy": "2024-06-03T16:53:03.468600Z",
     "iopub.status.idle": "2024-06-03T16:53:03.498547Z",
     "shell.execute_reply": "2024-06-03T16:53:03.497611Z"
    },
    "papermill": {
     "duration": 0.048553,
     "end_time": "2024-06-03T16:53:03.500758",
     "exception": false,
     "start_time": "2024-06-03T16:53:03.452205",
     "status": "completed"
    },
    "tags": []
   },
   "outputs": [
    {
     "data": {
      "text/html": [
       "<div>\n",
       "<style scoped>\n",
       "    .dataframe tbody tr th:only-of-type {\n",
       "        vertical-align: middle;\n",
       "    }\n",
       "\n",
       "    .dataframe tbody tr th {\n",
       "        vertical-align: top;\n",
       "    }\n",
       "\n",
       "    .dataframe thead th {\n",
       "        text-align: right;\n",
       "    }\n",
       "</style>\n",
       "<table border=\"1\" class=\"dataframe\">\n",
       "  <thead>\n",
       "    <tr style=\"text-align: right;\">\n",
       "      <th></th>\n",
       "      <th>id</th>\n",
       "      <th>expiration_id</th>\n",
       "      <th>src_ip</th>\n",
       "      <th>src_mac</th>\n",
       "      <th>src_oui</th>\n",
       "      <th>src_port</th>\n",
       "      <th>dst_ip</th>\n",
       "      <th>dst_mac</th>\n",
       "      <th>dst_oui</th>\n",
       "      <th>dst_port</th>\n",
       "      <th>...</th>\n",
       "      <th>application_is_guessed</th>\n",
       "      <th>requested_server_name</th>\n",
       "      <th>client_fingerprint</th>\n",
       "      <th>server_fingerprint</th>\n",
       "      <th>user_agent</th>\n",
       "      <th>content_type</th>\n",
       "      <th>Activity</th>\n",
       "      <th>Stage</th>\n",
       "      <th>DefenderResponse</th>\n",
       "      <th>Signature</th>\n",
       "    </tr>\n",
       "  </thead>\n",
       "  <tbody>\n",
       "    <tr>\n",
       "      <th>0</th>\n",
       "      <td>0</td>\n",
       "      <td>0</td>\n",
       "      <td>192.168.0.11</td>\n",
       "      <td>fa:16:3e:e6:67:36</td>\n",
       "      <td>fa:16:3e</td>\n",
       "      <td>60689</td>\n",
       "      <td>8.8.8.8</td>\n",
       "      <td>fa:16:3e:b5:c4:4c</td>\n",
       "      <td>fa:16:3e</td>\n",
       "      <td>53</td>\n",
       "      <td>...</td>\n",
       "      <td>0</td>\n",
       "      <td>tile-service.weather.microsoft.com</td>\n",
       "      <td>NaN</td>\n",
       "      <td>NaN</td>\n",
       "      <td>NaN</td>\n",
       "      <td>NaN</td>\n",
       "      <td>Normal</td>\n",
       "      <td>Benign</td>\n",
       "      <td>Benign</td>\n",
       "      <td>NaN</td>\n",
       "    </tr>\n",
       "    <tr>\n",
       "      <th>1</th>\n",
       "      <td>1</td>\n",
       "      <td>0</td>\n",
       "      <td>192.168.0.11</td>\n",
       "      <td>fa:16:3e:e6:67:36</td>\n",
       "      <td>fa:16:3e</td>\n",
       "      <td>62264</td>\n",
       "      <td>184.30.179.31</td>\n",
       "      <td>fa:16:3e:b5:c4:4c</td>\n",
       "      <td>fa:16:3e</td>\n",
       "      <td>80</td>\n",
       "      <td>...</td>\n",
       "      <td>0</td>\n",
       "      <td>tile-service.weather.microsoft.com</td>\n",
       "      <td>NaN</td>\n",
       "      <td>NaN</td>\n",
       "      <td>Microsoft-WNS/10.0</td>\n",
       "      <td>text/xml</td>\n",
       "      <td>Normal</td>\n",
       "      <td>Benign</td>\n",
       "      <td>Benign</td>\n",
       "      <td>NaN</td>\n",
       "    </tr>\n",
       "    <tr>\n",
       "      <th>2</th>\n",
       "      <td>2</td>\n",
       "      <td>0</td>\n",
       "      <td>192.168.0.11</td>\n",
       "      <td>fa:16:3e:e6:67:36</td>\n",
       "      <td>fa:16:3e</td>\n",
       "      <td>46190</td>\n",
       "      <td>10.8.10.84</td>\n",
       "      <td>fa:16:3e:b5:c4:4c</td>\n",
       "      <td>fa:16:3e</td>\n",
       "      <td>443</td>\n",
       "      <td>...</td>\n",
       "      <td>1</td>\n",
       "      <td>NaN</td>\n",
       "      <td>NaN</td>\n",
       "      <td>NaN</td>\n",
       "      <td>NaN</td>\n",
       "      <td>NaN</td>\n",
       "      <td>Maintain Access</td>\n",
       "      <td>Lateral Movement</td>\n",
       "      <td>Benign</td>\n",
       "      <td>APT</td>\n",
       "    </tr>\n",
       "    <tr>\n",
       "      <th>3</th>\n",
       "      <td>3</td>\n",
       "      <td>0</td>\n",
       "      <td>192.168.0.11</td>\n",
       "      <td>fa:16:3e:e6:67:36</td>\n",
       "      <td>fa:16:3e</td>\n",
       "      <td>123</td>\n",
       "      <td>162.159.200.1</td>\n",
       "      <td>fa:16:3e:b5:c4:4c</td>\n",
       "      <td>fa:16:3e</td>\n",
       "      <td>123</td>\n",
       "      <td>...</td>\n",
       "      <td>0</td>\n",
       "      <td>NaN</td>\n",
       "      <td>NaN</td>\n",
       "      <td>NaN</td>\n",
       "      <td>NaN</td>\n",
       "      <td>NaN</td>\n",
       "      <td>Normal</td>\n",
       "      <td>Benign</td>\n",
       "      <td>Benign</td>\n",
       "      <td>NaN</td>\n",
       "    </tr>\n",
       "    <tr>\n",
       "      <th>4</th>\n",
       "      <td>4</td>\n",
       "      <td>0</td>\n",
       "      <td>192.168.0.11</td>\n",
       "      <td>fa:16:3e:e6:67:36</td>\n",
       "      <td>fa:16:3e</td>\n",
       "      <td>123</td>\n",
       "      <td>50.205.244.20</td>\n",
       "      <td>fa:16:3e:b5:c4:4c</td>\n",
       "      <td>fa:16:3e</td>\n",
       "      <td>123</td>\n",
       "      <td>...</td>\n",
       "      <td>0</td>\n",
       "      <td>NaN</td>\n",
       "      <td>NaN</td>\n",
       "      <td>NaN</td>\n",
       "      <td>NaN</td>\n",
       "      <td>NaN</td>\n",
       "      <td>Normal</td>\n",
       "      <td>Benign</td>\n",
       "      <td>Benign</td>\n",
       "      <td>NaN</td>\n",
       "    </tr>\n",
       "  </tbody>\n",
       "</table>\n",
       "<p>5 rows × 89 columns</p>\n",
       "</div>"
      ],
      "text/plain": [
       "   id  expiration_id        src_ip            src_mac   src_oui  src_port  \\\n",
       "0   0              0  192.168.0.11  fa:16:3e:e6:67:36  fa:16:3e     60689   \n",
       "1   1              0  192.168.0.11  fa:16:3e:e6:67:36  fa:16:3e     62264   \n",
       "2   2              0  192.168.0.11  fa:16:3e:e6:67:36  fa:16:3e     46190   \n",
       "3   3              0  192.168.0.11  fa:16:3e:e6:67:36  fa:16:3e       123   \n",
       "4   4              0  192.168.0.11  fa:16:3e:e6:67:36  fa:16:3e       123   \n",
       "\n",
       "          dst_ip            dst_mac   dst_oui  dst_port  ...  \\\n",
       "0        8.8.8.8  fa:16:3e:b5:c4:4c  fa:16:3e        53  ...   \n",
       "1  184.30.179.31  fa:16:3e:b5:c4:4c  fa:16:3e        80  ...   \n",
       "2     10.8.10.84  fa:16:3e:b5:c4:4c  fa:16:3e       443  ...   \n",
       "3  162.159.200.1  fa:16:3e:b5:c4:4c  fa:16:3e       123  ...   \n",
       "4  50.205.244.20  fa:16:3e:b5:c4:4c  fa:16:3e       123  ...   \n",
       "\n",
       "   application_is_guessed               requested_server_name  \\\n",
       "0                       0  tile-service.weather.microsoft.com   \n",
       "1                       0  tile-service.weather.microsoft.com   \n",
       "2                       1                                 NaN   \n",
       "3                       0                                 NaN   \n",
       "4                       0                                 NaN   \n",
       "\n",
       "   client_fingerprint  server_fingerprint          user_agent  content_type  \\\n",
       "0                 NaN                 NaN                 NaN           NaN   \n",
       "1                 NaN                 NaN  Microsoft-WNS/10.0      text/xml   \n",
       "2                 NaN                 NaN                 NaN           NaN   \n",
       "3                 NaN                 NaN                 NaN           NaN   \n",
       "4                 NaN                 NaN                 NaN           NaN   \n",
       "\n",
       "          Activity             Stage  DefenderResponse  Signature  \n",
       "0           Normal            Benign            Benign        NaN  \n",
       "1           Normal            Benign            Benign        NaN  \n",
       "2  Maintain Access  Lateral Movement            Benign        APT  \n",
       "3           Normal            Benign            Benign        NaN  \n",
       "4           Normal            Benign            Benign        NaN  \n",
       "\n",
       "[5 rows x 89 columns]"
      ]
     },
     "execution_count": 4,
     "metadata": {},
     "output_type": "execute_result"
    }
   ],
   "source": [
    "combined_data.head()"
   ]
  },
  {
   "cell_type": "markdown",
   "id": "0178bf54",
   "metadata": {
    "papermill": {
     "duration": 0.016748,
     "end_time": "2024-06-03T16:53:03.536554",
     "exception": false,
     "start_time": "2024-06-03T16:53:03.519806",
     "status": "completed"
    },
    "tags": []
   },
   "source": [
    "### Chosing Label \"Signature\"."
   ]
  },
  {
   "cell_type": "code",
   "execution_count": 5,
   "id": "6fca44bf",
   "metadata": {
    "execution": {
     "iopub.execute_input": "2024-06-03T16:53:03.571619Z",
     "iopub.status.busy": "2024-06-03T16:53:03.570986Z",
     "iopub.status.idle": "2024-06-03T16:53:03.607037Z",
     "shell.execute_reply": "2024-06-03T16:53:03.606010Z"
    },
    "papermill": {
     "duration": 0.055804,
     "end_time": "2024-06-03T16:53:03.609103",
     "exception": false,
     "start_time": "2024-06-03T16:53:03.553299",
     "status": "completed"
    },
    "tags": []
   },
   "outputs": [
    {
     "name": "stdout",
     "output_type": "stream",
     "text": [
      "Signature\n",
      "Non-APT    57086\n",
      "APT         6148\n",
      "Name: count, dtype: int64\n"
     ]
    }
   ],
   "source": [
    "combined_data['Signature'] = combined_data['Signature'].apply(lambda x: 'APT' if x == 'APT' else 'Non-APT')\n",
    "\n",
    "# Check the distribution of the new label\n",
    "print(combined_data['Signature'].value_counts())"
   ]
  },
  {
   "cell_type": "markdown",
   "id": "3080f030",
   "metadata": {
    "papermill": {
     "duration": 0.016464,
     "end_time": "2024-06-03T16:53:03.641675",
     "exception": false,
     "start_time": "2024-06-03T16:53:03.625211",
     "status": "completed"
    },
    "tags": []
   },
   "source": [
    "### Chosing FEatures from droping NaNs more then 30%"
   ]
  },
  {
   "cell_type": "code",
   "execution_count": 6,
   "id": "70cf9bdc",
   "metadata": {
    "execution": {
     "iopub.execute_input": "2024-06-03T16:53:03.674456Z",
     "iopub.status.busy": "2024-06-03T16:53:03.674147Z",
     "iopub.status.idle": "2024-06-03T16:53:03.902053Z",
     "shell.execute_reply": "2024-06-03T16:53:03.901101Z"
    },
    "papermill": {
     "duration": 0.247871,
     "end_time": "2024-06-03T16:53:03.905141",
     "exception": false,
     "start_time": "2024-06-03T16:53:03.657270",
     "status": "completed"
    },
    "tags": []
   },
   "outputs": [
    {
     "name": "stdout",
     "output_type": "stream",
     "text": [
      "Columns with more than 30% null values removed:\n",
      "<class 'pandas.core.frame.DataFrame'>\n",
      "RangeIndex: 63234 entries, 0 to 63233\n",
      "Data columns (total 84 columns):\n",
      " #   Column                        Non-Null Count  Dtype  \n",
      "---  ------                        --------------  -----  \n",
      " 0   id                            63234 non-null  int64  \n",
      " 1   expiration_id                 63234 non-null  int64  \n",
      " 2   src_ip                        63234 non-null  object \n",
      " 3   src_mac                       63234 non-null  object \n",
      " 4   src_oui                       63234 non-null  object \n",
      " 5   src_port                      63234 non-null  int64  \n",
      " 6   dst_ip                        63234 non-null  object \n",
      " 7   dst_mac                       63234 non-null  object \n",
      " 8   dst_oui                       63234 non-null  object \n",
      " 9   dst_port                      63234 non-null  int64  \n",
      " 10  protocol                      63234 non-null  int64  \n",
      " 11  ip_version                    63234 non-null  int64  \n",
      " 12  vlan_id                       63234 non-null  int64  \n",
      " 13  tunnel_id                     63234 non-null  int64  \n",
      " 14  bidirectional_first_seen_ms   63234 non-null  int64  \n",
      " 15  bidirectional_last_seen_ms    63234 non-null  int64  \n",
      " 16  bidirectional_duration_ms     63234 non-null  int64  \n",
      " 17  bidirectional_packets         63234 non-null  int64  \n",
      " 18  bidirectional_bytes           63234 non-null  int64  \n",
      " 19  src2dst_first_seen_ms         63234 non-null  int64  \n",
      " 20  src2dst_last_seen_ms          63234 non-null  int64  \n",
      " 21  src2dst_duration_ms           63234 non-null  int64  \n",
      " 22  src2dst_packets               63234 non-null  int64  \n",
      " 23  src2dst_bytes                 63234 non-null  int64  \n",
      " 24  dst2src_first_seen_ms         63234 non-null  int64  \n",
      " 25  dst2src_last_seen_ms          63234 non-null  int64  \n",
      " 26  dst2src_duration_ms           63234 non-null  int64  \n",
      " 27  dst2src_packets               63234 non-null  int64  \n",
      " 28  dst2src_bytes                 63234 non-null  int64  \n",
      " 29  bidirectional_min_ps          63234 non-null  int64  \n",
      " 30  bidirectional_mean_ps         63234 non-null  float64\n",
      " 31  bidirectional_stddev_ps       63234 non-null  float64\n",
      " 32  bidirectional_max_ps          63234 non-null  int64  \n",
      " 33  src2dst_min_ps                63234 non-null  int64  \n",
      " 34  src2dst_mean_ps               63234 non-null  float64\n",
      " 35  src2dst_stddev_ps             63234 non-null  float64\n",
      " 36  src2dst_max_ps                63234 non-null  int64  \n",
      " 37  dst2src_min_ps                63234 non-null  int64  \n",
      " 38  dst2src_mean_ps               63234 non-null  float64\n",
      " 39  dst2src_stddev_ps             63234 non-null  float64\n",
      " 40  dst2src_max_ps                63234 non-null  int64  \n",
      " 41  bidirectional_min_piat_ms     63234 non-null  int64  \n",
      " 42  bidirectional_mean_piat_ms    63234 non-null  float64\n",
      " 43  bidirectional_stddev_piat_ms  63234 non-null  float64\n",
      " 44  bidirectional_max_piat_ms     63234 non-null  int64  \n",
      " 45  src2dst_min_piat_ms           63234 non-null  int64  \n",
      " 46  src2dst_mean_piat_ms          63234 non-null  float64\n",
      " 47  src2dst_stddev_piat_ms        63234 non-null  float64\n",
      " 48  src2dst_max_piat_ms           63234 non-null  int64  \n",
      " 49  dst2src_min_piat_ms           63234 non-null  int64  \n",
      " 50  dst2src_mean_piat_ms          63234 non-null  float64\n",
      " 51  dst2src_stddev_piat_ms        63234 non-null  float64\n",
      " 52  dst2src_max_piat_ms           63234 non-null  int64  \n",
      " 53  bidirectional_syn_packets     63234 non-null  int64  \n",
      " 54  bidirectional_cwr_packets     63234 non-null  int64  \n",
      " 55  bidirectional_ece_packets     63234 non-null  int64  \n",
      " 56  bidirectional_urg_packets     63234 non-null  int64  \n",
      " 57  bidirectional_ack_packets     63234 non-null  int64  \n",
      " 58  bidirectional_psh_packets     63234 non-null  int64  \n",
      " 59  bidirectional_rst_packets     63234 non-null  int64  \n",
      " 60  bidirectional_fin_packets     63234 non-null  int64  \n",
      " 61  src2dst_syn_packets           63234 non-null  int64  \n",
      " 62  src2dst_cwr_packets           63234 non-null  int64  \n",
      " 63  src2dst_ece_packets           63234 non-null  int64  \n",
      " 64  src2dst_urg_packets           63234 non-null  int64  \n",
      " 65  src2dst_ack_packets           63234 non-null  int64  \n",
      " 66  src2dst_psh_packets           63234 non-null  int64  \n",
      " 67  src2dst_rst_packets           63234 non-null  int64  \n",
      " 68  src2dst_fin_packets           63234 non-null  int64  \n",
      " 69  dst2src_syn_packets           63234 non-null  int64  \n",
      " 70  dst2src_cwr_packets           63234 non-null  int64  \n",
      " 71  dst2src_ece_packets           63234 non-null  int64  \n",
      " 72  dst2src_urg_packets           63234 non-null  int64  \n",
      " 73  dst2src_ack_packets           63234 non-null  int64  \n",
      " 74  dst2src_psh_packets           63234 non-null  int64  \n",
      " 75  dst2src_rst_packets           63234 non-null  int64  \n",
      " 76  dst2src_fin_packets           63234 non-null  int64  \n",
      " 77  application_name              63234 non-null  object \n",
      " 78  application_category_name     63234 non-null  object \n",
      " 79  application_is_guessed        63234 non-null  int64  \n",
      " 80  Activity                      63234 non-null  object \n",
      " 81  Stage                         63234 non-null  object \n",
      " 82  DefenderResponse              63234 non-null  object \n",
      " 83  Signature                     63234 non-null  object \n",
      "dtypes: float64(12), int64(60), object(12)\n",
      "memory usage: 40.5+ MB\n"
     ]
    }
   ],
   "source": [
    "null_percent = combined_data.isnull().mean()\n",
    "\n",
    "# Set the threshold for removing columns\n",
    "threshold = 0.30  # 30%\n",
    "\n",
    "# Identify columns to drop (those with more than 30% missing values)\n",
    "columns_to_drop = null_percent[null_percent > threshold].index\n",
    "\n",
    "# Drop the identified columns from the DataFrame\n",
    "df_cleaned = combined_data.drop(columns=columns_to_drop)\n",
    "\n",
    "# Check the cleaned DataFrame\n",
    "print(\"Columns with more than 30% null values removed:\")\n",
    "df_cleaned.info()"
   ]
  },
  {
   "cell_type": "markdown",
   "id": "973b12ab",
   "metadata": {
    "papermill": {
     "duration": 0.015577,
     "end_time": "2024-06-03T16:53:03.936884",
     "exception": false,
     "start_time": "2024-06-03T16:53:03.921307",
     "status": "completed"
    },
    "tags": []
   },
   "source": [
    "### Corellation"
   ]
  },
  {
   "cell_type": "code",
   "execution_count": 7,
   "id": "cecf2354",
   "metadata": {
    "execution": {
     "iopub.execute_input": "2024-06-03T16:53:03.972180Z",
     "iopub.status.busy": "2024-06-03T16:53:03.971814Z",
     "iopub.status.idle": "2024-06-03T16:53:04.797239Z",
     "shell.execute_reply": "2024-06-03T16:53:04.796196Z"
    },
    "papermill": {
     "duration": 0.845849,
     "end_time": "2024-06-03T16:53:04.799557",
     "exception": false,
     "start_time": "2024-06-03T16:53:03.953708",
     "status": "completed"
    },
    "tags": []
   },
   "outputs": [
    {
     "name": "stdout",
     "output_type": "stream",
     "text": [
      "Shape of DataFrame after dropping correlated features: (63234, 54)\n"
     ]
    }
   ],
   "source": [
    "import pandas as pd\n",
    "import numpy as np\n",
    "\n",
    "# Assuming df_cleaned is your DataFrame after removing null-valued columns\n",
    "# Compute correlation matrix\n",
    "df_cleaned_corr = df_cleaned.drop(columns=[\"id\" ,\"expiration_id\",\"src_ip\" , \"src_mac\" ,\"src_oui\", \"dst_ip\" , \"dst_mac\" , \"dst_oui\", \"application_name\" , \"application_category_name\" , \"Activity\" , \"Stage\" , \"DefenderResponse\" , \"Signature\"])\n",
    "correlation_matrix = df_cleaned_corr.corr().abs()\n",
    "\n",
    "# Select upper triangle of correlation matrix\n",
    "upper_triangle = correlation_matrix.where(np.triu(np.ones(correlation_matrix.shape), k=1).astype(np.bool_))\n",
    "\n",
    "# Find features with correlation greater than threshold (e.g., 0.95)\n",
    "threshold = 0.95\n",
    "correlated_features = [column for column in upper_triangle.columns if any(upper_triangle[column] > threshold)]\n",
    "\n",
    "# Drop correlated features\n",
    "df_uncorrelated = df_cleaned_corr.drop(columns=correlated_features)\n",
    "\n",
    "# Check the shape of the DataFrame after dropping correlated features\n",
    "print(\"Shape of DataFrame after dropping correlated features:\", df_uncorrelated.shape)"
   ]
  },
  {
   "cell_type": "code",
   "execution_count": 8,
   "id": "b5faeb60",
   "metadata": {
    "execution": {
     "iopub.execute_input": "2024-06-03T16:53:04.833739Z",
     "iopub.status.busy": "2024-06-03T16:53:04.833453Z",
     "iopub.status.idle": "2024-06-03T16:53:04.852525Z",
     "shell.execute_reply": "2024-06-03T16:53:04.851440Z"
    },
    "papermill": {
     "duration": 0.037418,
     "end_time": "2024-06-03T16:53:04.854478",
     "exception": false,
     "start_time": "2024-06-03T16:53:04.817060",
     "status": "completed"
    },
    "tags": []
   },
   "outputs": [
    {
     "data": {
      "text/html": [
       "<div>\n",
       "<style scoped>\n",
       "    .dataframe tbody tr th:only-of-type {\n",
       "        vertical-align: middle;\n",
       "    }\n",
       "\n",
       "    .dataframe tbody tr th {\n",
       "        vertical-align: top;\n",
       "    }\n",
       "\n",
       "    .dataframe thead th {\n",
       "        text-align: right;\n",
       "    }\n",
       "</style>\n",
       "<table border=\"1\" class=\"dataframe\">\n",
       "  <thead>\n",
       "    <tr style=\"text-align: right;\">\n",
       "      <th></th>\n",
       "      <th>src_port</th>\n",
       "      <th>dst_port</th>\n",
       "      <th>protocol</th>\n",
       "      <th>ip_version</th>\n",
       "      <th>vlan_id</th>\n",
       "      <th>tunnel_id</th>\n",
       "      <th>bidirectional_first_seen_ms</th>\n",
       "      <th>bidirectional_duration_ms</th>\n",
       "      <th>bidirectional_packets</th>\n",
       "      <th>bidirectional_bytes</th>\n",
       "      <th>...</th>\n",
       "      <th>src2dst_urg_packets</th>\n",
       "      <th>src2dst_psh_packets</th>\n",
       "      <th>src2dst_rst_packets</th>\n",
       "      <th>dst2src_cwr_packets</th>\n",
       "      <th>dst2src_ece_packets</th>\n",
       "      <th>dst2src_urg_packets</th>\n",
       "      <th>dst2src_ack_packets</th>\n",
       "      <th>dst2src_psh_packets</th>\n",
       "      <th>dst2src_rst_packets</th>\n",
       "      <th>application_is_guessed</th>\n",
       "    </tr>\n",
       "  </thead>\n",
       "  <tbody>\n",
       "    <tr>\n",
       "      <th>0</th>\n",
       "      <td>60689</td>\n",
       "      <td>53</td>\n",
       "      <td>17</td>\n",
       "      <td>4</td>\n",
       "      <td>0</td>\n",
       "      <td>0</td>\n",
       "      <td>1624820683947</td>\n",
       "      <td>17</td>\n",
       "      <td>2</td>\n",
       "      <td>294</td>\n",
       "      <td>...</td>\n",
       "      <td>0</td>\n",
       "      <td>0</td>\n",
       "      <td>0</td>\n",
       "      <td>0</td>\n",
       "      <td>0</td>\n",
       "      <td>0</td>\n",
       "      <td>0</td>\n",
       "      <td>0</td>\n",
       "      <td>0</td>\n",
       "      <td>0</td>\n",
       "    </tr>\n",
       "    <tr>\n",
       "      <th>1</th>\n",
       "      <td>62264</td>\n",
       "      <td>80</td>\n",
       "      <td>6</td>\n",
       "      <td>4</td>\n",
       "      <td>0</td>\n",
       "      <td>0</td>\n",
       "      <td>1624820683972</td>\n",
       "      <td>60038</td>\n",
       "      <td>11</td>\n",
       "      <td>5464</td>\n",
       "      <td>...</td>\n",
       "      <td>0</td>\n",
       "      <td>1</td>\n",
       "      <td>0</td>\n",
       "      <td>0</td>\n",
       "      <td>0</td>\n",
       "      <td>0</td>\n",
       "      <td>5</td>\n",
       "      <td>2</td>\n",
       "      <td>0</td>\n",
       "      <td>0</td>\n",
       "    </tr>\n",
       "    <tr>\n",
       "      <th>2</th>\n",
       "      <td>46190</td>\n",
       "      <td>443</td>\n",
       "      <td>6</td>\n",
       "      <td>4</td>\n",
       "      <td>0</td>\n",
       "      <td>0</td>\n",
       "      <td>1624820685998</td>\n",
       "      <td>71</td>\n",
       "      <td>8</td>\n",
       "      <td>552</td>\n",
       "      <td>...</td>\n",
       "      <td>0</td>\n",
       "      <td>1</td>\n",
       "      <td>2</td>\n",
       "      <td>0</td>\n",
       "      <td>0</td>\n",
       "      <td>0</td>\n",
       "      <td>4</td>\n",
       "      <td>1</td>\n",
       "      <td>0</td>\n",
       "      <td>1</td>\n",
       "    </tr>\n",
       "    <tr>\n",
       "      <th>3</th>\n",
       "      <td>123</td>\n",
       "      <td>123</td>\n",
       "      <td>17</td>\n",
       "      <td>4</td>\n",
       "      <td>0</td>\n",
       "      <td>0</td>\n",
       "      <td>1624820862169</td>\n",
       "      <td>30</td>\n",
       "      <td>2</td>\n",
       "      <td>180</td>\n",
       "      <td>...</td>\n",
       "      <td>0</td>\n",
       "      <td>0</td>\n",
       "      <td>0</td>\n",
       "      <td>0</td>\n",
       "      <td>0</td>\n",
       "      <td>0</td>\n",
       "      <td>0</td>\n",
       "      <td>0</td>\n",
       "      <td>0</td>\n",
       "      <td>0</td>\n",
       "    </tr>\n",
       "    <tr>\n",
       "      <th>4</th>\n",
       "      <td>123</td>\n",
       "      <td>123</td>\n",
       "      <td>17</td>\n",
       "      <td>4</td>\n",
       "      <td>0</td>\n",
       "      <td>0</td>\n",
       "      <td>1624820755441</td>\n",
       "      <td>61713</td>\n",
       "      <td>4</td>\n",
       "      <td>360</td>\n",
       "      <td>...</td>\n",
       "      <td>0</td>\n",
       "      <td>0</td>\n",
       "      <td>0</td>\n",
       "      <td>0</td>\n",
       "      <td>0</td>\n",
       "      <td>0</td>\n",
       "      <td>0</td>\n",
       "      <td>0</td>\n",
       "      <td>0</td>\n",
       "      <td>0</td>\n",
       "    </tr>\n",
       "  </tbody>\n",
       "</table>\n",
       "<p>5 rows × 54 columns</p>\n",
       "</div>"
      ],
      "text/plain": [
       "   src_port  dst_port  protocol  ip_version  vlan_id  tunnel_id  \\\n",
       "0     60689        53        17           4        0          0   \n",
       "1     62264        80         6           4        0          0   \n",
       "2     46190       443         6           4        0          0   \n",
       "3       123       123        17           4        0          0   \n",
       "4       123       123        17           4        0          0   \n",
       "\n",
       "   bidirectional_first_seen_ms  bidirectional_duration_ms  \\\n",
       "0                1624820683947                         17   \n",
       "1                1624820683972                      60038   \n",
       "2                1624820685998                         71   \n",
       "3                1624820862169                         30   \n",
       "4                1624820755441                      61713   \n",
       "\n",
       "   bidirectional_packets  bidirectional_bytes  ...  src2dst_urg_packets  \\\n",
       "0                      2                  294  ...                    0   \n",
       "1                     11                 5464  ...                    0   \n",
       "2                      8                  552  ...                    0   \n",
       "3                      2                  180  ...                    0   \n",
       "4                      4                  360  ...                    0   \n",
       "\n",
       "   src2dst_psh_packets  src2dst_rst_packets  dst2src_cwr_packets  \\\n",
       "0                    0                    0                    0   \n",
       "1                    1                    0                    0   \n",
       "2                    1                    2                    0   \n",
       "3                    0                    0                    0   \n",
       "4                    0                    0                    0   \n",
       "\n",
       "   dst2src_ece_packets  dst2src_urg_packets  dst2src_ack_packets  \\\n",
       "0                    0                    0                    0   \n",
       "1                    0                    0                    5   \n",
       "2                    0                    0                    4   \n",
       "3                    0                    0                    0   \n",
       "4                    0                    0                    0   \n",
       "\n",
       "   dst2src_psh_packets  dst2src_rst_packets  application_is_guessed  \n",
       "0                    0                    0                       0  \n",
       "1                    2                    0                       0  \n",
       "2                    1                    0                       1  \n",
       "3                    0                    0                       0  \n",
       "4                    0                    0                       0  \n",
       "\n",
       "[5 rows x 54 columns]"
      ]
     },
     "execution_count": 8,
     "metadata": {},
     "output_type": "execute_result"
    }
   ],
   "source": [
    "df_uncorrelated.head(5)"
   ]
  },
  {
   "cell_type": "markdown",
   "id": "111484b1",
   "metadata": {
    "papermill": {
     "duration": 0.01588,
     "end_time": "2024-06-03T16:53:04.886422",
     "exception": false,
     "start_time": "2024-06-03T16:53:04.870542",
     "status": "completed"
    },
    "tags": []
   },
   "source": [
    "### Label Encoding to targeted label."
   ]
  },
  {
   "cell_type": "code",
   "execution_count": 9,
   "id": "76d51993",
   "metadata": {
    "execution": {
     "iopub.execute_input": "2024-06-03T16:53:04.920245Z",
     "iopub.status.busy": "2024-06-03T16:53:04.919868Z",
     "iopub.status.idle": "2024-06-03T16:53:05.963352Z",
     "shell.execute_reply": "2024-06-03T16:53:05.961938Z"
    },
    "papermill": {
     "duration": 1.063526,
     "end_time": "2024-06-03T16:53:05.965667",
     "exception": false,
     "start_time": "2024-06-03T16:53:04.902141",
     "status": "completed"
    },
    "tags": []
   },
   "outputs": [
    {
     "name": "stdout",
     "output_type": "stream",
     "text": [
      "Encoded target classes:\n",
      "APT: 0\n",
      "Non-APT: 1\n",
      "Transformed target classes:\n",
      "[1 1 0 ... 1 1 1]\n"
     ]
    }
   ],
   "source": [
    "from sklearn.preprocessing import LabelEncoder\n",
    "\n",
    "# Sample target classes\n",
    "target_classes = combined_data[\"Signature\"].values\n",
    "\n",
    "# Initialize LabelEncoder\n",
    "encoder = LabelEncoder()\n",
    "\n",
    "# Fit and transform the target classes\n",
    "Y = encoder.fit_transform(target_classes)\n",
    "\n",
    "# Display the encoded target classes\n",
    "print(\"Encoded target classes:\")\n",
    "for class_name, encoded_class in zip(encoder.classes_, range(len(encoder.classes_))):\n",
    "    print(f\"{class_name}: {encoded_class}\")\n",
    "\n",
    "# Check the transformed target classes\n",
    "print(\"Transformed target classes:\")\n",
    "print(Y)"
   ]
  },
  {
   "cell_type": "markdown",
   "id": "061b822e",
   "metadata": {
    "papermill": {
     "duration": 0.017248,
     "end_time": "2024-06-03T16:53:06.000348",
     "exception": false,
     "start_time": "2024-06-03T16:53:05.983100",
     "status": "completed"
    },
    "tags": []
   },
   "source": [
    "### IP features convertion."
   ]
  },
  {
   "cell_type": "code",
   "execution_count": 10,
   "id": "373239ba",
   "metadata": {
    "execution": {
     "iopub.execute_input": "2024-06-03T16:53:06.034472Z",
     "iopub.status.busy": "2024-06-03T16:53:06.034130Z",
     "iopub.status.idle": "2024-06-03T16:53:06.922385Z",
     "shell.execute_reply": "2024-06-03T16:53:06.921201Z"
    },
    "papermill": {
     "duration": 0.908106,
     "end_time": "2024-06-03T16:53:06.924716",
     "exception": false,
     "start_time": "2024-06-03T16:53:06.016610",
     "status": "completed"
    },
    "tags": []
   },
   "outputs": [
    {
     "name": "stderr",
     "output_type": "stream",
     "text": [
      "/tmp/ipykernel_24/1783987800.py:31: FutureWarning: A value is trying to be set on a copy of a DataFrame or Series through chained assignment using an inplace method.\n",
      "The behavior will change in pandas 3.0. This inplace method will never work because the intermediate object on which we are setting values always behaves as a copy.\n",
      "\n",
      "For example, when doing 'df[col].method(value, inplace=True)', try using 'df.method({col: value}, inplace=True)' or df[col] = df[col].method(value) instead, to perform the operation inplace on the original object.\n",
      "\n",
      "\n",
      "  df_ip['src_ip'].fillna(-1, inplace=True)\n",
      "/tmp/ipykernel_24/1783987800.py:32: FutureWarning: A value is trying to be set on a copy of a DataFrame or Series through chained assignment using an inplace method.\n",
      "The behavior will change in pandas 3.0. This inplace method will never work because the intermediate object on which we are setting values always behaves as a copy.\n",
      "\n",
      "For example, when doing 'df[col].method(value, inplace=True)', try using 'df.method({col: value}, inplace=True)' or df[col] = df[col].method(value) instead, to perform the operation inplace on the original object.\n",
      "\n",
      "\n",
      "  df_ip['dst_ip'].fillna(-1, inplace=True)\n"
     ]
    },
    {
     "data": {
      "text/html": [
       "<div>\n",
       "<style scoped>\n",
       "    .dataframe tbody tr th:only-of-type {\n",
       "        vertical-align: middle;\n",
       "    }\n",
       "\n",
       "    .dataframe tbody tr th {\n",
       "        vertical-align: top;\n",
       "    }\n",
       "\n",
       "    .dataframe thead th {\n",
       "        text-align: right;\n",
       "    }\n",
       "</style>\n",
       "<table border=\"1\" class=\"dataframe\">\n",
       "  <thead>\n",
       "    <tr style=\"text-align: right;\">\n",
       "      <th></th>\n",
       "      <th>src_ip</th>\n",
       "      <th>dst_ip</th>\n",
       "    </tr>\n",
       "  </thead>\n",
       "  <tbody>\n",
       "    <tr>\n",
       "      <th>0</th>\n",
       "      <td>0.752563</td>\n",
       "      <td>0.031373</td>\n",
       "    </tr>\n",
       "    <tr>\n",
       "      <th>1</th>\n",
       "      <td>0.752563</td>\n",
       "      <td>0.719218</td>\n",
       "    </tr>\n",
       "    <tr>\n",
       "      <th>2</th>\n",
       "      <td>0.752563</td>\n",
       "      <td>0.039185</td>\n",
       "    </tr>\n",
       "    <tr>\n",
       "      <th>3</th>\n",
       "      <td>0.752563</td>\n",
       "      <td>0.635251</td>\n",
       "    </tr>\n",
       "    <tr>\n",
       "      <th>4</th>\n",
       "      <td>0.752563</td>\n",
       "      <td>0.198455</td>\n",
       "    </tr>\n",
       "    <tr>\n",
       "      <th>...</th>\n",
       "      <td>...</td>\n",
       "      <td>...</td>\n",
       "    </tr>\n",
       "    <tr>\n",
       "      <th>63229</th>\n",
       "      <td>0.039078</td>\n",
       "      <td>0.937500</td>\n",
       "    </tr>\n",
       "    <tr>\n",
       "      <th>63230</th>\n",
       "      <td>0.039078</td>\n",
       "      <td>0.937500</td>\n",
       "    </tr>\n",
       "    <tr>\n",
       "      <th>63231</th>\n",
       "      <td>0.039078</td>\n",
       "      <td>0.937500</td>\n",
       "    </tr>\n",
       "    <tr>\n",
       "      <th>63232</th>\n",
       "      <td>0.039078</td>\n",
       "      <td>0.937500</td>\n",
       "    </tr>\n",
       "    <tr>\n",
       "      <th>63233</th>\n",
       "      <td>0.039078</td>\n",
       "      <td>0.937500</td>\n",
       "    </tr>\n",
       "  </tbody>\n",
       "</table>\n",
       "<p>63234 rows × 2 columns</p>\n",
       "</div>"
      ],
      "text/plain": [
       "         src_ip    dst_ip\n",
       "0      0.752563  0.031373\n",
       "1      0.752563  0.719218\n",
       "2      0.752563  0.039185\n",
       "3      0.752563  0.635251\n",
       "4      0.752563  0.198455\n",
       "...         ...       ...\n",
       "63229  0.039078  0.937500\n",
       "63230  0.039078  0.937500\n",
       "63231  0.039078  0.937500\n",
       "63232  0.039078  0.937500\n",
       "63233  0.039078  0.937500\n",
       "\n",
       "[63234 rows x 2 columns]"
      ]
     },
     "execution_count": 10,
     "metadata": {},
     "output_type": "execute_result"
    }
   ],
   "source": [
    "import pandas as pd\n",
    "import numpy as np\n",
    "import ipaddress\n",
    "# import category_encoders as ce\n",
    "\n",
    "# Sample DataFrame for demonstration\n",
    "# df_cleaned = pd.read_csv('your_dataset.csv')  # Assuming you load your data this way\n",
    "non_numeric_columns = [\"src_ip\", \"src_mac\", \"src_oui\", \"dst_ip\", \"dst_mac\",\n",
    "                       \"dst_oui\", \"application_name\", \"application_category_name\"]\n",
    "\n",
    "# List of non-numeric columns\n",
    "\n",
    "# Function to validate and convert IP to integer\n",
    "def validate_and_convert_ip(ip):\n",
    "    try:\n",
    "        # Check if it's a valid IPv4 address\n",
    "        ip = ipaddress.IPv4Address(ip)\n",
    "        return int(ip) / (2**32 - 1)  # Normalize to the range [0, 1]\n",
    "    except:\n",
    "        # Handle both IPv6 and invalid addresses by returning NaN\n",
    "        return np.nan\n",
    "\n",
    "# Create a copy of the IP-related columns to avoid modifying the original DataFrame\n",
    "df_ip = df_cleaned[[\"src_ip\", \"dst_ip\"]].copy()\n",
    "\n",
    "# Apply the function to IP columns\n",
    "df_ip['src_ip'] = df_ip['src_ip'].apply(validate_and_convert_ip)\n",
    "df_ip['dst_ip'] = df_ip['dst_ip'].apply(validate_and_convert_ip)\n",
    "\n",
    "# Handle NaN values that may have resulted from invalid IPs\n",
    "df_ip['src_ip'].fillna(-1, inplace=True)\n",
    "df_ip['dst_ip'].fillna(-1, inplace=True)\n",
    "\n",
    "# Combine df_ip back with the other non-numeric columns for encoding\n",
    "df_non_numeric = df_cleaned[non_numeric_columns].copy()\n",
    "df_combined = pd.concat([df_ip, df_non_numeric], axis=1)\n",
    "\n",
    "\n",
    "\n",
    "# Check the resulting dataframe\n",
    "df_ip"
   ]
  },
  {
   "cell_type": "markdown",
   "id": "4f0b704c",
   "metadata": {
    "papermill": {
     "duration": 0.01874,
     "end_time": "2024-06-03T16:53:06.961329",
     "exception": false,
     "start_time": "2024-06-03T16:53:06.942589",
     "status": "completed"
    },
    "tags": []
   },
   "source": [
    "### Other non-numeric conversion"
   ]
  },
  {
   "cell_type": "code",
   "execution_count": 11,
   "id": "37afa30c",
   "metadata": {
    "execution": {
     "iopub.execute_input": "2024-06-03T16:53:06.997440Z",
     "iopub.status.busy": "2024-06-03T16:53:06.996998Z",
     "iopub.status.idle": "2024-06-03T16:53:08.029254Z",
     "shell.execute_reply": "2024-06-03T16:53:08.028358Z"
    },
    "papermill": {
     "duration": 1.052986,
     "end_time": "2024-06-03T16:53:08.031561",
     "exception": false,
     "start_time": "2024-06-03T16:53:06.978575",
     "status": "completed"
    },
    "tags": []
   },
   "outputs": [],
   "source": [
    "import category_encoders as ce\n",
    "# Create a DataFrame for non-numeric columns excluding IPs\n",
    "non_ip_columns = [\"src_mac\", \"src_oui\", \"dst_mac\",\n",
    "                  \"dst_oui\", \"application_name\", \"application_category_name\"]\n",
    "\n",
    "# Select the non-IP non-numeric columns\n",
    "df_non_numeric = df_cleaned[non_ip_columns].copy()\n",
    "\n",
    "# Initialize the target encoder\n",
    "target_encoder = ce.TargetEncoder(cols=non_ip_columns)\n",
    "\n",
    "# Assuming Y is your target variable\n",
    "# Y = df_cleaned['target_variable']\n",
    "\n",
    "# Fit and transform the data\n",
    "encoded_non_ip = target_encoder.fit_transform(df_non_numeric, Y)"
   ]
  },
  {
   "cell_type": "markdown",
   "id": "2bb68cf6",
   "metadata": {
    "papermill": {
     "duration": 0.016559,
     "end_time": "2024-06-03T16:53:08.065919",
     "exception": false,
     "start_time": "2024-06-03T16:53:08.049360",
     "status": "completed"
    },
    "tags": []
   },
   "source": [
    "### All features"
   ]
  },
  {
   "cell_type": "code",
   "execution_count": 12,
   "id": "9fa5d88e",
   "metadata": {
    "execution": {
     "iopub.execute_input": "2024-06-03T16:53:08.102608Z",
     "iopub.status.busy": "2024-06-03T16:53:08.102100Z",
     "iopub.status.idle": "2024-06-03T16:53:08.160260Z",
     "shell.execute_reply": "2024-06-03T16:53:08.159324Z"
    },
    "papermill": {
     "duration": 0.079199,
     "end_time": "2024-06-03T16:53:08.162454",
     "exception": false,
     "start_time": "2024-06-03T16:53:08.083255",
     "status": "completed"
    },
    "tags": []
   },
   "outputs": [
    {
     "data": {
      "text/html": [
       "<div>\n",
       "<style scoped>\n",
       "    .dataframe tbody tr th:only-of-type {\n",
       "        vertical-align: middle;\n",
       "    }\n",
       "\n",
       "    .dataframe tbody tr th {\n",
       "        vertical-align: top;\n",
       "    }\n",
       "\n",
       "    .dataframe thead th {\n",
       "        text-align: right;\n",
       "    }\n",
       "</style>\n",
       "<table border=\"1\" class=\"dataframe\">\n",
       "  <thead>\n",
       "    <tr style=\"text-align: right;\">\n",
       "      <th></th>\n",
       "      <th>src_ip</th>\n",
       "      <th>dst_ip</th>\n",
       "      <th>src_mac</th>\n",
       "      <th>src_oui</th>\n",
       "      <th>dst_mac</th>\n",
       "      <th>dst_oui</th>\n",
       "      <th>application_name</th>\n",
       "      <th>application_category_name</th>\n",
       "      <th>src_port</th>\n",
       "      <th>dst_port</th>\n",
       "      <th>...</th>\n",
       "      <th>src2dst_urg_packets</th>\n",
       "      <th>src2dst_psh_packets</th>\n",
       "      <th>src2dst_rst_packets</th>\n",
       "      <th>dst2src_cwr_packets</th>\n",
       "      <th>dst2src_ece_packets</th>\n",
       "      <th>dst2src_urg_packets</th>\n",
       "      <th>dst2src_ack_packets</th>\n",
       "      <th>dst2src_psh_packets</th>\n",
       "      <th>dst2src_rst_packets</th>\n",
       "      <th>application_is_guessed</th>\n",
       "    </tr>\n",
       "  </thead>\n",
       "  <tbody>\n",
       "    <tr>\n",
       "      <th>0</th>\n",
       "      <td>0.752563</td>\n",
       "      <td>0.031373</td>\n",
       "      <td>0.884482</td>\n",
       "      <td>0.902774</td>\n",
       "      <td>0.881909</td>\n",
       "      <td>0.872252</td>\n",
       "      <td>1.000000</td>\n",
       "      <td>1.000000</td>\n",
       "      <td>60689</td>\n",
       "      <td>53</td>\n",
       "      <td>...</td>\n",
       "      <td>0</td>\n",
       "      <td>0</td>\n",
       "      <td>0</td>\n",
       "      <td>0</td>\n",
       "      <td>0</td>\n",
       "      <td>0</td>\n",
       "      <td>0</td>\n",
       "      <td>0</td>\n",
       "      <td>0</td>\n",
       "      <td>0</td>\n",
       "    </tr>\n",
       "    <tr>\n",
       "      <th>1</th>\n",
       "      <td>0.752563</td>\n",
       "      <td>0.719218</td>\n",
       "      <td>0.884482</td>\n",
       "      <td>0.902774</td>\n",
       "      <td>0.881909</td>\n",
       "      <td>0.872252</td>\n",
       "      <td>1.000000</td>\n",
       "      <td>1.000000</td>\n",
       "      <td>62264</td>\n",
       "      <td>80</td>\n",
       "      <td>...</td>\n",
       "      <td>0</td>\n",
       "      <td>1</td>\n",
       "      <td>0</td>\n",
       "      <td>0</td>\n",
       "      <td>0</td>\n",
       "      <td>0</td>\n",
       "      <td>5</td>\n",
       "      <td>2</td>\n",
       "      <td>0</td>\n",
       "      <td>0</td>\n",
       "    </tr>\n",
       "    <tr>\n",
       "      <th>2</th>\n",
       "      <td>0.752563</td>\n",
       "      <td>0.039185</td>\n",
       "      <td>0.884482</td>\n",
       "      <td>0.902774</td>\n",
       "      <td>0.881909</td>\n",
       "      <td>0.872252</td>\n",
       "      <td>0.399199</td>\n",
       "      <td>0.665742</td>\n",
       "      <td>46190</td>\n",
       "      <td>443</td>\n",
       "      <td>...</td>\n",
       "      <td>0</td>\n",
       "      <td>1</td>\n",
       "      <td>2</td>\n",
       "      <td>0</td>\n",
       "      <td>0</td>\n",
       "      <td>0</td>\n",
       "      <td>4</td>\n",
       "      <td>1</td>\n",
       "      <td>0</td>\n",
       "      <td>1</td>\n",
       "    </tr>\n",
       "    <tr>\n",
       "      <th>3</th>\n",
       "      <td>0.752563</td>\n",
       "      <td>0.635251</td>\n",
       "      <td>0.884482</td>\n",
       "      <td>0.902774</td>\n",
       "      <td>0.881909</td>\n",
       "      <td>0.872252</td>\n",
       "      <td>1.000000</td>\n",
       "      <td>1.000000</td>\n",
       "      <td>123</td>\n",
       "      <td>123</td>\n",
       "      <td>...</td>\n",
       "      <td>0</td>\n",
       "      <td>0</td>\n",
       "      <td>0</td>\n",
       "      <td>0</td>\n",
       "      <td>0</td>\n",
       "      <td>0</td>\n",
       "      <td>0</td>\n",
       "      <td>0</td>\n",
       "      <td>0</td>\n",
       "      <td>0</td>\n",
       "    </tr>\n",
       "    <tr>\n",
       "      <th>4</th>\n",
       "      <td>0.752563</td>\n",
       "      <td>0.198455</td>\n",
       "      <td>0.884482</td>\n",
       "      <td>0.902774</td>\n",
       "      <td>0.881909</td>\n",
       "      <td>0.872252</td>\n",
       "      <td>1.000000</td>\n",
       "      <td>1.000000</td>\n",
       "      <td>123</td>\n",
       "      <td>123</td>\n",
       "      <td>...</td>\n",
       "      <td>0</td>\n",
       "      <td>0</td>\n",
       "      <td>0</td>\n",
       "      <td>0</td>\n",
       "      <td>0</td>\n",
       "      <td>0</td>\n",
       "      <td>0</td>\n",
       "      <td>0</td>\n",
       "      <td>0</td>\n",
       "      <td>0</td>\n",
       "    </tr>\n",
       "  </tbody>\n",
       "</table>\n",
       "<p>5 rows × 62 columns</p>\n",
       "</div>"
      ],
      "text/plain": [
       "     src_ip    dst_ip   src_mac   src_oui   dst_mac   dst_oui  \\\n",
       "0  0.752563  0.031373  0.884482  0.902774  0.881909  0.872252   \n",
       "1  0.752563  0.719218  0.884482  0.902774  0.881909  0.872252   \n",
       "2  0.752563  0.039185  0.884482  0.902774  0.881909  0.872252   \n",
       "3  0.752563  0.635251  0.884482  0.902774  0.881909  0.872252   \n",
       "4  0.752563  0.198455  0.884482  0.902774  0.881909  0.872252   \n",
       "\n",
       "   application_name  application_category_name  src_port  dst_port  ...  \\\n",
       "0          1.000000                   1.000000     60689        53  ...   \n",
       "1          1.000000                   1.000000     62264        80  ...   \n",
       "2          0.399199                   0.665742     46190       443  ...   \n",
       "3          1.000000                   1.000000       123       123  ...   \n",
       "4          1.000000                   1.000000       123       123  ...   \n",
       "\n",
       "   src2dst_urg_packets  src2dst_psh_packets  src2dst_rst_packets  \\\n",
       "0                    0                    0                    0   \n",
       "1                    0                    1                    0   \n",
       "2                    0                    1                    2   \n",
       "3                    0                    0                    0   \n",
       "4                    0                    0                    0   \n",
       "\n",
       "   dst2src_cwr_packets  dst2src_ece_packets  dst2src_urg_packets  \\\n",
       "0                    0                    0                    0   \n",
       "1                    0                    0                    0   \n",
       "2                    0                    0                    0   \n",
       "3                    0                    0                    0   \n",
       "4                    0                    0                    0   \n",
       "\n",
       "   dst2src_ack_packets  dst2src_psh_packets  dst2src_rst_packets  \\\n",
       "0                    0                    0                    0   \n",
       "1                    5                    2                    0   \n",
       "2                    4                    1                    0   \n",
       "3                    0                    0                    0   \n",
       "4                    0                    0                    0   \n",
       "\n",
       "   application_is_guessed  \n",
       "0                       0  \n",
       "1                       0  \n",
       "2                       1  \n",
       "3                       0  \n",
       "4                       0  \n",
       "\n",
       "[5 rows x 62 columns]"
      ]
     },
     "execution_count": 12,
     "metadata": {},
     "output_type": "execute_result"
    }
   ],
   "source": [
    "# Combine the encoded IP and non-IP columns with other numeric features\n",
    "X = pd.concat([df_ip, encoded_non_ip, df_uncorrelated], axis=1)\n",
    "\n",
    "# Check the resulting dataframe\n",
    "X.head()"
   ]
  },
  {
   "cell_type": "code",
   "execution_count": 13,
   "id": "5d2fe427",
   "metadata": {
    "execution": {
     "iopub.execute_input": "2024-06-03T16:53:08.199899Z",
     "iopub.status.busy": "2024-06-03T16:53:08.199555Z",
     "iopub.status.idle": "2024-06-03T16:53:08.205531Z",
     "shell.execute_reply": "2024-06-03T16:53:08.204587Z"
    },
    "papermill": {
     "duration": 0.02719,
     "end_time": "2024-06-03T16:53:08.207427",
     "exception": false,
     "start_time": "2024-06-03T16:53:08.180237",
     "status": "completed"
    },
    "tags": []
   },
   "outputs": [
    {
     "data": {
      "text/plain": [
       "(63234, 62)"
      ]
     },
     "execution_count": 13,
     "metadata": {},
     "output_type": "execute_result"
    }
   ],
   "source": [
    "X.shape"
   ]
  },
  {
   "cell_type": "code",
   "execution_count": 14,
   "id": "d4713266",
   "metadata": {
    "execution": {
     "iopub.execute_input": "2024-06-03T16:53:08.286356Z",
     "iopub.status.busy": "2024-06-03T16:53:08.285951Z",
     "iopub.status.idle": "2024-06-03T16:53:08.293032Z",
     "shell.execute_reply": "2024-06-03T16:53:08.292082Z"
    },
    "papermill": {
     "duration": 0.068837,
     "end_time": "2024-06-03T16:53:08.295162",
     "exception": false,
     "start_time": "2024-06-03T16:53:08.226325",
     "status": "completed"
    },
    "tags": []
   },
   "outputs": [
    {
     "data": {
      "text/plain": [
       "Index(['src_ip', 'dst_ip', 'src_mac', 'src_oui', 'dst_mac', 'dst_oui',\n",
       "       'application_name', 'application_category_name', 'src_port', 'dst_port',\n",
       "       'protocol', 'ip_version', 'vlan_id', 'tunnel_id',\n",
       "       'bidirectional_first_seen_ms', 'bidirectional_duration_ms',\n",
       "       'bidirectional_packets', 'bidirectional_bytes', 'src2dst_packets',\n",
       "       'src2dst_bytes', 'dst2src_first_seen_ms', 'dst2src_duration_ms',\n",
       "       'dst2src_packets', 'bidirectional_min_ps', 'bidirectional_mean_ps',\n",
       "       'bidirectional_stddev_ps', 'src2dst_mean_ps', 'src2dst_stddev_ps',\n",
       "       'dst2src_min_ps', 'dst2src_mean_ps', 'dst2src_stddev_ps',\n",
       "       'bidirectional_min_piat_ms', 'bidirectional_mean_piat_ms',\n",
       "       'bidirectional_stddev_piat_ms', 'bidirectional_max_piat_ms',\n",
       "       'src2dst_min_piat_ms', 'src2dst_mean_piat_ms', 'src2dst_stddev_piat_ms',\n",
       "       'dst2src_min_piat_ms', 'dst2src_mean_piat_ms', 'dst2src_stddev_piat_ms',\n",
       "       'dst2src_max_piat_ms', 'bidirectional_syn_packets',\n",
       "       'bidirectional_cwr_packets', 'bidirectional_ece_packets',\n",
       "       'bidirectional_urg_packets', 'bidirectional_ack_packets',\n",
       "       'bidirectional_psh_packets', 'bidirectional_rst_packets',\n",
       "       'bidirectional_fin_packets', 'src2dst_cwr_packets',\n",
       "       'src2dst_ece_packets', 'src2dst_urg_packets', 'src2dst_psh_packets',\n",
       "       'src2dst_rst_packets', 'dst2src_cwr_packets', 'dst2src_ece_packets',\n",
       "       'dst2src_urg_packets', 'dst2src_ack_packets', 'dst2src_psh_packets',\n",
       "       'dst2src_rst_packets', 'application_is_guessed'],\n",
       "      dtype='object')"
      ]
     },
     "execution_count": 14,
     "metadata": {},
     "output_type": "execute_result"
    }
   ],
   "source": [
    "X.columns"
   ]
  },
  {
   "cell_type": "markdown",
   "id": "194daf47",
   "metadata": {
    "papermill": {
     "duration": 0.01878,
     "end_time": "2024-06-03T16:53:08.333002",
     "exception": false,
     "start_time": "2024-06-03T16:53:08.314222",
     "status": "completed"
    },
    "tags": []
   },
   "source": [
    "### Assigning random_sample"
   ]
  },
  {
   "cell_type": "code",
   "execution_count": 15,
   "id": "0e7a9524",
   "metadata": {
    "execution": {
     "iopub.execute_input": "2024-06-03T16:53:08.372099Z",
     "iopub.status.busy": "2024-06-03T16:53:08.371737Z",
     "iopub.status.idle": "2024-06-03T16:53:08.376475Z",
     "shell.execute_reply": "2024-06-03T16:53:08.375170Z"
    },
    "papermill": {
     "duration": 0.026519,
     "end_time": "2024-06-03T16:53:08.378578",
     "exception": false,
     "start_time": "2024-06-03T16:53:08.352059",
     "status": "completed"
    },
    "tags": []
   },
   "outputs": [],
   "source": [
    "random_state = 42"
   ]
  },
  {
   "cell_type": "markdown",
   "id": "e07f453f",
   "metadata": {
    "papermill": {
     "duration": 0.01829,
     "end_time": "2024-06-03T16:53:08.416253",
     "exception": false,
     "start_time": "2024-06-03T16:53:08.397963",
     "status": "completed"
    },
    "tags": []
   },
   "source": [
    "### Data Balancing --> Undersampling"
   ]
  },
  {
   "cell_type": "code",
   "execution_count": 16,
   "id": "cc633e26",
   "metadata": {
    "execution": {
     "iopub.execute_input": "2024-06-03T16:53:08.452880Z",
     "iopub.status.busy": "2024-06-03T16:53:08.452560Z",
     "iopub.status.idle": "2024-06-03T17:04:26.148980Z",
     "shell.execute_reply": "2024-06-03T17:04:26.148249Z"
    },
    "papermill": {
     "duration": 677.73505,
     "end_time": "2024-06-03T17:04:26.168967",
     "exception": false,
     "start_time": "2024-06-03T16:53:08.433917",
     "status": "completed"
    },
    "tags": []
   },
   "outputs": [
    {
     "name": "stderr",
     "output_type": "stream",
     "text": [
      "/opt/conda/lib/python3.10/site-packages/sklearn/cluster/_kmeans.py:870: FutureWarning: The default value of `n_init` will change from 10 to 'auto' in 1.4. Set the value of `n_init` explicitly to suppress the warning\n",
      "  warnings.warn(\n"
     ]
    },
    {
     "name": "stdout",
     "output_type": "stream",
     "text": [
      "0    6148\n",
      "1    6148\n",
      "Name: count, dtype: int64\n"
     ]
    }
   ],
   "source": [
    "from sklearn.preprocessing import MinMaxScaler\n",
    "from imblearn.under_sampling import ClusterCentroids\n",
    "\n",
    "scaler = MinMaxScaler()\n",
    "X_scaled = pd.DataFrame(scaler.fit_transform(X), columns=X.columns)\n",
    "\n",
    "under_sampling = ClusterCentroids(random_state=random_state)\n",
    "\n",
    "X_resampled, y_resampled = under_sampling.fit_resample(X_scaled, Y)\n",
    "\n",
    "print(pd.Series(y_resampled).value_counts())"
   ]
  },
  {
   "cell_type": "code",
   "execution_count": 17,
   "id": "e121df54",
   "metadata": {
    "execution": {
     "iopub.execute_input": "2024-06-03T17:04:26.206198Z",
     "iopub.status.busy": "2024-06-03T17:04:26.205776Z",
     "iopub.status.idle": "2024-06-03T17:04:26.236894Z",
     "shell.execute_reply": "2024-06-03T17:04:26.235961Z"
    },
    "papermill": {
     "duration": 0.052362,
     "end_time": "2024-06-03T17:04:26.238903",
     "exception": false,
     "start_time": "2024-06-03T17:04:26.186541",
     "status": "completed"
    },
    "tags": []
   },
   "outputs": [
    {
     "data": {
      "text/html": [
       "<div>\n",
       "<style scoped>\n",
       "    .dataframe tbody tr th:only-of-type {\n",
       "        vertical-align: middle;\n",
       "    }\n",
       "\n",
       "    .dataframe tbody tr th {\n",
       "        vertical-align: top;\n",
       "    }\n",
       "\n",
       "    .dataframe thead th {\n",
       "        text-align: right;\n",
       "    }\n",
       "</style>\n",
       "<table border=\"1\" class=\"dataframe\">\n",
       "  <thead>\n",
       "    <tr style=\"text-align: right;\">\n",
       "      <th></th>\n",
       "      <th>src_ip</th>\n",
       "      <th>dst_ip</th>\n",
       "      <th>src_mac</th>\n",
       "      <th>src_oui</th>\n",
       "      <th>dst_mac</th>\n",
       "      <th>dst_oui</th>\n",
       "      <th>application_name</th>\n",
       "      <th>application_category_name</th>\n",
       "      <th>src_port</th>\n",
       "      <th>dst_port</th>\n",
       "      <th>...</th>\n",
       "      <th>src2dst_urg_packets</th>\n",
       "      <th>src2dst_psh_packets</th>\n",
       "      <th>src2dst_rst_packets</th>\n",
       "      <th>dst2src_cwr_packets</th>\n",
       "      <th>dst2src_ece_packets</th>\n",
       "      <th>dst2src_urg_packets</th>\n",
       "      <th>dst2src_ack_packets</th>\n",
       "      <th>dst2src_psh_packets</th>\n",
       "      <th>dst2src_rst_packets</th>\n",
       "      <th>application_is_guessed</th>\n",
       "    </tr>\n",
       "  </thead>\n",
       "  <tbody>\n",
       "    <tr>\n",
       "      <th>0</th>\n",
       "      <td>1.0</td>\n",
       "      <td>0.536354</td>\n",
       "      <td>0.784951</td>\n",
       "      <td>0.0</td>\n",
       "      <td>0.692016</td>\n",
       "      <td>0.0</td>\n",
       "      <td>0.0</td>\n",
       "      <td>0.0</td>\n",
       "      <td>0.704911</td>\n",
       "      <td>0.006769</td>\n",
       "      <td>...</td>\n",
       "      <td>0.0</td>\n",
       "      <td>0.000677</td>\n",
       "      <td>0.166667</td>\n",
       "      <td>0.0</td>\n",
       "      <td>0.0</td>\n",
       "      <td>0.0</td>\n",
       "      <td>0.000956</td>\n",
       "      <td>0.000417</td>\n",
       "      <td>0.0</td>\n",
       "      <td>1.0</td>\n",
       "    </tr>\n",
       "    <tr>\n",
       "      <th>1</th>\n",
       "      <td>1.0</td>\n",
       "      <td>0.536354</td>\n",
       "      <td>0.784951</td>\n",
       "      <td>0.0</td>\n",
       "      <td>0.692016</td>\n",
       "      <td>0.0</td>\n",
       "      <td>0.0</td>\n",
       "      <td>0.0</td>\n",
       "      <td>0.704972</td>\n",
       "      <td>0.006769</td>\n",
       "      <td>...</td>\n",
       "      <td>0.0</td>\n",
       "      <td>0.004060</td>\n",
       "      <td>0.166667</td>\n",
       "      <td>0.0</td>\n",
       "      <td>0.0</td>\n",
       "      <td>0.0</td>\n",
       "      <td>0.003823</td>\n",
       "      <td>0.001668</td>\n",
       "      <td>0.0</td>\n",
       "      <td>0.0</td>\n",
       "    </tr>\n",
       "    <tr>\n",
       "      <th>2</th>\n",
       "      <td>1.0</td>\n",
       "      <td>0.536354</td>\n",
       "      <td>0.784951</td>\n",
       "      <td>0.0</td>\n",
       "      <td>0.692016</td>\n",
       "      <td>0.0</td>\n",
       "      <td>0.0</td>\n",
       "      <td>0.0</td>\n",
       "      <td>0.978985</td>\n",
       "      <td>0.006769</td>\n",
       "      <td>...</td>\n",
       "      <td>0.0</td>\n",
       "      <td>0.004060</td>\n",
       "      <td>0.166667</td>\n",
       "      <td>0.0</td>\n",
       "      <td>0.0</td>\n",
       "      <td>0.0</td>\n",
       "      <td>0.003823</td>\n",
       "      <td>0.001668</td>\n",
       "      <td>0.0</td>\n",
       "      <td>0.0</td>\n",
       "    </tr>\n",
       "    <tr>\n",
       "      <th>3</th>\n",
       "      <td>1.0</td>\n",
       "      <td>0.536354</td>\n",
       "      <td>0.784951</td>\n",
       "      <td>0.0</td>\n",
       "      <td>0.692016</td>\n",
       "      <td>0.0</td>\n",
       "      <td>0.0</td>\n",
       "      <td>0.0</td>\n",
       "      <td>0.704942</td>\n",
       "      <td>0.006769</td>\n",
       "      <td>...</td>\n",
       "      <td>0.0</td>\n",
       "      <td>0.000677</td>\n",
       "      <td>0.166667</td>\n",
       "      <td>0.0</td>\n",
       "      <td>0.0</td>\n",
       "      <td>0.0</td>\n",
       "      <td>0.001434</td>\n",
       "      <td>0.000417</td>\n",
       "      <td>0.0</td>\n",
       "      <td>1.0</td>\n",
       "    </tr>\n",
       "    <tr>\n",
       "      <th>4</th>\n",
       "      <td>1.0</td>\n",
       "      <td>0.536354</td>\n",
       "      <td>0.784951</td>\n",
       "      <td>0.0</td>\n",
       "      <td>0.692016</td>\n",
       "      <td>0.0</td>\n",
       "      <td>0.0</td>\n",
       "      <td>0.0</td>\n",
       "      <td>0.978955</td>\n",
       "      <td>0.006769</td>\n",
       "      <td>...</td>\n",
       "      <td>0.0</td>\n",
       "      <td>0.000677</td>\n",
       "      <td>0.166667</td>\n",
       "      <td>0.0</td>\n",
       "      <td>0.0</td>\n",
       "      <td>0.0</td>\n",
       "      <td>0.001195</td>\n",
       "      <td>0.000417</td>\n",
       "      <td>0.0</td>\n",
       "      <td>1.0</td>\n",
       "    </tr>\n",
       "  </tbody>\n",
       "</table>\n",
       "<p>5 rows × 62 columns</p>\n",
       "</div>"
      ],
      "text/plain": [
       "   src_ip    dst_ip   src_mac  src_oui   dst_mac  dst_oui  application_name  \\\n",
       "0     1.0  0.536354  0.784951      0.0  0.692016      0.0               0.0   \n",
       "1     1.0  0.536354  0.784951      0.0  0.692016      0.0               0.0   \n",
       "2     1.0  0.536354  0.784951      0.0  0.692016      0.0               0.0   \n",
       "3     1.0  0.536354  0.784951      0.0  0.692016      0.0               0.0   \n",
       "4     1.0  0.536354  0.784951      0.0  0.692016      0.0               0.0   \n",
       "\n",
       "   application_category_name  src_port  dst_port  ...  src2dst_urg_packets  \\\n",
       "0                        0.0  0.704911  0.006769  ...                  0.0   \n",
       "1                        0.0  0.704972  0.006769  ...                  0.0   \n",
       "2                        0.0  0.978985  0.006769  ...                  0.0   \n",
       "3                        0.0  0.704942  0.006769  ...                  0.0   \n",
       "4                        0.0  0.978955  0.006769  ...                  0.0   \n",
       "\n",
       "   src2dst_psh_packets  src2dst_rst_packets  dst2src_cwr_packets  \\\n",
       "0             0.000677             0.166667                  0.0   \n",
       "1             0.004060             0.166667                  0.0   \n",
       "2             0.004060             0.166667                  0.0   \n",
       "3             0.000677             0.166667                  0.0   \n",
       "4             0.000677             0.166667                  0.0   \n",
       "\n",
       "   dst2src_ece_packets  dst2src_urg_packets  dst2src_ack_packets  \\\n",
       "0                  0.0                  0.0             0.000956   \n",
       "1                  0.0                  0.0             0.003823   \n",
       "2                  0.0                  0.0             0.003823   \n",
       "3                  0.0                  0.0             0.001434   \n",
       "4                  0.0                  0.0             0.001195   \n",
       "\n",
       "   dst2src_psh_packets  dst2src_rst_packets  application_is_guessed  \n",
       "0             0.000417                  0.0                     1.0  \n",
       "1             0.001668                  0.0                     0.0  \n",
       "2             0.001668                  0.0                     0.0  \n",
       "3             0.000417                  0.0                     1.0  \n",
       "4             0.000417                  0.0                     1.0  \n",
       "\n",
       "[5 rows x 62 columns]"
      ]
     },
     "execution_count": 17,
     "metadata": {},
     "output_type": "execute_result"
    }
   ],
   "source": [
    "X_resampled.head()"
   ]
  },
  {
   "cell_type": "code",
   "execution_count": 18,
   "id": "09fcc861",
   "metadata": {
    "execution": {
     "iopub.execute_input": "2024-06-03T17:04:26.276825Z",
     "iopub.status.busy": "2024-06-03T17:04:26.276549Z",
     "iopub.status.idle": "2024-06-03T17:04:26.282341Z",
     "shell.execute_reply": "2024-06-03T17:04:26.281471Z"
    },
    "papermill": {
     "duration": 0.027235,
     "end_time": "2024-06-03T17:04:26.284263",
     "exception": false,
     "start_time": "2024-06-03T17:04:26.257028",
     "status": "completed"
    },
    "tags": []
   },
   "outputs": [
    {
     "data": {
      "text/plain": [
       "(12296, 62)"
      ]
     },
     "execution_count": 18,
     "metadata": {},
     "output_type": "execute_result"
    }
   ],
   "source": [
    "X_resampled.shape"
   ]
  },
  {
   "cell_type": "markdown",
   "id": "4c258b4c",
   "metadata": {
    "papermill": {
     "duration": 0.018898,
     "end_time": "2024-06-03T17:04:26.321631",
     "exception": false,
     "start_time": "2024-06-03T17:04:26.302733",
     "status": "completed"
    },
    "tags": []
   },
   "source": [
    "### Training Model."
   ]
  },
  {
   "cell_type": "code",
   "execution_count": 19,
   "id": "7ae9ce3c",
   "metadata": {
    "execution": {
     "iopub.execute_input": "2024-06-03T17:04:26.360150Z",
     "iopub.status.busy": "2024-06-03T17:04:26.359878Z",
     "iopub.status.idle": "2024-06-03T17:09:13.355210Z",
     "shell.execute_reply": "2024-06-03T17:09:13.354387Z"
    },
    "papermill": {
     "duration": 287.017302,
     "end_time": "2024-06-03T17:09:13.357321",
     "exception": false,
     "start_time": "2024-06-03T17:04:26.340019",
     "status": "completed"
    },
    "tags": []
   },
   "outputs": [
    {
     "name": "stderr",
     "output_type": "stream",
     "text": [
      "2024-06-03 17:04:27.871735: E external/local_xla/xla/stream_executor/cuda/cuda_dnn.cc:9261] Unable to register cuDNN factory: Attempting to register factory for plugin cuDNN when one has already been registered\n",
      "2024-06-03 17:04:27.871837: E external/local_xla/xla/stream_executor/cuda/cuda_fft.cc:607] Unable to register cuFFT factory: Attempting to register factory for plugin cuFFT when one has already been registered\n",
      "2024-06-03 17:04:27.966652: E external/local_xla/xla/stream_executor/cuda/cuda_blas.cc:1515] Unable to register cuBLAS factory: Attempting to register factory for plugin cuBLAS when one has already been registered\n"
     ]
    },
    {
     "data": {
      "text/html": [
       "<pre style=\"white-space:pre;overflow-x:auto;line-height:normal;font-family:Menlo,'DejaVu Sans Mono',consolas,'Courier New',monospace\"><span style=\"font-weight: bold\">Model: \"functional_1\"</span>\n",
       "</pre>\n"
      ],
      "text/plain": [
       "\u001b[1mModel: \"functional_1\"\u001b[0m\n"
      ]
     },
     "metadata": {},
     "output_type": "display_data"
    },
    {
     "data": {
      "text/html": [
       "<pre style=\"white-space:pre;overflow-x:auto;line-height:normal;font-family:Menlo,'DejaVu Sans Mono',consolas,'Courier New',monospace\">┏━━━━━━━━━━━━━━━━━━━━━┳━━━━━━━━━━━━━━━━━━━┳━━━━━━━━━━━━┳━━━━━━━━━━━━━━━━━━━┓\n",
       "┃<span style=\"font-weight: bold\"> Layer (type)        </span>┃<span style=\"font-weight: bold\"> Output Shape      </span>┃<span style=\"font-weight: bold\">    Param # </span>┃<span style=\"font-weight: bold\"> Connected to      </span>┃\n",
       "┡━━━━━━━━━━━━━━━━━━━━━╇━━━━━━━━━━━━━━━━━━━╇━━━━━━━━━━━━╇━━━━━━━━━━━━━━━━━━━┩\n",
       "│ input_layer         │ (<span style=\"color: #00d7ff; text-decoration-color: #00d7ff\">None</span>, <span style=\"color: #00af00; text-decoration-color: #00af00\">62</span>, <span style=\"color: #00af00; text-decoration-color: #00af00\">1</span>)     │          <span style=\"color: #00af00; text-decoration-color: #00af00\">0</span> │ -                 │\n",
       "│ (<span style=\"color: #0087ff; text-decoration-color: #0087ff\">InputLayer</span>)        │                   │            │                   │\n",
       "├─────────────────────┼───────────────────┼────────────┼───────────────────┤\n",
       "│ conv1d (<span style=\"color: #0087ff; text-decoration-color: #0087ff\">Conv1D</span>)     │ (<span style=\"color: #00d7ff; text-decoration-color: #00d7ff\">None</span>, <span style=\"color: #00af00; text-decoration-color: #00af00\">60</span>, <span style=\"color: #00af00; text-decoration-color: #00af00\">64</span>)    │        <span style=\"color: #00af00; text-decoration-color: #00af00\">256</span> │ input_layer[<span style=\"color: #00af00; text-decoration-color: #00af00\">0</span>][<span style=\"color: #00af00; text-decoration-color: #00af00\">0</span>] │\n",
       "├─────────────────────┼───────────────────┼────────────┼───────────────────┤\n",
       "│ lstm (<span style=\"color: #0087ff; text-decoration-color: #0087ff\">LSTM</span>)         │ (<span style=\"color: #00d7ff; text-decoration-color: #00d7ff\">None</span>, <span style=\"color: #00af00; text-decoration-color: #00af00\">62</span>, <span style=\"color: #00af00; text-decoration-color: #00af00\">64</span>)    │     <span style=\"color: #00af00; text-decoration-color: #00af00\">16,896</span> │ input_layer[<span style=\"color: #00af00; text-decoration-color: #00af00\">0</span>][<span style=\"color: #00af00; text-decoration-color: #00af00\">0</span>] │\n",
       "├─────────────────────┼───────────────────┼────────────┼───────────────────┤\n",
       "│ max_pooling1d       │ (<span style=\"color: #00d7ff; text-decoration-color: #00d7ff\">None</span>, <span style=\"color: #00af00; text-decoration-color: #00af00\">30</span>, <span style=\"color: #00af00; text-decoration-color: #00af00\">64</span>)    │          <span style=\"color: #00af00; text-decoration-color: #00af00\">0</span> │ conv1d[<span style=\"color: #00af00; text-decoration-color: #00af00\">0</span>][<span style=\"color: #00af00; text-decoration-color: #00af00\">0</span>]      │\n",
       "│ (<span style=\"color: #0087ff; text-decoration-color: #0087ff\">MaxPooling1D</span>)      │                   │            │                   │\n",
       "├─────────────────────┼───────────────────┼────────────┼───────────────────┤\n",
       "│ dropout (<span style=\"color: #0087ff; text-decoration-color: #0087ff\">Dropout</span>)   │ (<span style=\"color: #00d7ff; text-decoration-color: #00d7ff\">None</span>, <span style=\"color: #00af00; text-decoration-color: #00af00\">62</span>, <span style=\"color: #00af00; text-decoration-color: #00af00\">64</span>)    │          <span style=\"color: #00af00; text-decoration-color: #00af00\">0</span> │ lstm[<span style=\"color: #00af00; text-decoration-color: #00af00\">0</span>][<span style=\"color: #00af00; text-decoration-color: #00af00\">0</span>]        │\n",
       "├─────────────────────┼───────────────────┼────────────┼───────────────────┤\n",
       "│ flatten (<span style=\"color: #0087ff; text-decoration-color: #0087ff\">Flatten</span>)   │ (<span style=\"color: #00d7ff; text-decoration-color: #00d7ff\">None</span>, <span style=\"color: #00af00; text-decoration-color: #00af00\">1920</span>)      │          <span style=\"color: #00af00; text-decoration-color: #00af00\">0</span> │ max_pooling1d[<span style=\"color: #00af00; text-decoration-color: #00af00\">0</span>]… │\n",
       "├─────────────────────┼───────────────────┼────────────┼───────────────────┤\n",
       "│ lstm_1 (<span style=\"color: #0087ff; text-decoration-color: #0087ff\">LSTM</span>)       │ (<span style=\"color: #00d7ff; text-decoration-color: #00d7ff\">None</span>, <span style=\"color: #00af00; text-decoration-color: #00af00\">32</span>)        │     <span style=\"color: #00af00; text-decoration-color: #00af00\">12,416</span> │ dropout[<span style=\"color: #00af00; text-decoration-color: #00af00\">0</span>][<span style=\"color: #00af00; text-decoration-color: #00af00\">0</span>]     │\n",
       "├─────────────────────┼───────────────────┼────────────┼───────────────────┤\n",
       "│ dense (<span style=\"color: #0087ff; text-decoration-color: #0087ff\">Dense</span>)       │ (<span style=\"color: #00d7ff; text-decoration-color: #00d7ff\">None</span>, <span style=\"color: #00af00; text-decoration-color: #00af00\">32</span>)        │     <span style=\"color: #00af00; text-decoration-color: #00af00\">61,472</span> │ flatten[<span style=\"color: #00af00; text-decoration-color: #00af00\">0</span>][<span style=\"color: #00af00; text-decoration-color: #00af00\">0</span>]     │\n",
       "├─────────────────────┼───────────────────┼────────────┼───────────────────┤\n",
       "│ dropout_1 (<span style=\"color: #0087ff; text-decoration-color: #0087ff\">Dropout</span>) │ (<span style=\"color: #00d7ff; text-decoration-color: #00d7ff\">None</span>, <span style=\"color: #00af00; text-decoration-color: #00af00\">32</span>)        │          <span style=\"color: #00af00; text-decoration-color: #00af00\">0</span> │ lstm_1[<span style=\"color: #00af00; text-decoration-color: #00af00\">0</span>][<span style=\"color: #00af00; text-decoration-color: #00af00\">0</span>]      │\n",
       "├─────────────────────┼───────────────────┼────────────┼───────────────────┤\n",
       "│ dropout_2 (<span style=\"color: #0087ff; text-decoration-color: #0087ff\">Dropout</span>) │ (<span style=\"color: #00d7ff; text-decoration-color: #00d7ff\">None</span>, <span style=\"color: #00af00; text-decoration-color: #00af00\">32</span>)        │          <span style=\"color: #00af00; text-decoration-color: #00af00\">0</span> │ dense[<span style=\"color: #00af00; text-decoration-color: #00af00\">0</span>][<span style=\"color: #00af00; text-decoration-color: #00af00\">0</span>]       │\n",
       "├─────────────────────┼───────────────────┼────────────┼───────────────────┤\n",
       "│ concatenate         │ (<span style=\"color: #00d7ff; text-decoration-color: #00d7ff\">None</span>, <span style=\"color: #00af00; text-decoration-color: #00af00\">64</span>)        │          <span style=\"color: #00af00; text-decoration-color: #00af00\">0</span> │ dropout_1[<span style=\"color: #00af00; text-decoration-color: #00af00\">0</span>][<span style=\"color: #00af00; text-decoration-color: #00af00\">0</span>],  │\n",
       "│ (<span style=\"color: #0087ff; text-decoration-color: #0087ff\">Concatenate</span>)       │                   │            │ dropout_2[<span style=\"color: #00af00; text-decoration-color: #00af00\">0</span>][<span style=\"color: #00af00; text-decoration-color: #00af00\">0</span>]   │\n",
       "├─────────────────────┼───────────────────┼────────────┼───────────────────┤\n",
       "│ dense_1 (<span style=\"color: #0087ff; text-decoration-color: #0087ff\">Dense</span>)     │ (<span style=\"color: #00d7ff; text-decoration-color: #00d7ff\">None</span>, <span style=\"color: #00af00; text-decoration-color: #00af00\">64</span>)        │      <span style=\"color: #00af00; text-decoration-color: #00af00\">4,160</span> │ concatenate[<span style=\"color: #00af00; text-decoration-color: #00af00\">0</span>][<span style=\"color: #00af00; text-decoration-color: #00af00\">0</span>] │\n",
       "├─────────────────────┼───────────────────┼────────────┼───────────────────┤\n",
       "│ dropout_3 (<span style=\"color: #0087ff; text-decoration-color: #0087ff\">Dropout</span>) │ (<span style=\"color: #00d7ff; text-decoration-color: #00d7ff\">None</span>, <span style=\"color: #00af00; text-decoration-color: #00af00\">64</span>)        │          <span style=\"color: #00af00; text-decoration-color: #00af00\">0</span> │ dense_1[<span style=\"color: #00af00; text-decoration-color: #00af00\">0</span>][<span style=\"color: #00af00; text-decoration-color: #00af00\">0</span>]     │\n",
       "├─────────────────────┼───────────────────┼────────────┼───────────────────┤\n",
       "│ dense_2 (<span style=\"color: #0087ff; text-decoration-color: #0087ff\">Dense</span>)     │ (<span style=\"color: #00d7ff; text-decoration-color: #00d7ff\">None</span>, <span style=\"color: #00af00; text-decoration-color: #00af00\">1</span>)         │         <span style=\"color: #00af00; text-decoration-color: #00af00\">65</span> │ dropout_3[<span style=\"color: #00af00; text-decoration-color: #00af00\">0</span>][<span style=\"color: #00af00; text-decoration-color: #00af00\">0</span>]   │\n",
       "└─────────────────────┴───────────────────┴────────────┴───────────────────┘\n",
       "</pre>\n"
      ],
      "text/plain": [
       "┏━━━━━━━━━━━━━━━━━━━━━┳━━━━━━━━━━━━━━━━━━━┳━━━━━━━━━━━━┳━━━━━━━━━━━━━━━━━━━┓\n",
       "┃\u001b[1m \u001b[0m\u001b[1mLayer (type)       \u001b[0m\u001b[1m \u001b[0m┃\u001b[1m \u001b[0m\u001b[1mOutput Shape     \u001b[0m\u001b[1m \u001b[0m┃\u001b[1m \u001b[0m\u001b[1m   Param #\u001b[0m\u001b[1m \u001b[0m┃\u001b[1m \u001b[0m\u001b[1mConnected to     \u001b[0m\u001b[1m \u001b[0m┃\n",
       "┡━━━━━━━━━━━━━━━━━━━━━╇━━━━━━━━━━━━━━━━━━━╇━━━━━━━━━━━━╇━━━━━━━━━━━━━━━━━━━┩\n",
       "│ input_layer         │ (\u001b[38;5;45mNone\u001b[0m, \u001b[38;5;34m62\u001b[0m, \u001b[38;5;34m1\u001b[0m)     │          \u001b[38;5;34m0\u001b[0m │ -                 │\n",
       "│ (\u001b[38;5;33mInputLayer\u001b[0m)        │                   │            │                   │\n",
       "├─────────────────────┼───────────────────┼────────────┼───────────────────┤\n",
       "│ conv1d (\u001b[38;5;33mConv1D\u001b[0m)     │ (\u001b[38;5;45mNone\u001b[0m, \u001b[38;5;34m60\u001b[0m, \u001b[38;5;34m64\u001b[0m)    │        \u001b[38;5;34m256\u001b[0m │ input_layer[\u001b[38;5;34m0\u001b[0m][\u001b[38;5;34m0\u001b[0m] │\n",
       "├─────────────────────┼───────────────────┼────────────┼───────────────────┤\n",
       "│ lstm (\u001b[38;5;33mLSTM\u001b[0m)         │ (\u001b[38;5;45mNone\u001b[0m, \u001b[38;5;34m62\u001b[0m, \u001b[38;5;34m64\u001b[0m)    │     \u001b[38;5;34m16,896\u001b[0m │ input_layer[\u001b[38;5;34m0\u001b[0m][\u001b[38;5;34m0\u001b[0m] │\n",
       "├─────────────────────┼───────────────────┼────────────┼───────────────────┤\n",
       "│ max_pooling1d       │ (\u001b[38;5;45mNone\u001b[0m, \u001b[38;5;34m30\u001b[0m, \u001b[38;5;34m64\u001b[0m)    │          \u001b[38;5;34m0\u001b[0m │ conv1d[\u001b[38;5;34m0\u001b[0m][\u001b[38;5;34m0\u001b[0m]      │\n",
       "│ (\u001b[38;5;33mMaxPooling1D\u001b[0m)      │                   │            │                   │\n",
       "├─────────────────────┼───────────────────┼────────────┼───────────────────┤\n",
       "│ dropout (\u001b[38;5;33mDropout\u001b[0m)   │ (\u001b[38;5;45mNone\u001b[0m, \u001b[38;5;34m62\u001b[0m, \u001b[38;5;34m64\u001b[0m)    │          \u001b[38;5;34m0\u001b[0m │ lstm[\u001b[38;5;34m0\u001b[0m][\u001b[38;5;34m0\u001b[0m]        │\n",
       "├─────────────────────┼───────────────────┼────────────┼───────────────────┤\n",
       "│ flatten (\u001b[38;5;33mFlatten\u001b[0m)   │ (\u001b[38;5;45mNone\u001b[0m, \u001b[38;5;34m1920\u001b[0m)      │          \u001b[38;5;34m0\u001b[0m │ max_pooling1d[\u001b[38;5;34m0\u001b[0m]… │\n",
       "├─────────────────────┼───────────────────┼────────────┼───────────────────┤\n",
       "│ lstm_1 (\u001b[38;5;33mLSTM\u001b[0m)       │ (\u001b[38;5;45mNone\u001b[0m, \u001b[38;5;34m32\u001b[0m)        │     \u001b[38;5;34m12,416\u001b[0m │ dropout[\u001b[38;5;34m0\u001b[0m][\u001b[38;5;34m0\u001b[0m]     │\n",
       "├─────────────────────┼───────────────────┼────────────┼───────────────────┤\n",
       "│ dense (\u001b[38;5;33mDense\u001b[0m)       │ (\u001b[38;5;45mNone\u001b[0m, \u001b[38;5;34m32\u001b[0m)        │     \u001b[38;5;34m61,472\u001b[0m │ flatten[\u001b[38;5;34m0\u001b[0m][\u001b[38;5;34m0\u001b[0m]     │\n",
       "├─────────────────────┼───────────────────┼────────────┼───────────────────┤\n",
       "│ dropout_1 (\u001b[38;5;33mDropout\u001b[0m) │ (\u001b[38;5;45mNone\u001b[0m, \u001b[38;5;34m32\u001b[0m)        │          \u001b[38;5;34m0\u001b[0m │ lstm_1[\u001b[38;5;34m0\u001b[0m][\u001b[38;5;34m0\u001b[0m]      │\n",
       "├─────────────────────┼───────────────────┼────────────┼───────────────────┤\n",
       "│ dropout_2 (\u001b[38;5;33mDropout\u001b[0m) │ (\u001b[38;5;45mNone\u001b[0m, \u001b[38;5;34m32\u001b[0m)        │          \u001b[38;5;34m0\u001b[0m │ dense[\u001b[38;5;34m0\u001b[0m][\u001b[38;5;34m0\u001b[0m]       │\n",
       "├─────────────────────┼───────────────────┼────────────┼───────────────────┤\n",
       "│ concatenate         │ (\u001b[38;5;45mNone\u001b[0m, \u001b[38;5;34m64\u001b[0m)        │          \u001b[38;5;34m0\u001b[0m │ dropout_1[\u001b[38;5;34m0\u001b[0m][\u001b[38;5;34m0\u001b[0m],  │\n",
       "│ (\u001b[38;5;33mConcatenate\u001b[0m)       │                   │            │ dropout_2[\u001b[38;5;34m0\u001b[0m][\u001b[38;5;34m0\u001b[0m]   │\n",
       "├─────────────────────┼───────────────────┼────────────┼───────────────────┤\n",
       "│ dense_1 (\u001b[38;5;33mDense\u001b[0m)     │ (\u001b[38;5;45mNone\u001b[0m, \u001b[38;5;34m64\u001b[0m)        │      \u001b[38;5;34m4,160\u001b[0m │ concatenate[\u001b[38;5;34m0\u001b[0m][\u001b[38;5;34m0\u001b[0m] │\n",
       "├─────────────────────┼───────────────────┼────────────┼───────────────────┤\n",
       "│ dropout_3 (\u001b[38;5;33mDropout\u001b[0m) │ (\u001b[38;5;45mNone\u001b[0m, \u001b[38;5;34m64\u001b[0m)        │          \u001b[38;5;34m0\u001b[0m │ dense_1[\u001b[38;5;34m0\u001b[0m][\u001b[38;5;34m0\u001b[0m]     │\n",
       "├─────────────────────┼───────────────────┼────────────┼───────────────────┤\n",
       "│ dense_2 (\u001b[38;5;33mDense\u001b[0m)     │ (\u001b[38;5;45mNone\u001b[0m, \u001b[38;5;34m1\u001b[0m)         │         \u001b[38;5;34m65\u001b[0m │ dropout_3[\u001b[38;5;34m0\u001b[0m][\u001b[38;5;34m0\u001b[0m]   │\n",
       "└─────────────────────┴───────────────────┴────────────┴───────────────────┘\n"
      ]
     },
     "metadata": {},
     "output_type": "display_data"
    },
    {
     "data": {
      "text/html": [
       "<pre style=\"white-space:pre;overflow-x:auto;line-height:normal;font-family:Menlo,'DejaVu Sans Mono',consolas,'Courier New',monospace\"><span style=\"font-weight: bold\"> Total params: </span><span style=\"color: #00af00; text-decoration-color: #00af00\">95,265</span> (372.13 KB)\n",
       "</pre>\n"
      ],
      "text/plain": [
       "\u001b[1m Total params: \u001b[0m\u001b[38;5;34m95,265\u001b[0m (372.13 KB)\n"
      ]
     },
     "metadata": {},
     "output_type": "display_data"
    },
    {
     "data": {
      "text/html": [
       "<pre style=\"white-space:pre;overflow-x:auto;line-height:normal;font-family:Menlo,'DejaVu Sans Mono',consolas,'Courier New',monospace\"><span style=\"font-weight: bold\"> Trainable params: </span><span style=\"color: #00af00; text-decoration-color: #00af00\">95,265</span> (372.13 KB)\n",
       "</pre>\n"
      ],
      "text/plain": [
       "\u001b[1m Trainable params: \u001b[0m\u001b[38;5;34m95,265\u001b[0m (372.13 KB)\n"
      ]
     },
     "metadata": {},
     "output_type": "display_data"
    },
    {
     "data": {
      "text/html": [
       "<pre style=\"white-space:pre;overflow-x:auto;line-height:normal;font-family:Menlo,'DejaVu Sans Mono',consolas,'Courier New',monospace\"><span style=\"font-weight: bold\"> Non-trainable params: </span><span style=\"color: #00af00; text-decoration-color: #00af00\">0</span> (0.00 B)\n",
       "</pre>\n"
      ],
      "text/plain": [
       "\u001b[1m Non-trainable params: \u001b[0m\u001b[38;5;34m0\u001b[0m (0.00 B)\n"
      ]
     },
     "metadata": {},
     "output_type": "display_data"
    },
    {
     "name": "stdout",
     "output_type": "stream",
     "text": [
      "Epoch 1/20\n",
      "\u001b[1m308/308\u001b[0m \u001b[32m━━━━━━━━━━━━━━━━━━━━\u001b[0m\u001b[37m\u001b[0m \u001b[1m11s\u001b[0m 13ms/step - accuracy: 0.9107 - loss: 0.2610 - val_accuracy: 0.9923 - val_loss: 0.0268\n",
      "Epoch 2/20\n",
      "\u001b[1m308/308\u001b[0m \u001b[32m━━━━━━━━━━━━━━━━━━━━\u001b[0m\u001b[37m\u001b[0m \u001b[1m3s\u001b[0m 10ms/step - accuracy: 0.9918 - loss: 0.0290 - val_accuracy: 0.9939 - val_loss: 0.0202\n",
      "Epoch 3/20\n",
      "\u001b[1m308/308\u001b[0m \u001b[32m━━━━━━━━━━━━━━━━━━━━\u001b[0m\u001b[37m\u001b[0m \u001b[1m3s\u001b[0m 11ms/step - accuracy: 0.9950 - loss: 0.0196 - val_accuracy: 0.9951 - val_loss: 0.0166\n",
      "Epoch 4/20\n",
      "\u001b[1m308/308\u001b[0m \u001b[32m━━━━━━━━━━━━━━━━━━━━\u001b[0m\u001b[37m\u001b[0m \u001b[1m3s\u001b[0m 10ms/step - accuracy: 0.9961 - loss: 0.0136 - val_accuracy: 0.9943 - val_loss: 0.0232\n",
      "Epoch 5/20\n",
      "\u001b[1m308/308\u001b[0m \u001b[32m━━━━━━━━━━━━━━━━━━━━\u001b[0m\u001b[37m\u001b[0m \u001b[1m3s\u001b[0m 11ms/step - accuracy: 0.9963 - loss: 0.0154 - val_accuracy: 0.9955 - val_loss: 0.0145\n",
      "Epoch 6/20\n",
      "\u001b[1m308/308\u001b[0m \u001b[32m━━━━━━━━━━━━━━━━━━━━\u001b[0m\u001b[37m\u001b[0m \u001b[1m3s\u001b[0m 10ms/step - accuracy: 0.9964 - loss: 0.0107 - val_accuracy: 0.9951 - val_loss: 0.0152\n",
      "Epoch 7/20\n",
      "\u001b[1m308/308\u001b[0m \u001b[32m━━━━━━━━━━━━━━━━━━━━\u001b[0m\u001b[37m\u001b[0m \u001b[1m3s\u001b[0m 11ms/step - accuracy: 0.9973 - loss: 0.0093 - val_accuracy: 0.9963 - val_loss: 0.0141\n",
      "Epoch 8/20\n",
      "\u001b[1m308/308\u001b[0m \u001b[32m━━━━━━━━━━━━━━━━━━━━\u001b[0m\u001b[37m\u001b[0m \u001b[1m3s\u001b[0m 10ms/step - accuracy: 0.9980 - loss: 0.0077 - val_accuracy: 0.9967 - val_loss: 0.0131\n",
      "Epoch 9/20\n",
      "\u001b[1m308/308\u001b[0m \u001b[32m━━━━━━━━━━━━━━━━━━━━\u001b[0m\u001b[37m\u001b[0m \u001b[1m3s\u001b[0m 11ms/step - accuracy: 0.9980 - loss: 0.0071 - val_accuracy: 0.9972 - val_loss: 0.0095\n",
      "Epoch 10/20\n",
      "\u001b[1m308/308\u001b[0m \u001b[32m━━━━━━━━━━━━━━━━━━━━\u001b[0m\u001b[37m\u001b[0m \u001b[1m3s\u001b[0m 11ms/step - accuracy: 0.9987 - loss: 0.0047 - val_accuracy: 0.9963 - val_loss: 0.0128\n",
      "Epoch 11/20\n",
      "\u001b[1m308/308\u001b[0m \u001b[32m━━━━━━━━━━━━━━━━━━━━\u001b[0m\u001b[37m\u001b[0m \u001b[1m3s\u001b[0m 10ms/step - accuracy: 0.9970 - loss: 0.0088 - val_accuracy: 0.9976 - val_loss: 0.0125\n",
      "Epoch 12/20\n",
      "\u001b[1m308/308\u001b[0m \u001b[32m━━━━━━━━━━━━━━━━━━━━\u001b[0m\u001b[37m\u001b[0m \u001b[1m3s\u001b[0m 10ms/step - accuracy: 0.9984 - loss: 0.0032 - val_accuracy: 0.9972 - val_loss: 0.0113\n",
      "Epoch 13/20\n",
      "\u001b[1m308/308\u001b[0m \u001b[32m━━━━━━━━━━━━━━━━━━━━\u001b[0m\u001b[37m\u001b[0m \u001b[1m3s\u001b[0m 10ms/step - accuracy: 0.9990 - loss: 0.0053 - val_accuracy: 0.9976 - val_loss: 0.0121\n",
      "Epoch 14/20\n",
      "\u001b[1m308/308\u001b[0m \u001b[32m━━━━━━━━━━━━━━━━━━━━\u001b[0m\u001b[37m\u001b[0m \u001b[1m3s\u001b[0m 10ms/step - accuracy: 0.9993 - loss: 0.0034 - val_accuracy: 0.9980 - val_loss: 0.0111\n",
      "\u001b[1m77/77\u001b[0m \u001b[32m━━━━━━━━━━━━━━━━━━━━\u001b[0m\u001b[37m\u001b[0m \u001b[1m1s\u001b[0m 6ms/step\n"
     ]
    },
    {
     "data": {
      "text/html": [
       "<pre style=\"white-space:pre;overflow-x:auto;line-height:normal;font-family:Menlo,'DejaVu Sans Mono',consolas,'Courier New',monospace\"><span style=\"font-weight: bold\">Model: \"functional_3\"</span>\n",
       "</pre>\n"
      ],
      "text/plain": [
       "\u001b[1mModel: \"functional_3\"\u001b[0m\n"
      ]
     },
     "metadata": {},
     "output_type": "display_data"
    },
    {
     "data": {
      "text/html": [
       "<pre style=\"white-space:pre;overflow-x:auto;line-height:normal;font-family:Menlo,'DejaVu Sans Mono',consolas,'Courier New',monospace\">┏━━━━━━━━━━━━━━━━━━━━━┳━━━━━━━━━━━━━━━━━━━┳━━━━━━━━━━━━┳━━━━━━━━━━━━━━━━━━━┓\n",
       "┃<span style=\"font-weight: bold\"> Layer (type)        </span>┃<span style=\"font-weight: bold\"> Output Shape      </span>┃<span style=\"font-weight: bold\">    Param # </span>┃<span style=\"font-weight: bold\"> Connected to      </span>┃\n",
       "┡━━━━━━━━━━━━━━━━━━━━━╇━━━━━━━━━━━━━━━━━━━╇━━━━━━━━━━━━╇━━━━━━━━━━━━━━━━━━━┩\n",
       "│ input_layer_1       │ (<span style=\"color: #00d7ff; text-decoration-color: #00d7ff\">None</span>, <span style=\"color: #00af00; text-decoration-color: #00af00\">62</span>, <span style=\"color: #00af00; text-decoration-color: #00af00\">1</span>)     │          <span style=\"color: #00af00; text-decoration-color: #00af00\">0</span> │ -                 │\n",
       "│ (<span style=\"color: #0087ff; text-decoration-color: #0087ff\">InputLayer</span>)        │                   │            │                   │\n",
       "├─────────────────────┼───────────────────┼────────────┼───────────────────┤\n",
       "│ conv1d_1 (<span style=\"color: #0087ff; text-decoration-color: #0087ff\">Conv1D</span>)   │ (<span style=\"color: #00d7ff; text-decoration-color: #00d7ff\">None</span>, <span style=\"color: #00af00; text-decoration-color: #00af00\">60</span>, <span style=\"color: #00af00; text-decoration-color: #00af00\">64</span>)    │        <span style=\"color: #00af00; text-decoration-color: #00af00\">256</span> │ input_layer_1[<span style=\"color: #00af00; text-decoration-color: #00af00\">0</span>]… │\n",
       "├─────────────────────┼───────────────────┼────────────┼───────────────────┤\n",
       "│ lstm_2 (<span style=\"color: #0087ff; text-decoration-color: #0087ff\">LSTM</span>)       │ (<span style=\"color: #00d7ff; text-decoration-color: #00d7ff\">None</span>, <span style=\"color: #00af00; text-decoration-color: #00af00\">62</span>, <span style=\"color: #00af00; text-decoration-color: #00af00\">64</span>)    │     <span style=\"color: #00af00; text-decoration-color: #00af00\">16,896</span> │ input_layer_1[<span style=\"color: #00af00; text-decoration-color: #00af00\">0</span>]… │\n",
       "├─────────────────────┼───────────────────┼────────────┼───────────────────┤\n",
       "│ max_pooling1d_1     │ (<span style=\"color: #00d7ff; text-decoration-color: #00d7ff\">None</span>, <span style=\"color: #00af00; text-decoration-color: #00af00\">30</span>, <span style=\"color: #00af00; text-decoration-color: #00af00\">64</span>)    │          <span style=\"color: #00af00; text-decoration-color: #00af00\">0</span> │ conv1d_1[<span style=\"color: #00af00; text-decoration-color: #00af00\">0</span>][<span style=\"color: #00af00; text-decoration-color: #00af00\">0</span>]    │\n",
       "│ (<span style=\"color: #0087ff; text-decoration-color: #0087ff\">MaxPooling1D</span>)      │                   │            │                   │\n",
       "├─────────────────────┼───────────────────┼────────────┼───────────────────┤\n",
       "│ dropout_4 (<span style=\"color: #0087ff; text-decoration-color: #0087ff\">Dropout</span>) │ (<span style=\"color: #00d7ff; text-decoration-color: #00d7ff\">None</span>, <span style=\"color: #00af00; text-decoration-color: #00af00\">62</span>, <span style=\"color: #00af00; text-decoration-color: #00af00\">64</span>)    │          <span style=\"color: #00af00; text-decoration-color: #00af00\">0</span> │ lstm_2[<span style=\"color: #00af00; text-decoration-color: #00af00\">0</span>][<span style=\"color: #00af00; text-decoration-color: #00af00\">0</span>]      │\n",
       "├─────────────────────┼───────────────────┼────────────┼───────────────────┤\n",
       "│ flatten_1 (<span style=\"color: #0087ff; text-decoration-color: #0087ff\">Flatten</span>) │ (<span style=\"color: #00d7ff; text-decoration-color: #00d7ff\">None</span>, <span style=\"color: #00af00; text-decoration-color: #00af00\">1920</span>)      │          <span style=\"color: #00af00; text-decoration-color: #00af00\">0</span> │ max_pooling1d_1[<span style=\"color: #00af00; text-decoration-color: #00af00\">…</span> │\n",
       "├─────────────────────┼───────────────────┼────────────┼───────────────────┤\n",
       "│ lstm_3 (<span style=\"color: #0087ff; text-decoration-color: #0087ff\">LSTM</span>)       │ (<span style=\"color: #00d7ff; text-decoration-color: #00d7ff\">None</span>, <span style=\"color: #00af00; text-decoration-color: #00af00\">32</span>)        │     <span style=\"color: #00af00; text-decoration-color: #00af00\">12,416</span> │ dropout_4[<span style=\"color: #00af00; text-decoration-color: #00af00\">0</span>][<span style=\"color: #00af00; text-decoration-color: #00af00\">0</span>]   │\n",
       "├─────────────────────┼───────────────────┼────────────┼───────────────────┤\n",
       "│ dense_3 (<span style=\"color: #0087ff; text-decoration-color: #0087ff\">Dense</span>)     │ (<span style=\"color: #00d7ff; text-decoration-color: #00d7ff\">None</span>, <span style=\"color: #00af00; text-decoration-color: #00af00\">32</span>)        │     <span style=\"color: #00af00; text-decoration-color: #00af00\">61,472</span> │ flatten_1[<span style=\"color: #00af00; text-decoration-color: #00af00\">0</span>][<span style=\"color: #00af00; text-decoration-color: #00af00\">0</span>]   │\n",
       "├─────────────────────┼───────────────────┼────────────┼───────────────────┤\n",
       "│ dropout_5 (<span style=\"color: #0087ff; text-decoration-color: #0087ff\">Dropout</span>) │ (<span style=\"color: #00d7ff; text-decoration-color: #00d7ff\">None</span>, <span style=\"color: #00af00; text-decoration-color: #00af00\">32</span>)        │          <span style=\"color: #00af00; text-decoration-color: #00af00\">0</span> │ lstm_3[<span style=\"color: #00af00; text-decoration-color: #00af00\">0</span>][<span style=\"color: #00af00; text-decoration-color: #00af00\">0</span>]      │\n",
       "├─────────────────────┼───────────────────┼────────────┼───────────────────┤\n",
       "│ dropout_6 (<span style=\"color: #0087ff; text-decoration-color: #0087ff\">Dropout</span>) │ (<span style=\"color: #00d7ff; text-decoration-color: #00d7ff\">None</span>, <span style=\"color: #00af00; text-decoration-color: #00af00\">32</span>)        │          <span style=\"color: #00af00; text-decoration-color: #00af00\">0</span> │ dense_3[<span style=\"color: #00af00; text-decoration-color: #00af00\">0</span>][<span style=\"color: #00af00; text-decoration-color: #00af00\">0</span>]     │\n",
       "├─────────────────────┼───────────────────┼────────────┼───────────────────┤\n",
       "│ concatenate_1       │ (<span style=\"color: #00d7ff; text-decoration-color: #00d7ff\">None</span>, <span style=\"color: #00af00; text-decoration-color: #00af00\">64</span>)        │          <span style=\"color: #00af00; text-decoration-color: #00af00\">0</span> │ dropout_5[<span style=\"color: #00af00; text-decoration-color: #00af00\">0</span>][<span style=\"color: #00af00; text-decoration-color: #00af00\">0</span>],  │\n",
       "│ (<span style=\"color: #0087ff; text-decoration-color: #0087ff\">Concatenate</span>)       │                   │            │ dropout_6[<span style=\"color: #00af00; text-decoration-color: #00af00\">0</span>][<span style=\"color: #00af00; text-decoration-color: #00af00\">0</span>]   │\n",
       "├─────────────────────┼───────────────────┼────────────┼───────────────────┤\n",
       "│ dense_4 (<span style=\"color: #0087ff; text-decoration-color: #0087ff\">Dense</span>)     │ (<span style=\"color: #00d7ff; text-decoration-color: #00d7ff\">None</span>, <span style=\"color: #00af00; text-decoration-color: #00af00\">64</span>)        │      <span style=\"color: #00af00; text-decoration-color: #00af00\">4,160</span> │ concatenate_1[<span style=\"color: #00af00; text-decoration-color: #00af00\">0</span>]… │\n",
       "├─────────────────────┼───────────────────┼────────────┼───────────────────┤\n",
       "│ dropout_7 (<span style=\"color: #0087ff; text-decoration-color: #0087ff\">Dropout</span>) │ (<span style=\"color: #00d7ff; text-decoration-color: #00d7ff\">None</span>, <span style=\"color: #00af00; text-decoration-color: #00af00\">64</span>)        │          <span style=\"color: #00af00; text-decoration-color: #00af00\">0</span> │ dense_4[<span style=\"color: #00af00; text-decoration-color: #00af00\">0</span>][<span style=\"color: #00af00; text-decoration-color: #00af00\">0</span>]     │\n",
       "├─────────────────────┼───────────────────┼────────────┼───────────────────┤\n",
       "│ dense_5 (<span style=\"color: #0087ff; text-decoration-color: #0087ff\">Dense</span>)     │ (<span style=\"color: #00d7ff; text-decoration-color: #00d7ff\">None</span>, <span style=\"color: #00af00; text-decoration-color: #00af00\">1</span>)         │         <span style=\"color: #00af00; text-decoration-color: #00af00\">65</span> │ dropout_7[<span style=\"color: #00af00; text-decoration-color: #00af00\">0</span>][<span style=\"color: #00af00; text-decoration-color: #00af00\">0</span>]   │\n",
       "└─────────────────────┴───────────────────┴────────────┴───────────────────┘\n",
       "</pre>\n"
      ],
      "text/plain": [
       "┏━━━━━━━━━━━━━━━━━━━━━┳━━━━━━━━━━━━━━━━━━━┳━━━━━━━━━━━━┳━━━━━━━━━━━━━━━━━━━┓\n",
       "┃\u001b[1m \u001b[0m\u001b[1mLayer (type)       \u001b[0m\u001b[1m \u001b[0m┃\u001b[1m \u001b[0m\u001b[1mOutput Shape     \u001b[0m\u001b[1m \u001b[0m┃\u001b[1m \u001b[0m\u001b[1m   Param #\u001b[0m\u001b[1m \u001b[0m┃\u001b[1m \u001b[0m\u001b[1mConnected to     \u001b[0m\u001b[1m \u001b[0m┃\n",
       "┡━━━━━━━━━━━━━━━━━━━━━╇━━━━━━━━━━━━━━━━━━━╇━━━━━━━━━━━━╇━━━━━━━━━━━━━━━━━━━┩\n",
       "│ input_layer_1       │ (\u001b[38;5;45mNone\u001b[0m, \u001b[38;5;34m62\u001b[0m, \u001b[38;5;34m1\u001b[0m)     │          \u001b[38;5;34m0\u001b[0m │ -                 │\n",
       "│ (\u001b[38;5;33mInputLayer\u001b[0m)        │                   │            │                   │\n",
       "├─────────────────────┼───────────────────┼────────────┼───────────────────┤\n",
       "│ conv1d_1 (\u001b[38;5;33mConv1D\u001b[0m)   │ (\u001b[38;5;45mNone\u001b[0m, \u001b[38;5;34m60\u001b[0m, \u001b[38;5;34m64\u001b[0m)    │        \u001b[38;5;34m256\u001b[0m │ input_layer_1[\u001b[38;5;34m0\u001b[0m]… │\n",
       "├─────────────────────┼───────────────────┼────────────┼───────────────────┤\n",
       "│ lstm_2 (\u001b[38;5;33mLSTM\u001b[0m)       │ (\u001b[38;5;45mNone\u001b[0m, \u001b[38;5;34m62\u001b[0m, \u001b[38;5;34m64\u001b[0m)    │     \u001b[38;5;34m16,896\u001b[0m │ input_layer_1[\u001b[38;5;34m0\u001b[0m]… │\n",
       "├─────────────────────┼───────────────────┼────────────┼───────────────────┤\n",
       "│ max_pooling1d_1     │ (\u001b[38;5;45mNone\u001b[0m, \u001b[38;5;34m30\u001b[0m, \u001b[38;5;34m64\u001b[0m)    │          \u001b[38;5;34m0\u001b[0m │ conv1d_1[\u001b[38;5;34m0\u001b[0m][\u001b[38;5;34m0\u001b[0m]    │\n",
       "│ (\u001b[38;5;33mMaxPooling1D\u001b[0m)      │                   │            │                   │\n",
       "├─────────────────────┼───────────────────┼────────────┼───────────────────┤\n",
       "│ dropout_4 (\u001b[38;5;33mDropout\u001b[0m) │ (\u001b[38;5;45mNone\u001b[0m, \u001b[38;5;34m62\u001b[0m, \u001b[38;5;34m64\u001b[0m)    │          \u001b[38;5;34m0\u001b[0m │ lstm_2[\u001b[38;5;34m0\u001b[0m][\u001b[38;5;34m0\u001b[0m]      │\n",
       "├─────────────────────┼───────────────────┼────────────┼───────────────────┤\n",
       "│ flatten_1 (\u001b[38;5;33mFlatten\u001b[0m) │ (\u001b[38;5;45mNone\u001b[0m, \u001b[38;5;34m1920\u001b[0m)      │          \u001b[38;5;34m0\u001b[0m │ max_pooling1d_1[\u001b[38;5;34m…\u001b[0m │\n",
       "├─────────────────────┼───────────────────┼────────────┼───────────────────┤\n",
       "│ lstm_3 (\u001b[38;5;33mLSTM\u001b[0m)       │ (\u001b[38;5;45mNone\u001b[0m, \u001b[38;5;34m32\u001b[0m)        │     \u001b[38;5;34m12,416\u001b[0m │ dropout_4[\u001b[38;5;34m0\u001b[0m][\u001b[38;5;34m0\u001b[0m]   │\n",
       "├─────────────────────┼───────────────────┼────────────┼───────────────────┤\n",
       "│ dense_3 (\u001b[38;5;33mDense\u001b[0m)     │ (\u001b[38;5;45mNone\u001b[0m, \u001b[38;5;34m32\u001b[0m)        │     \u001b[38;5;34m61,472\u001b[0m │ flatten_1[\u001b[38;5;34m0\u001b[0m][\u001b[38;5;34m0\u001b[0m]   │\n",
       "├─────────────────────┼───────────────────┼────────────┼───────────────────┤\n",
       "│ dropout_5 (\u001b[38;5;33mDropout\u001b[0m) │ (\u001b[38;5;45mNone\u001b[0m, \u001b[38;5;34m32\u001b[0m)        │          \u001b[38;5;34m0\u001b[0m │ lstm_3[\u001b[38;5;34m0\u001b[0m][\u001b[38;5;34m0\u001b[0m]      │\n",
       "├─────────────────────┼───────────────────┼────────────┼───────────────────┤\n",
       "│ dropout_6 (\u001b[38;5;33mDropout\u001b[0m) │ (\u001b[38;5;45mNone\u001b[0m, \u001b[38;5;34m32\u001b[0m)        │          \u001b[38;5;34m0\u001b[0m │ dense_3[\u001b[38;5;34m0\u001b[0m][\u001b[38;5;34m0\u001b[0m]     │\n",
       "├─────────────────────┼───────────────────┼────────────┼───────────────────┤\n",
       "│ concatenate_1       │ (\u001b[38;5;45mNone\u001b[0m, \u001b[38;5;34m64\u001b[0m)        │          \u001b[38;5;34m0\u001b[0m │ dropout_5[\u001b[38;5;34m0\u001b[0m][\u001b[38;5;34m0\u001b[0m],  │\n",
       "│ (\u001b[38;5;33mConcatenate\u001b[0m)       │                   │            │ dropout_6[\u001b[38;5;34m0\u001b[0m][\u001b[38;5;34m0\u001b[0m]   │\n",
       "├─────────────────────┼───────────────────┼────────────┼───────────────────┤\n",
       "│ dense_4 (\u001b[38;5;33mDense\u001b[0m)     │ (\u001b[38;5;45mNone\u001b[0m, \u001b[38;5;34m64\u001b[0m)        │      \u001b[38;5;34m4,160\u001b[0m │ concatenate_1[\u001b[38;5;34m0\u001b[0m]… │\n",
       "├─────────────────────┼───────────────────┼────────────┼───────────────────┤\n",
       "│ dropout_7 (\u001b[38;5;33mDropout\u001b[0m) │ (\u001b[38;5;45mNone\u001b[0m, \u001b[38;5;34m64\u001b[0m)        │          \u001b[38;5;34m0\u001b[0m │ dense_4[\u001b[38;5;34m0\u001b[0m][\u001b[38;5;34m0\u001b[0m]     │\n",
       "├─────────────────────┼───────────────────┼────────────┼───────────────────┤\n",
       "│ dense_5 (\u001b[38;5;33mDense\u001b[0m)     │ (\u001b[38;5;45mNone\u001b[0m, \u001b[38;5;34m1\u001b[0m)         │         \u001b[38;5;34m65\u001b[0m │ dropout_7[\u001b[38;5;34m0\u001b[0m][\u001b[38;5;34m0\u001b[0m]   │\n",
       "└─────────────────────┴───────────────────┴────────────┴───────────────────┘\n"
      ]
     },
     "metadata": {},
     "output_type": "display_data"
    },
    {
     "data": {
      "text/html": [
       "<pre style=\"white-space:pre;overflow-x:auto;line-height:normal;font-family:Menlo,'DejaVu Sans Mono',consolas,'Courier New',monospace\"><span style=\"font-weight: bold\"> Total params: </span><span style=\"color: #00af00; text-decoration-color: #00af00\">95,265</span> (372.13 KB)\n",
       "</pre>\n"
      ],
      "text/plain": [
       "\u001b[1m Total params: \u001b[0m\u001b[38;5;34m95,265\u001b[0m (372.13 KB)\n"
      ]
     },
     "metadata": {},
     "output_type": "display_data"
    },
    {
     "data": {
      "text/html": [
       "<pre style=\"white-space:pre;overflow-x:auto;line-height:normal;font-family:Menlo,'DejaVu Sans Mono',consolas,'Courier New',monospace\"><span style=\"font-weight: bold\"> Trainable params: </span><span style=\"color: #00af00; text-decoration-color: #00af00\">95,265</span> (372.13 KB)\n",
       "</pre>\n"
      ],
      "text/plain": [
       "\u001b[1m Trainable params: \u001b[0m\u001b[38;5;34m95,265\u001b[0m (372.13 KB)\n"
      ]
     },
     "metadata": {},
     "output_type": "display_data"
    },
    {
     "data": {
      "text/html": [
       "<pre style=\"white-space:pre;overflow-x:auto;line-height:normal;font-family:Menlo,'DejaVu Sans Mono',consolas,'Courier New',monospace\"><span style=\"font-weight: bold\"> Non-trainable params: </span><span style=\"color: #00af00; text-decoration-color: #00af00\">0</span> (0.00 B)\n",
       "</pre>\n"
      ],
      "text/plain": [
       "\u001b[1m Non-trainable params: \u001b[0m\u001b[38;5;34m0\u001b[0m (0.00 B)\n"
      ]
     },
     "metadata": {},
     "output_type": "display_data"
    },
    {
     "name": "stdout",
     "output_type": "stream",
     "text": [
      "Epoch 1/20\n",
      "\u001b[1m308/308\u001b[0m \u001b[32m━━━━━━━━━━━━━━━━━━━━\u001b[0m\u001b[37m\u001b[0m \u001b[1m7s\u001b[0m 12ms/step - accuracy: 0.8810 - loss: 0.2747 - val_accuracy: 0.9976 - val_loss: 0.0093\n",
      "Epoch 2/20\n",
      "\u001b[1m308/308\u001b[0m \u001b[32m━━━━━━━━━━━━━━━━━━━━\u001b[0m\u001b[37m\u001b[0m \u001b[1m3s\u001b[0m 11ms/step - accuracy: 0.9903 - loss: 0.0364 - val_accuracy: 0.9984 - val_loss: 0.0041\n",
      "Epoch 3/20\n",
      "\u001b[1m308/308\u001b[0m \u001b[32m━━━━━━━━━━━━━━━━━━━━\u001b[0m\u001b[37m\u001b[0m \u001b[1m3s\u001b[0m 10ms/step - accuracy: 0.9941 - loss: 0.0192 - val_accuracy: 0.9996 - val_loss: 9.4015e-04\n",
      "Epoch 4/20\n",
      "\u001b[1m308/308\u001b[0m \u001b[32m━━━━━━━━━━━━━━━━━━━━\u001b[0m\u001b[37m\u001b[0m \u001b[1m3s\u001b[0m 11ms/step - accuracy: 0.9940 - loss: 0.0201 - val_accuracy: 0.9992 - val_loss: 0.0023\n",
      "Epoch 5/20\n",
      "\u001b[1m308/308\u001b[0m \u001b[32m━━━━━━━━━━━━━━━━━━━━\u001b[0m\u001b[37m\u001b[0m \u001b[1m3s\u001b[0m 10ms/step - accuracy: 0.9965 - loss: 0.0134 - val_accuracy: 0.9992 - val_loss: 0.0016\n",
      "Epoch 6/20\n",
      "\u001b[1m308/308\u001b[0m \u001b[32m━━━━━━━━━━━━━━━━━━━━\u001b[0m\u001b[37m\u001b[0m \u001b[1m3s\u001b[0m 10ms/step - accuracy: 0.9970 - loss: 0.0113 - val_accuracy: 0.9992 - val_loss: 0.0014\n",
      "Epoch 7/20\n",
      "\u001b[1m308/308\u001b[0m \u001b[32m━━━━━━━━━━━━━━━━━━━━\u001b[0m\u001b[37m\u001b[0m \u001b[1m3s\u001b[0m 11ms/step - accuracy: 0.9957 - loss: 0.0148 - val_accuracy: 1.0000 - val_loss: 4.7016e-04\n",
      "Epoch 8/20\n",
      "\u001b[1m308/308\u001b[0m \u001b[32m━━━━━━━━━━━━━━━━━━━━\u001b[0m\u001b[37m\u001b[0m \u001b[1m3s\u001b[0m 10ms/step - accuracy: 0.9969 - loss: 0.0097 - val_accuracy: 1.0000 - val_loss: 3.4848e-04\n",
      "Epoch 9/20\n",
      "\u001b[1m308/308\u001b[0m \u001b[32m━━━━━━━━━━━━━━━━━━━━\u001b[0m\u001b[37m\u001b[0m \u001b[1m3s\u001b[0m 10ms/step - accuracy: 0.9972 - loss: 0.0102 - val_accuracy: 1.0000 - val_loss: 0.0012\n",
      "Epoch 10/20\n",
      "\u001b[1m308/308\u001b[0m \u001b[32m━━━━━━━━━━━━━━━━━━━━\u001b[0m\u001b[37m\u001b[0m \u001b[1m3s\u001b[0m 10ms/step - accuracy: 0.9968 - loss: 0.0120 - val_accuracy: 1.0000 - val_loss: 6.1836e-04\n",
      "Epoch 11/20\n",
      "\u001b[1m308/308\u001b[0m \u001b[32m━━━━━━━━━━━━━━━━━━━━\u001b[0m\u001b[37m\u001b[0m \u001b[1m3s\u001b[0m 10ms/step - accuracy: 0.9983 - loss: 0.0081 - val_accuracy: 1.0000 - val_loss: 3.9080e-04\n",
      "Epoch 12/20\n",
      "\u001b[1m308/308\u001b[0m \u001b[32m━━━━━━━━━━━━━━━━━━━━\u001b[0m\u001b[37m\u001b[0m \u001b[1m3s\u001b[0m 10ms/step - accuracy: 0.9960 - loss: 0.0130 - val_accuracy: 1.0000 - val_loss: 3.9244e-04\n",
      "Epoch 13/20\n",
      "\u001b[1m308/308\u001b[0m \u001b[32m━━━━━━━━━━━━━━━━━━━━\u001b[0m\u001b[37m\u001b[0m \u001b[1m3s\u001b[0m 10ms/step - accuracy: 0.9973 - loss: 0.0080 - val_accuracy: 0.9992 - val_loss: 0.0014\n",
      "\u001b[1m77/77\u001b[0m \u001b[32m━━━━━━━━━━━━━━━━━━━━\u001b[0m\u001b[37m\u001b[0m \u001b[1m1s\u001b[0m 6ms/step\n"
     ]
    },
    {
     "data": {
      "text/html": [
       "<pre style=\"white-space:pre;overflow-x:auto;line-height:normal;font-family:Menlo,'DejaVu Sans Mono',consolas,'Courier New',monospace\"><span style=\"font-weight: bold\">Model: \"functional_5\"</span>\n",
       "</pre>\n"
      ],
      "text/plain": [
       "\u001b[1mModel: \"functional_5\"\u001b[0m\n"
      ]
     },
     "metadata": {},
     "output_type": "display_data"
    },
    {
     "data": {
      "text/html": [
       "<pre style=\"white-space:pre;overflow-x:auto;line-height:normal;font-family:Menlo,'DejaVu Sans Mono',consolas,'Courier New',monospace\">┏━━━━━━━━━━━━━━━━━━━━━┳━━━━━━━━━━━━━━━━━━━┳━━━━━━━━━━━━┳━━━━━━━━━━━━━━━━━━━┓\n",
       "┃<span style=\"font-weight: bold\"> Layer (type)        </span>┃<span style=\"font-weight: bold\"> Output Shape      </span>┃<span style=\"font-weight: bold\">    Param # </span>┃<span style=\"font-weight: bold\"> Connected to      </span>┃\n",
       "┡━━━━━━━━━━━━━━━━━━━━━╇━━━━━━━━━━━━━━━━━━━╇━━━━━━━━━━━━╇━━━━━━━━━━━━━━━━━━━┩\n",
       "│ input_layer_2       │ (<span style=\"color: #00d7ff; text-decoration-color: #00d7ff\">None</span>, <span style=\"color: #00af00; text-decoration-color: #00af00\">62</span>, <span style=\"color: #00af00; text-decoration-color: #00af00\">1</span>)     │          <span style=\"color: #00af00; text-decoration-color: #00af00\">0</span> │ -                 │\n",
       "│ (<span style=\"color: #0087ff; text-decoration-color: #0087ff\">InputLayer</span>)        │                   │            │                   │\n",
       "├─────────────────────┼───────────────────┼────────────┼───────────────────┤\n",
       "│ conv1d_2 (<span style=\"color: #0087ff; text-decoration-color: #0087ff\">Conv1D</span>)   │ (<span style=\"color: #00d7ff; text-decoration-color: #00d7ff\">None</span>, <span style=\"color: #00af00; text-decoration-color: #00af00\">60</span>, <span style=\"color: #00af00; text-decoration-color: #00af00\">64</span>)    │        <span style=\"color: #00af00; text-decoration-color: #00af00\">256</span> │ input_layer_2[<span style=\"color: #00af00; text-decoration-color: #00af00\">0</span>]… │\n",
       "├─────────────────────┼───────────────────┼────────────┼───────────────────┤\n",
       "│ lstm_4 (<span style=\"color: #0087ff; text-decoration-color: #0087ff\">LSTM</span>)       │ (<span style=\"color: #00d7ff; text-decoration-color: #00d7ff\">None</span>, <span style=\"color: #00af00; text-decoration-color: #00af00\">62</span>, <span style=\"color: #00af00; text-decoration-color: #00af00\">64</span>)    │     <span style=\"color: #00af00; text-decoration-color: #00af00\">16,896</span> │ input_layer_2[<span style=\"color: #00af00; text-decoration-color: #00af00\">0</span>]… │\n",
       "├─────────────────────┼───────────────────┼────────────┼───────────────────┤\n",
       "│ max_pooling1d_2     │ (<span style=\"color: #00d7ff; text-decoration-color: #00d7ff\">None</span>, <span style=\"color: #00af00; text-decoration-color: #00af00\">30</span>, <span style=\"color: #00af00; text-decoration-color: #00af00\">64</span>)    │          <span style=\"color: #00af00; text-decoration-color: #00af00\">0</span> │ conv1d_2[<span style=\"color: #00af00; text-decoration-color: #00af00\">0</span>][<span style=\"color: #00af00; text-decoration-color: #00af00\">0</span>]    │\n",
       "│ (<span style=\"color: #0087ff; text-decoration-color: #0087ff\">MaxPooling1D</span>)      │                   │            │                   │\n",
       "├─────────────────────┼───────────────────┼────────────┼───────────────────┤\n",
       "│ dropout_8 (<span style=\"color: #0087ff; text-decoration-color: #0087ff\">Dropout</span>) │ (<span style=\"color: #00d7ff; text-decoration-color: #00d7ff\">None</span>, <span style=\"color: #00af00; text-decoration-color: #00af00\">62</span>, <span style=\"color: #00af00; text-decoration-color: #00af00\">64</span>)    │          <span style=\"color: #00af00; text-decoration-color: #00af00\">0</span> │ lstm_4[<span style=\"color: #00af00; text-decoration-color: #00af00\">0</span>][<span style=\"color: #00af00; text-decoration-color: #00af00\">0</span>]      │\n",
       "├─────────────────────┼───────────────────┼────────────┼───────────────────┤\n",
       "│ flatten_2 (<span style=\"color: #0087ff; text-decoration-color: #0087ff\">Flatten</span>) │ (<span style=\"color: #00d7ff; text-decoration-color: #00d7ff\">None</span>, <span style=\"color: #00af00; text-decoration-color: #00af00\">1920</span>)      │          <span style=\"color: #00af00; text-decoration-color: #00af00\">0</span> │ max_pooling1d_2[<span style=\"color: #00af00; text-decoration-color: #00af00\">…</span> │\n",
       "├─────────────────────┼───────────────────┼────────────┼───────────────────┤\n",
       "│ lstm_5 (<span style=\"color: #0087ff; text-decoration-color: #0087ff\">LSTM</span>)       │ (<span style=\"color: #00d7ff; text-decoration-color: #00d7ff\">None</span>, <span style=\"color: #00af00; text-decoration-color: #00af00\">32</span>)        │     <span style=\"color: #00af00; text-decoration-color: #00af00\">12,416</span> │ dropout_8[<span style=\"color: #00af00; text-decoration-color: #00af00\">0</span>][<span style=\"color: #00af00; text-decoration-color: #00af00\">0</span>]   │\n",
       "├─────────────────────┼───────────────────┼────────────┼───────────────────┤\n",
       "│ dense_6 (<span style=\"color: #0087ff; text-decoration-color: #0087ff\">Dense</span>)     │ (<span style=\"color: #00d7ff; text-decoration-color: #00d7ff\">None</span>, <span style=\"color: #00af00; text-decoration-color: #00af00\">32</span>)        │     <span style=\"color: #00af00; text-decoration-color: #00af00\">61,472</span> │ flatten_2[<span style=\"color: #00af00; text-decoration-color: #00af00\">0</span>][<span style=\"color: #00af00; text-decoration-color: #00af00\">0</span>]   │\n",
       "├─────────────────────┼───────────────────┼────────────┼───────────────────┤\n",
       "│ dropout_9 (<span style=\"color: #0087ff; text-decoration-color: #0087ff\">Dropout</span>) │ (<span style=\"color: #00d7ff; text-decoration-color: #00d7ff\">None</span>, <span style=\"color: #00af00; text-decoration-color: #00af00\">32</span>)        │          <span style=\"color: #00af00; text-decoration-color: #00af00\">0</span> │ lstm_5[<span style=\"color: #00af00; text-decoration-color: #00af00\">0</span>][<span style=\"color: #00af00; text-decoration-color: #00af00\">0</span>]      │\n",
       "├─────────────────────┼───────────────────┼────────────┼───────────────────┤\n",
       "│ dropout_10          │ (<span style=\"color: #00d7ff; text-decoration-color: #00d7ff\">None</span>, <span style=\"color: #00af00; text-decoration-color: #00af00\">32</span>)        │          <span style=\"color: #00af00; text-decoration-color: #00af00\">0</span> │ dense_6[<span style=\"color: #00af00; text-decoration-color: #00af00\">0</span>][<span style=\"color: #00af00; text-decoration-color: #00af00\">0</span>]     │\n",
       "│ (<span style=\"color: #0087ff; text-decoration-color: #0087ff\">Dropout</span>)           │                   │            │                   │\n",
       "├─────────────────────┼───────────────────┼────────────┼───────────────────┤\n",
       "│ concatenate_2       │ (<span style=\"color: #00d7ff; text-decoration-color: #00d7ff\">None</span>, <span style=\"color: #00af00; text-decoration-color: #00af00\">64</span>)        │          <span style=\"color: #00af00; text-decoration-color: #00af00\">0</span> │ dropout_9[<span style=\"color: #00af00; text-decoration-color: #00af00\">0</span>][<span style=\"color: #00af00; text-decoration-color: #00af00\">0</span>],  │\n",
       "│ (<span style=\"color: #0087ff; text-decoration-color: #0087ff\">Concatenate</span>)       │                   │            │ dropout_10[<span style=\"color: #00af00; text-decoration-color: #00af00\">0</span>][<span style=\"color: #00af00; text-decoration-color: #00af00\">0</span>]  │\n",
       "├─────────────────────┼───────────────────┼────────────┼───────────────────┤\n",
       "│ dense_7 (<span style=\"color: #0087ff; text-decoration-color: #0087ff\">Dense</span>)     │ (<span style=\"color: #00d7ff; text-decoration-color: #00d7ff\">None</span>, <span style=\"color: #00af00; text-decoration-color: #00af00\">64</span>)        │      <span style=\"color: #00af00; text-decoration-color: #00af00\">4,160</span> │ concatenate_2[<span style=\"color: #00af00; text-decoration-color: #00af00\">0</span>]… │\n",
       "├─────────────────────┼───────────────────┼────────────┼───────────────────┤\n",
       "│ dropout_11          │ (<span style=\"color: #00d7ff; text-decoration-color: #00d7ff\">None</span>, <span style=\"color: #00af00; text-decoration-color: #00af00\">64</span>)        │          <span style=\"color: #00af00; text-decoration-color: #00af00\">0</span> │ dense_7[<span style=\"color: #00af00; text-decoration-color: #00af00\">0</span>][<span style=\"color: #00af00; text-decoration-color: #00af00\">0</span>]     │\n",
       "│ (<span style=\"color: #0087ff; text-decoration-color: #0087ff\">Dropout</span>)           │                   │            │                   │\n",
       "├─────────────────────┼───────────────────┼────────────┼───────────────────┤\n",
       "│ dense_8 (<span style=\"color: #0087ff; text-decoration-color: #0087ff\">Dense</span>)     │ (<span style=\"color: #00d7ff; text-decoration-color: #00d7ff\">None</span>, <span style=\"color: #00af00; text-decoration-color: #00af00\">1</span>)         │         <span style=\"color: #00af00; text-decoration-color: #00af00\">65</span> │ dropout_11[<span style=\"color: #00af00; text-decoration-color: #00af00\">0</span>][<span style=\"color: #00af00; text-decoration-color: #00af00\">0</span>]  │\n",
       "└─────────────────────┴───────────────────┴────────────┴───────────────────┘\n",
       "</pre>\n"
      ],
      "text/plain": [
       "┏━━━━━━━━━━━━━━━━━━━━━┳━━━━━━━━━━━━━━━━━━━┳━━━━━━━━━━━━┳━━━━━━━━━━━━━━━━━━━┓\n",
       "┃\u001b[1m \u001b[0m\u001b[1mLayer (type)       \u001b[0m\u001b[1m \u001b[0m┃\u001b[1m \u001b[0m\u001b[1mOutput Shape     \u001b[0m\u001b[1m \u001b[0m┃\u001b[1m \u001b[0m\u001b[1m   Param #\u001b[0m\u001b[1m \u001b[0m┃\u001b[1m \u001b[0m\u001b[1mConnected to     \u001b[0m\u001b[1m \u001b[0m┃\n",
       "┡━━━━━━━━━━━━━━━━━━━━━╇━━━━━━━━━━━━━━━━━━━╇━━━━━━━━━━━━╇━━━━━━━━━━━━━━━━━━━┩\n",
       "│ input_layer_2       │ (\u001b[38;5;45mNone\u001b[0m, \u001b[38;5;34m62\u001b[0m, \u001b[38;5;34m1\u001b[0m)     │          \u001b[38;5;34m0\u001b[0m │ -                 │\n",
       "│ (\u001b[38;5;33mInputLayer\u001b[0m)        │                   │            │                   │\n",
       "├─────────────────────┼───────────────────┼────────────┼───────────────────┤\n",
       "│ conv1d_2 (\u001b[38;5;33mConv1D\u001b[0m)   │ (\u001b[38;5;45mNone\u001b[0m, \u001b[38;5;34m60\u001b[0m, \u001b[38;5;34m64\u001b[0m)    │        \u001b[38;5;34m256\u001b[0m │ input_layer_2[\u001b[38;5;34m0\u001b[0m]… │\n",
       "├─────────────────────┼───────────────────┼────────────┼───────────────────┤\n",
       "│ lstm_4 (\u001b[38;5;33mLSTM\u001b[0m)       │ (\u001b[38;5;45mNone\u001b[0m, \u001b[38;5;34m62\u001b[0m, \u001b[38;5;34m64\u001b[0m)    │     \u001b[38;5;34m16,896\u001b[0m │ input_layer_2[\u001b[38;5;34m0\u001b[0m]… │\n",
       "├─────────────────────┼───────────────────┼────────────┼───────────────────┤\n",
       "│ max_pooling1d_2     │ (\u001b[38;5;45mNone\u001b[0m, \u001b[38;5;34m30\u001b[0m, \u001b[38;5;34m64\u001b[0m)    │          \u001b[38;5;34m0\u001b[0m │ conv1d_2[\u001b[38;5;34m0\u001b[0m][\u001b[38;5;34m0\u001b[0m]    │\n",
       "│ (\u001b[38;5;33mMaxPooling1D\u001b[0m)      │                   │            │                   │\n",
       "├─────────────────────┼───────────────────┼────────────┼───────────────────┤\n",
       "│ dropout_8 (\u001b[38;5;33mDropout\u001b[0m) │ (\u001b[38;5;45mNone\u001b[0m, \u001b[38;5;34m62\u001b[0m, \u001b[38;5;34m64\u001b[0m)    │          \u001b[38;5;34m0\u001b[0m │ lstm_4[\u001b[38;5;34m0\u001b[0m][\u001b[38;5;34m0\u001b[0m]      │\n",
       "├─────────────────────┼───────────────────┼────────────┼───────────────────┤\n",
       "│ flatten_2 (\u001b[38;5;33mFlatten\u001b[0m) │ (\u001b[38;5;45mNone\u001b[0m, \u001b[38;5;34m1920\u001b[0m)      │          \u001b[38;5;34m0\u001b[0m │ max_pooling1d_2[\u001b[38;5;34m…\u001b[0m │\n",
       "├─────────────────────┼───────────────────┼────────────┼───────────────────┤\n",
       "│ lstm_5 (\u001b[38;5;33mLSTM\u001b[0m)       │ (\u001b[38;5;45mNone\u001b[0m, \u001b[38;5;34m32\u001b[0m)        │     \u001b[38;5;34m12,416\u001b[0m │ dropout_8[\u001b[38;5;34m0\u001b[0m][\u001b[38;5;34m0\u001b[0m]   │\n",
       "├─────────────────────┼───────────────────┼────────────┼───────────────────┤\n",
       "│ dense_6 (\u001b[38;5;33mDense\u001b[0m)     │ (\u001b[38;5;45mNone\u001b[0m, \u001b[38;5;34m32\u001b[0m)        │     \u001b[38;5;34m61,472\u001b[0m │ flatten_2[\u001b[38;5;34m0\u001b[0m][\u001b[38;5;34m0\u001b[0m]   │\n",
       "├─────────────────────┼───────────────────┼────────────┼───────────────────┤\n",
       "│ dropout_9 (\u001b[38;5;33mDropout\u001b[0m) │ (\u001b[38;5;45mNone\u001b[0m, \u001b[38;5;34m32\u001b[0m)        │          \u001b[38;5;34m0\u001b[0m │ lstm_5[\u001b[38;5;34m0\u001b[0m][\u001b[38;5;34m0\u001b[0m]      │\n",
       "├─────────────────────┼───────────────────┼────────────┼───────────────────┤\n",
       "│ dropout_10          │ (\u001b[38;5;45mNone\u001b[0m, \u001b[38;5;34m32\u001b[0m)        │          \u001b[38;5;34m0\u001b[0m │ dense_6[\u001b[38;5;34m0\u001b[0m][\u001b[38;5;34m0\u001b[0m]     │\n",
       "│ (\u001b[38;5;33mDropout\u001b[0m)           │                   │            │                   │\n",
       "├─────────────────────┼───────────────────┼────────────┼───────────────────┤\n",
       "│ concatenate_2       │ (\u001b[38;5;45mNone\u001b[0m, \u001b[38;5;34m64\u001b[0m)        │          \u001b[38;5;34m0\u001b[0m │ dropout_9[\u001b[38;5;34m0\u001b[0m][\u001b[38;5;34m0\u001b[0m],  │\n",
       "│ (\u001b[38;5;33mConcatenate\u001b[0m)       │                   │            │ dropout_10[\u001b[38;5;34m0\u001b[0m][\u001b[38;5;34m0\u001b[0m]  │\n",
       "├─────────────────────┼───────────────────┼────────────┼───────────────────┤\n",
       "│ dense_7 (\u001b[38;5;33mDense\u001b[0m)     │ (\u001b[38;5;45mNone\u001b[0m, \u001b[38;5;34m64\u001b[0m)        │      \u001b[38;5;34m4,160\u001b[0m │ concatenate_2[\u001b[38;5;34m0\u001b[0m]… │\n",
       "├─────────────────────┼───────────────────┼────────────┼───────────────────┤\n",
       "│ dropout_11          │ (\u001b[38;5;45mNone\u001b[0m, \u001b[38;5;34m64\u001b[0m)        │          \u001b[38;5;34m0\u001b[0m │ dense_7[\u001b[38;5;34m0\u001b[0m][\u001b[38;5;34m0\u001b[0m]     │\n",
       "│ (\u001b[38;5;33mDropout\u001b[0m)           │                   │            │                   │\n",
       "├─────────────────────┼───────────────────┼────────────┼───────────────────┤\n",
       "│ dense_8 (\u001b[38;5;33mDense\u001b[0m)     │ (\u001b[38;5;45mNone\u001b[0m, \u001b[38;5;34m1\u001b[0m)         │         \u001b[38;5;34m65\u001b[0m │ dropout_11[\u001b[38;5;34m0\u001b[0m][\u001b[38;5;34m0\u001b[0m]  │\n",
       "└─────────────────────┴───────────────────┴────────────┴───────────────────┘\n"
      ]
     },
     "metadata": {},
     "output_type": "display_data"
    },
    {
     "data": {
      "text/html": [
       "<pre style=\"white-space:pre;overflow-x:auto;line-height:normal;font-family:Menlo,'DejaVu Sans Mono',consolas,'Courier New',monospace\"><span style=\"font-weight: bold\"> Total params: </span><span style=\"color: #00af00; text-decoration-color: #00af00\">95,265</span> (372.13 KB)\n",
       "</pre>\n"
      ],
      "text/plain": [
       "\u001b[1m Total params: \u001b[0m\u001b[38;5;34m95,265\u001b[0m (372.13 KB)\n"
      ]
     },
     "metadata": {},
     "output_type": "display_data"
    },
    {
     "data": {
      "text/html": [
       "<pre style=\"white-space:pre;overflow-x:auto;line-height:normal;font-family:Menlo,'DejaVu Sans Mono',consolas,'Courier New',monospace\"><span style=\"font-weight: bold\"> Trainable params: </span><span style=\"color: #00af00; text-decoration-color: #00af00\">95,265</span> (372.13 KB)\n",
       "</pre>\n"
      ],
      "text/plain": [
       "\u001b[1m Trainable params: \u001b[0m\u001b[38;5;34m95,265\u001b[0m (372.13 KB)\n"
      ]
     },
     "metadata": {},
     "output_type": "display_data"
    },
    {
     "data": {
      "text/html": [
       "<pre style=\"white-space:pre;overflow-x:auto;line-height:normal;font-family:Menlo,'DejaVu Sans Mono',consolas,'Courier New',monospace\"><span style=\"font-weight: bold\"> Non-trainable params: </span><span style=\"color: #00af00; text-decoration-color: #00af00\">0</span> (0.00 B)\n",
       "</pre>\n"
      ],
      "text/plain": [
       "\u001b[1m Non-trainable params: \u001b[0m\u001b[38;5;34m0\u001b[0m (0.00 B)\n"
      ]
     },
     "metadata": {},
     "output_type": "display_data"
    },
    {
     "name": "stdout",
     "output_type": "stream",
     "text": [
      "Epoch 1/20\n",
      "\u001b[1m308/308\u001b[0m \u001b[32m━━━━━━━━━━━━━━━━━━━━\u001b[0m\u001b[37m\u001b[0m \u001b[1m6s\u001b[0m 12ms/step - accuracy: 0.8954 - loss: 0.2945 - val_accuracy: 0.9919 - val_loss: 0.0257\n",
      "Epoch 2/20\n",
      "\u001b[1m308/308\u001b[0m \u001b[32m━━━━━━━━━━━━━━━━━━━━\u001b[0m\u001b[37m\u001b[0m \u001b[1m3s\u001b[0m 11ms/step - accuracy: 0.9940 - loss: 0.0283 - val_accuracy: 0.9951 - val_loss: 0.0166\n",
      "Epoch 3/20\n",
      "\u001b[1m308/308\u001b[0m \u001b[32m━━━━━━━━━━━━━━━━━━━━\u001b[0m\u001b[37m\u001b[0m \u001b[1m3s\u001b[0m 10ms/step - accuracy: 0.9921 - loss: 0.0276 - val_accuracy: 0.9947 - val_loss: 0.0182\n",
      "Epoch 4/20\n",
      "\u001b[1m308/308\u001b[0m \u001b[32m━━━━━━━━━━━━━━━━━━━━\u001b[0m\u001b[37m\u001b[0m \u001b[1m3s\u001b[0m 10ms/step - accuracy: 0.9958 - loss: 0.0150 - val_accuracy: 0.9972 - val_loss: 0.0107\n",
      "Epoch 5/20\n",
      "\u001b[1m308/308\u001b[0m \u001b[32m━━━━━━━━━━━━━━━━━━━━\u001b[0m\u001b[37m\u001b[0m \u001b[1m3s\u001b[0m 10ms/step - accuracy: 0.9960 - loss: 0.0142 - val_accuracy: 0.9967 - val_loss: 0.0114\n",
      "Epoch 6/20\n",
      "\u001b[1m308/308\u001b[0m \u001b[32m━━━━━━━━━━━━━━━━━━━━\u001b[0m\u001b[37m\u001b[0m \u001b[1m3s\u001b[0m 10ms/step - accuracy: 0.9967 - loss: 0.0150 - val_accuracy: 0.9976 - val_loss: 0.0096\n",
      "Epoch 7/20\n",
      "\u001b[1m308/308\u001b[0m \u001b[32m━━━━━━━━━━━━━━━━━━━━\u001b[0m\u001b[37m\u001b[0m \u001b[1m3s\u001b[0m 10ms/step - accuracy: 0.9968 - loss: 0.0101 - val_accuracy: 0.9980 - val_loss: 0.0106\n",
      "Epoch 8/20\n",
      "\u001b[1m308/308\u001b[0m \u001b[32m━━━━━━━━━━━━━━━━━━━━\u001b[0m\u001b[37m\u001b[0m \u001b[1m3s\u001b[0m 10ms/step - accuracy: 0.9951 - loss: 0.0151 - val_accuracy: 0.9980 - val_loss: 0.0079\n",
      "Epoch 9/20\n",
      "\u001b[1m308/308\u001b[0m \u001b[32m━━━━━━━━━━━━━━━━━━━━\u001b[0m\u001b[37m\u001b[0m \u001b[1m3s\u001b[0m 11ms/step - accuracy: 0.9977 - loss: 0.0099 - val_accuracy: 0.9980 - val_loss: 0.0075\n",
      "Epoch 10/20\n",
      "\u001b[1m308/308\u001b[0m \u001b[32m━━━━━━━━━━━━━━━━━━━━\u001b[0m\u001b[37m\u001b[0m \u001b[1m3s\u001b[0m 10ms/step - accuracy: 0.9984 - loss: 0.0055 - val_accuracy: 0.9980 - val_loss: 0.0077\n",
      "Epoch 11/20\n",
      "\u001b[1m308/308\u001b[0m \u001b[32m━━━━━━━━━━━━━━━━━━━━\u001b[0m\u001b[37m\u001b[0m \u001b[1m3s\u001b[0m 10ms/step - accuracy: 0.9981 - loss: 0.0061 - val_accuracy: 0.9972 - val_loss: 0.0109\n",
      "Epoch 12/20\n",
      "\u001b[1m308/308\u001b[0m \u001b[32m━━━━━━━━━━━━━━━━━━━━\u001b[0m\u001b[37m\u001b[0m \u001b[1m3s\u001b[0m 10ms/step - accuracy: 0.9979 - loss: 0.0080 - val_accuracy: 0.9972 - val_loss: 0.0114\n",
      "Epoch 13/20\n",
      "\u001b[1m308/308\u001b[0m \u001b[32m━━━━━━━━━━━━━━━━━━━━\u001b[0m\u001b[37m\u001b[0m \u001b[1m3s\u001b[0m 10ms/step - accuracy: 0.9988 - loss: 0.0069 - val_accuracy: 0.9980 - val_loss: 0.0097\n",
      "Epoch 14/20\n",
      "\u001b[1m308/308\u001b[0m \u001b[32m━━━━━━━━━━━━━━━━━━━━\u001b[0m\u001b[37m\u001b[0m \u001b[1m3s\u001b[0m 10ms/step - accuracy: 0.9978 - loss: 0.0096 - val_accuracy: 0.9980 - val_loss: 0.0088\n",
      "\u001b[1m77/77\u001b[0m \u001b[32m━━━━━━━━━━━━━━━━━━━━\u001b[0m\u001b[37m\u001b[0m \u001b[1m1s\u001b[0m 6ms/step\n"
     ]
    },
    {
     "data": {
      "text/html": [
       "<pre style=\"white-space:pre;overflow-x:auto;line-height:normal;font-family:Menlo,'DejaVu Sans Mono',consolas,'Courier New',monospace\"><span style=\"font-weight: bold\">Model: \"functional_7\"</span>\n",
       "</pre>\n"
      ],
      "text/plain": [
       "\u001b[1mModel: \"functional_7\"\u001b[0m\n"
      ]
     },
     "metadata": {},
     "output_type": "display_data"
    },
    {
     "data": {
      "text/html": [
       "<pre style=\"white-space:pre;overflow-x:auto;line-height:normal;font-family:Menlo,'DejaVu Sans Mono',consolas,'Courier New',monospace\">┏━━━━━━━━━━━━━━━━━━━━━┳━━━━━━━━━━━━━━━━━━━┳━━━━━━━━━━━━┳━━━━━━━━━━━━━━━━━━━┓\n",
       "┃<span style=\"font-weight: bold\"> Layer (type)        </span>┃<span style=\"font-weight: bold\"> Output Shape      </span>┃<span style=\"font-weight: bold\">    Param # </span>┃<span style=\"font-weight: bold\"> Connected to      </span>┃\n",
       "┡━━━━━━━━━━━━━━━━━━━━━╇━━━━━━━━━━━━━━━━━━━╇━━━━━━━━━━━━╇━━━━━━━━━━━━━━━━━━━┩\n",
       "│ input_layer_3       │ (<span style=\"color: #00d7ff; text-decoration-color: #00d7ff\">None</span>, <span style=\"color: #00af00; text-decoration-color: #00af00\">62</span>, <span style=\"color: #00af00; text-decoration-color: #00af00\">1</span>)     │          <span style=\"color: #00af00; text-decoration-color: #00af00\">0</span> │ -                 │\n",
       "│ (<span style=\"color: #0087ff; text-decoration-color: #0087ff\">InputLayer</span>)        │                   │            │                   │\n",
       "├─────────────────────┼───────────────────┼────────────┼───────────────────┤\n",
       "│ conv1d_3 (<span style=\"color: #0087ff; text-decoration-color: #0087ff\">Conv1D</span>)   │ (<span style=\"color: #00d7ff; text-decoration-color: #00d7ff\">None</span>, <span style=\"color: #00af00; text-decoration-color: #00af00\">60</span>, <span style=\"color: #00af00; text-decoration-color: #00af00\">64</span>)    │        <span style=\"color: #00af00; text-decoration-color: #00af00\">256</span> │ input_layer_3[<span style=\"color: #00af00; text-decoration-color: #00af00\">0</span>]… │\n",
       "├─────────────────────┼───────────────────┼────────────┼───────────────────┤\n",
       "│ lstm_6 (<span style=\"color: #0087ff; text-decoration-color: #0087ff\">LSTM</span>)       │ (<span style=\"color: #00d7ff; text-decoration-color: #00d7ff\">None</span>, <span style=\"color: #00af00; text-decoration-color: #00af00\">62</span>, <span style=\"color: #00af00; text-decoration-color: #00af00\">64</span>)    │     <span style=\"color: #00af00; text-decoration-color: #00af00\">16,896</span> │ input_layer_3[<span style=\"color: #00af00; text-decoration-color: #00af00\">0</span>]… │\n",
       "├─────────────────────┼───────────────────┼────────────┼───────────────────┤\n",
       "│ max_pooling1d_3     │ (<span style=\"color: #00d7ff; text-decoration-color: #00d7ff\">None</span>, <span style=\"color: #00af00; text-decoration-color: #00af00\">30</span>, <span style=\"color: #00af00; text-decoration-color: #00af00\">64</span>)    │          <span style=\"color: #00af00; text-decoration-color: #00af00\">0</span> │ conv1d_3[<span style=\"color: #00af00; text-decoration-color: #00af00\">0</span>][<span style=\"color: #00af00; text-decoration-color: #00af00\">0</span>]    │\n",
       "│ (<span style=\"color: #0087ff; text-decoration-color: #0087ff\">MaxPooling1D</span>)      │                   │            │                   │\n",
       "├─────────────────────┼───────────────────┼────────────┼───────────────────┤\n",
       "│ dropout_12          │ (<span style=\"color: #00d7ff; text-decoration-color: #00d7ff\">None</span>, <span style=\"color: #00af00; text-decoration-color: #00af00\">62</span>, <span style=\"color: #00af00; text-decoration-color: #00af00\">64</span>)    │          <span style=\"color: #00af00; text-decoration-color: #00af00\">0</span> │ lstm_6[<span style=\"color: #00af00; text-decoration-color: #00af00\">0</span>][<span style=\"color: #00af00; text-decoration-color: #00af00\">0</span>]      │\n",
       "│ (<span style=\"color: #0087ff; text-decoration-color: #0087ff\">Dropout</span>)           │                   │            │                   │\n",
       "├─────────────────────┼───────────────────┼────────────┼───────────────────┤\n",
       "│ flatten_3 (<span style=\"color: #0087ff; text-decoration-color: #0087ff\">Flatten</span>) │ (<span style=\"color: #00d7ff; text-decoration-color: #00d7ff\">None</span>, <span style=\"color: #00af00; text-decoration-color: #00af00\">1920</span>)      │          <span style=\"color: #00af00; text-decoration-color: #00af00\">0</span> │ max_pooling1d_3[<span style=\"color: #00af00; text-decoration-color: #00af00\">…</span> │\n",
       "├─────────────────────┼───────────────────┼────────────┼───────────────────┤\n",
       "│ lstm_7 (<span style=\"color: #0087ff; text-decoration-color: #0087ff\">LSTM</span>)       │ (<span style=\"color: #00d7ff; text-decoration-color: #00d7ff\">None</span>, <span style=\"color: #00af00; text-decoration-color: #00af00\">32</span>)        │     <span style=\"color: #00af00; text-decoration-color: #00af00\">12,416</span> │ dropout_12[<span style=\"color: #00af00; text-decoration-color: #00af00\">0</span>][<span style=\"color: #00af00; text-decoration-color: #00af00\">0</span>]  │\n",
       "├─────────────────────┼───────────────────┼────────────┼───────────────────┤\n",
       "│ dense_9 (<span style=\"color: #0087ff; text-decoration-color: #0087ff\">Dense</span>)     │ (<span style=\"color: #00d7ff; text-decoration-color: #00d7ff\">None</span>, <span style=\"color: #00af00; text-decoration-color: #00af00\">32</span>)        │     <span style=\"color: #00af00; text-decoration-color: #00af00\">61,472</span> │ flatten_3[<span style=\"color: #00af00; text-decoration-color: #00af00\">0</span>][<span style=\"color: #00af00; text-decoration-color: #00af00\">0</span>]   │\n",
       "├─────────────────────┼───────────────────┼────────────┼───────────────────┤\n",
       "│ dropout_13          │ (<span style=\"color: #00d7ff; text-decoration-color: #00d7ff\">None</span>, <span style=\"color: #00af00; text-decoration-color: #00af00\">32</span>)        │          <span style=\"color: #00af00; text-decoration-color: #00af00\">0</span> │ lstm_7[<span style=\"color: #00af00; text-decoration-color: #00af00\">0</span>][<span style=\"color: #00af00; text-decoration-color: #00af00\">0</span>]      │\n",
       "│ (<span style=\"color: #0087ff; text-decoration-color: #0087ff\">Dropout</span>)           │                   │            │                   │\n",
       "├─────────────────────┼───────────────────┼────────────┼───────────────────┤\n",
       "│ dropout_14          │ (<span style=\"color: #00d7ff; text-decoration-color: #00d7ff\">None</span>, <span style=\"color: #00af00; text-decoration-color: #00af00\">32</span>)        │          <span style=\"color: #00af00; text-decoration-color: #00af00\">0</span> │ dense_9[<span style=\"color: #00af00; text-decoration-color: #00af00\">0</span>][<span style=\"color: #00af00; text-decoration-color: #00af00\">0</span>]     │\n",
       "│ (<span style=\"color: #0087ff; text-decoration-color: #0087ff\">Dropout</span>)           │                   │            │                   │\n",
       "├─────────────────────┼───────────────────┼────────────┼───────────────────┤\n",
       "│ concatenate_3       │ (<span style=\"color: #00d7ff; text-decoration-color: #00d7ff\">None</span>, <span style=\"color: #00af00; text-decoration-color: #00af00\">64</span>)        │          <span style=\"color: #00af00; text-decoration-color: #00af00\">0</span> │ dropout_13[<span style=\"color: #00af00; text-decoration-color: #00af00\">0</span>][<span style=\"color: #00af00; text-decoration-color: #00af00\">0</span>], │\n",
       "│ (<span style=\"color: #0087ff; text-decoration-color: #0087ff\">Concatenate</span>)       │                   │            │ dropout_14[<span style=\"color: #00af00; text-decoration-color: #00af00\">0</span>][<span style=\"color: #00af00; text-decoration-color: #00af00\">0</span>]  │\n",
       "├─────────────────────┼───────────────────┼────────────┼───────────────────┤\n",
       "│ dense_10 (<span style=\"color: #0087ff; text-decoration-color: #0087ff\">Dense</span>)    │ (<span style=\"color: #00d7ff; text-decoration-color: #00d7ff\">None</span>, <span style=\"color: #00af00; text-decoration-color: #00af00\">64</span>)        │      <span style=\"color: #00af00; text-decoration-color: #00af00\">4,160</span> │ concatenate_3[<span style=\"color: #00af00; text-decoration-color: #00af00\">0</span>]… │\n",
       "├─────────────────────┼───────────────────┼────────────┼───────────────────┤\n",
       "│ dropout_15          │ (<span style=\"color: #00d7ff; text-decoration-color: #00d7ff\">None</span>, <span style=\"color: #00af00; text-decoration-color: #00af00\">64</span>)        │          <span style=\"color: #00af00; text-decoration-color: #00af00\">0</span> │ dense_10[<span style=\"color: #00af00; text-decoration-color: #00af00\">0</span>][<span style=\"color: #00af00; text-decoration-color: #00af00\">0</span>]    │\n",
       "│ (<span style=\"color: #0087ff; text-decoration-color: #0087ff\">Dropout</span>)           │                   │            │                   │\n",
       "├─────────────────────┼───────────────────┼────────────┼───────────────────┤\n",
       "│ dense_11 (<span style=\"color: #0087ff; text-decoration-color: #0087ff\">Dense</span>)    │ (<span style=\"color: #00d7ff; text-decoration-color: #00d7ff\">None</span>, <span style=\"color: #00af00; text-decoration-color: #00af00\">1</span>)         │         <span style=\"color: #00af00; text-decoration-color: #00af00\">65</span> │ dropout_15[<span style=\"color: #00af00; text-decoration-color: #00af00\">0</span>][<span style=\"color: #00af00; text-decoration-color: #00af00\">0</span>]  │\n",
       "└─────────────────────┴───────────────────┴────────────┴───────────────────┘\n",
       "</pre>\n"
      ],
      "text/plain": [
       "┏━━━━━━━━━━━━━━━━━━━━━┳━━━━━━━━━━━━━━━━━━━┳━━━━━━━━━━━━┳━━━━━━━━━━━━━━━━━━━┓\n",
       "┃\u001b[1m \u001b[0m\u001b[1mLayer (type)       \u001b[0m\u001b[1m \u001b[0m┃\u001b[1m \u001b[0m\u001b[1mOutput Shape     \u001b[0m\u001b[1m \u001b[0m┃\u001b[1m \u001b[0m\u001b[1m   Param #\u001b[0m\u001b[1m \u001b[0m┃\u001b[1m \u001b[0m\u001b[1mConnected to     \u001b[0m\u001b[1m \u001b[0m┃\n",
       "┡━━━━━━━━━━━━━━━━━━━━━╇━━━━━━━━━━━━━━━━━━━╇━━━━━━━━━━━━╇━━━━━━━━━━━━━━━━━━━┩\n",
       "│ input_layer_3       │ (\u001b[38;5;45mNone\u001b[0m, \u001b[38;5;34m62\u001b[0m, \u001b[38;5;34m1\u001b[0m)     │          \u001b[38;5;34m0\u001b[0m │ -                 │\n",
       "│ (\u001b[38;5;33mInputLayer\u001b[0m)        │                   │            │                   │\n",
       "├─────────────────────┼───────────────────┼────────────┼───────────────────┤\n",
       "│ conv1d_3 (\u001b[38;5;33mConv1D\u001b[0m)   │ (\u001b[38;5;45mNone\u001b[0m, \u001b[38;5;34m60\u001b[0m, \u001b[38;5;34m64\u001b[0m)    │        \u001b[38;5;34m256\u001b[0m │ input_layer_3[\u001b[38;5;34m0\u001b[0m]… │\n",
       "├─────────────────────┼───────────────────┼────────────┼───────────────────┤\n",
       "│ lstm_6 (\u001b[38;5;33mLSTM\u001b[0m)       │ (\u001b[38;5;45mNone\u001b[0m, \u001b[38;5;34m62\u001b[0m, \u001b[38;5;34m64\u001b[0m)    │     \u001b[38;5;34m16,896\u001b[0m │ input_layer_3[\u001b[38;5;34m0\u001b[0m]… │\n",
       "├─────────────────────┼───────────────────┼────────────┼───────────────────┤\n",
       "│ max_pooling1d_3     │ (\u001b[38;5;45mNone\u001b[0m, \u001b[38;5;34m30\u001b[0m, \u001b[38;5;34m64\u001b[0m)    │          \u001b[38;5;34m0\u001b[0m │ conv1d_3[\u001b[38;5;34m0\u001b[0m][\u001b[38;5;34m0\u001b[0m]    │\n",
       "│ (\u001b[38;5;33mMaxPooling1D\u001b[0m)      │                   │            │                   │\n",
       "├─────────────────────┼───────────────────┼────────────┼───────────────────┤\n",
       "│ dropout_12          │ (\u001b[38;5;45mNone\u001b[0m, \u001b[38;5;34m62\u001b[0m, \u001b[38;5;34m64\u001b[0m)    │          \u001b[38;5;34m0\u001b[0m │ lstm_6[\u001b[38;5;34m0\u001b[0m][\u001b[38;5;34m0\u001b[0m]      │\n",
       "│ (\u001b[38;5;33mDropout\u001b[0m)           │                   │            │                   │\n",
       "├─────────────────────┼───────────────────┼────────────┼───────────────────┤\n",
       "│ flatten_3 (\u001b[38;5;33mFlatten\u001b[0m) │ (\u001b[38;5;45mNone\u001b[0m, \u001b[38;5;34m1920\u001b[0m)      │          \u001b[38;5;34m0\u001b[0m │ max_pooling1d_3[\u001b[38;5;34m…\u001b[0m │\n",
       "├─────────────────────┼───────────────────┼────────────┼───────────────────┤\n",
       "│ lstm_7 (\u001b[38;5;33mLSTM\u001b[0m)       │ (\u001b[38;5;45mNone\u001b[0m, \u001b[38;5;34m32\u001b[0m)        │     \u001b[38;5;34m12,416\u001b[0m │ dropout_12[\u001b[38;5;34m0\u001b[0m][\u001b[38;5;34m0\u001b[0m]  │\n",
       "├─────────────────────┼───────────────────┼────────────┼───────────────────┤\n",
       "│ dense_9 (\u001b[38;5;33mDense\u001b[0m)     │ (\u001b[38;5;45mNone\u001b[0m, \u001b[38;5;34m32\u001b[0m)        │     \u001b[38;5;34m61,472\u001b[0m │ flatten_3[\u001b[38;5;34m0\u001b[0m][\u001b[38;5;34m0\u001b[0m]   │\n",
       "├─────────────────────┼───────────────────┼────────────┼───────────────────┤\n",
       "│ dropout_13          │ (\u001b[38;5;45mNone\u001b[0m, \u001b[38;5;34m32\u001b[0m)        │          \u001b[38;5;34m0\u001b[0m │ lstm_7[\u001b[38;5;34m0\u001b[0m][\u001b[38;5;34m0\u001b[0m]      │\n",
       "│ (\u001b[38;5;33mDropout\u001b[0m)           │                   │            │                   │\n",
       "├─────────────────────┼───────────────────┼────────────┼───────────────────┤\n",
       "│ dropout_14          │ (\u001b[38;5;45mNone\u001b[0m, \u001b[38;5;34m32\u001b[0m)        │          \u001b[38;5;34m0\u001b[0m │ dense_9[\u001b[38;5;34m0\u001b[0m][\u001b[38;5;34m0\u001b[0m]     │\n",
       "│ (\u001b[38;5;33mDropout\u001b[0m)           │                   │            │                   │\n",
       "├─────────────────────┼───────────────────┼────────────┼───────────────────┤\n",
       "│ concatenate_3       │ (\u001b[38;5;45mNone\u001b[0m, \u001b[38;5;34m64\u001b[0m)        │          \u001b[38;5;34m0\u001b[0m │ dropout_13[\u001b[38;5;34m0\u001b[0m][\u001b[38;5;34m0\u001b[0m], │\n",
       "│ (\u001b[38;5;33mConcatenate\u001b[0m)       │                   │            │ dropout_14[\u001b[38;5;34m0\u001b[0m][\u001b[38;5;34m0\u001b[0m]  │\n",
       "├─────────────────────┼───────────────────┼────────────┼───────────────────┤\n",
       "│ dense_10 (\u001b[38;5;33mDense\u001b[0m)    │ (\u001b[38;5;45mNone\u001b[0m, \u001b[38;5;34m64\u001b[0m)        │      \u001b[38;5;34m4,160\u001b[0m │ concatenate_3[\u001b[38;5;34m0\u001b[0m]… │\n",
       "├─────────────────────┼───────────────────┼────────────┼───────────────────┤\n",
       "│ dropout_15          │ (\u001b[38;5;45mNone\u001b[0m, \u001b[38;5;34m64\u001b[0m)        │          \u001b[38;5;34m0\u001b[0m │ dense_10[\u001b[38;5;34m0\u001b[0m][\u001b[38;5;34m0\u001b[0m]    │\n",
       "│ (\u001b[38;5;33mDropout\u001b[0m)           │                   │            │                   │\n",
       "├─────────────────────┼───────────────────┼────────────┼───────────────────┤\n",
       "│ dense_11 (\u001b[38;5;33mDense\u001b[0m)    │ (\u001b[38;5;45mNone\u001b[0m, \u001b[38;5;34m1\u001b[0m)         │         \u001b[38;5;34m65\u001b[0m │ dropout_15[\u001b[38;5;34m0\u001b[0m][\u001b[38;5;34m0\u001b[0m]  │\n",
       "└─────────────────────┴───────────────────┴────────────┴───────────────────┘\n"
      ]
     },
     "metadata": {},
     "output_type": "display_data"
    },
    {
     "data": {
      "text/html": [
       "<pre style=\"white-space:pre;overflow-x:auto;line-height:normal;font-family:Menlo,'DejaVu Sans Mono',consolas,'Courier New',monospace\"><span style=\"font-weight: bold\"> Total params: </span><span style=\"color: #00af00; text-decoration-color: #00af00\">95,265</span> (372.13 KB)\n",
       "</pre>\n"
      ],
      "text/plain": [
       "\u001b[1m Total params: \u001b[0m\u001b[38;5;34m95,265\u001b[0m (372.13 KB)\n"
      ]
     },
     "metadata": {},
     "output_type": "display_data"
    },
    {
     "data": {
      "text/html": [
       "<pre style=\"white-space:pre;overflow-x:auto;line-height:normal;font-family:Menlo,'DejaVu Sans Mono',consolas,'Courier New',monospace\"><span style=\"font-weight: bold\"> Trainable params: </span><span style=\"color: #00af00; text-decoration-color: #00af00\">95,265</span> (372.13 KB)\n",
       "</pre>\n"
      ],
      "text/plain": [
       "\u001b[1m Trainable params: \u001b[0m\u001b[38;5;34m95,265\u001b[0m (372.13 KB)\n"
      ]
     },
     "metadata": {},
     "output_type": "display_data"
    },
    {
     "data": {
      "text/html": [
       "<pre style=\"white-space:pre;overflow-x:auto;line-height:normal;font-family:Menlo,'DejaVu Sans Mono',consolas,'Courier New',monospace\"><span style=\"font-weight: bold\"> Non-trainable params: </span><span style=\"color: #00af00; text-decoration-color: #00af00\">0</span> (0.00 B)\n",
       "</pre>\n"
      ],
      "text/plain": [
       "\u001b[1m Non-trainable params: \u001b[0m\u001b[38;5;34m0\u001b[0m (0.00 B)\n"
      ]
     },
     "metadata": {},
     "output_type": "display_data"
    },
    {
     "name": "stdout",
     "output_type": "stream",
     "text": [
      "Epoch 1/20\n",
      "\u001b[1m308/308\u001b[0m \u001b[32m━━━━━━━━━━━━━━━━━━━━\u001b[0m\u001b[37m\u001b[0m \u001b[1m7s\u001b[0m 13ms/step - accuracy: 0.8989 - loss: 0.2814 - val_accuracy: 0.9919 - val_loss: 0.0206\n",
      "Epoch 2/20\n",
      "\u001b[1m308/308\u001b[0m \u001b[32m━━━━━━━━━━━━━━━━━━━━\u001b[0m\u001b[37m\u001b[0m \u001b[1m3s\u001b[0m 10ms/step - accuracy: 0.9911 - loss: 0.0309 - val_accuracy: 0.9906 - val_loss: 0.0254\n",
      "Epoch 3/20\n",
      "\u001b[1m308/308\u001b[0m \u001b[32m━━━━━━━━━━━━━━━━━━━━\u001b[0m\u001b[37m\u001b[0m \u001b[1m3s\u001b[0m 11ms/step - accuracy: 0.9933 - loss: 0.0256 - val_accuracy: 0.9996 - val_loss: 0.0025\n",
      "Epoch 4/20\n",
      "\u001b[1m308/308\u001b[0m \u001b[32m━━━━━━━━━━━━━━━━━━━━\u001b[0m\u001b[37m\u001b[0m \u001b[1m3s\u001b[0m 10ms/step - accuracy: 0.9963 - loss: 0.0131 - val_accuracy: 0.9992 - val_loss: 0.0021\n",
      "Epoch 5/20\n",
      "\u001b[1m308/308\u001b[0m \u001b[32m━━━━━━━━━━━━━━━━━━━━\u001b[0m\u001b[37m\u001b[0m \u001b[1m3s\u001b[0m 10ms/step - accuracy: 0.9940 - loss: 0.0194 - val_accuracy: 0.9984 - val_loss: 0.0030\n",
      "Epoch 6/20\n",
      "\u001b[1m308/308\u001b[0m \u001b[32m━━━━━━━━━━━━━━━━━━━━\u001b[0m\u001b[37m\u001b[0m \u001b[1m3s\u001b[0m 11ms/step - accuracy: 0.9968 - loss: 0.0111 - val_accuracy: 1.0000 - val_loss: 0.0010\n",
      "Epoch 7/20\n",
      "\u001b[1m308/308\u001b[0m \u001b[32m━━━━━━━━━━━━━━━━━━━━\u001b[0m\u001b[37m\u001b[0m \u001b[1m3s\u001b[0m 10ms/step - accuracy: 0.9967 - loss: 0.0118 - val_accuracy: 0.9996 - val_loss: 9.2570e-04\n",
      "Epoch 8/20\n",
      "\u001b[1m308/308\u001b[0m \u001b[32m━━━━━━━━━━━━━━━━━━━━\u001b[0m\u001b[37m\u001b[0m \u001b[1m3s\u001b[0m 10ms/step - accuracy: 0.9948 - loss: 0.0189 - val_accuracy: 0.9992 - val_loss: 0.0014\n",
      "Epoch 9/20\n",
      "\u001b[1m308/308\u001b[0m \u001b[32m━━━━━━━━━━━━━━━━━━━━\u001b[0m\u001b[37m\u001b[0m \u001b[1m3s\u001b[0m 10ms/step - accuracy: 0.9981 - loss: 0.0061 - val_accuracy: 1.0000 - val_loss: 3.6158e-04\n",
      "Epoch 10/20\n",
      "\u001b[1m308/308\u001b[0m \u001b[32m━━━━━━━━━━━━━━━━━━━━\u001b[0m\u001b[37m\u001b[0m \u001b[1m3s\u001b[0m 10ms/step - accuracy: 0.9972 - loss: 0.0084 - val_accuracy: 0.9996 - val_loss: 5.0947e-04\n",
      "Epoch 11/20\n",
      "\u001b[1m308/308\u001b[0m \u001b[32m━━━━━━━━━━━━━━━━━━━━\u001b[0m\u001b[37m\u001b[0m \u001b[1m3s\u001b[0m 10ms/step - accuracy: 0.9987 - loss: 0.0044 - val_accuracy: 1.0000 - val_loss: 7.8741e-04\n",
      "Epoch 12/20\n",
      "\u001b[1m308/308\u001b[0m \u001b[32m━━━━━━━━━━━━━━━━━━━━\u001b[0m\u001b[37m\u001b[0m \u001b[1m5s\u001b[0m 11ms/step - accuracy: 0.9977 - loss: 0.0080 - val_accuracy: 0.9988 - val_loss: 0.0031\n",
      "Epoch 13/20\n",
      "\u001b[1m308/308\u001b[0m \u001b[32m━━━━━━━━━━━━━━━━━━━━\u001b[0m\u001b[37m\u001b[0m \u001b[1m3s\u001b[0m 11ms/step - accuracy: 0.9979 - loss: 0.0055 - val_accuracy: 0.9984 - val_loss: 0.0040\n",
      "Epoch 14/20\n",
      "\u001b[1m308/308\u001b[0m \u001b[32m━━━━━━━━━━━━━━━━━━━━\u001b[0m\u001b[37m\u001b[0m \u001b[1m3s\u001b[0m 10ms/step - accuracy: 0.9969 - loss: 0.0148 - val_accuracy: 1.0000 - val_loss: 0.0013\n",
      "\u001b[1m77/77\u001b[0m \u001b[32m━━━━━━━━━━━━━━━━━━━━\u001b[0m\u001b[37m\u001b[0m \u001b[1m1s\u001b[0m 6ms/step\n"
     ]
    },
    {
     "data": {
      "text/html": [
       "<pre style=\"white-space:pre;overflow-x:auto;line-height:normal;font-family:Menlo,'DejaVu Sans Mono',consolas,'Courier New',monospace\"><span style=\"font-weight: bold\">Model: \"functional_9\"</span>\n",
       "</pre>\n"
      ],
      "text/plain": [
       "\u001b[1mModel: \"functional_9\"\u001b[0m\n"
      ]
     },
     "metadata": {},
     "output_type": "display_data"
    },
    {
     "data": {
      "text/html": [
       "<pre style=\"white-space:pre;overflow-x:auto;line-height:normal;font-family:Menlo,'DejaVu Sans Mono',consolas,'Courier New',monospace\">┏━━━━━━━━━━━━━━━━━━━━━┳━━━━━━━━━━━━━━━━━━━┳━━━━━━━━━━━━┳━━━━━━━━━━━━━━━━━━━┓\n",
       "┃<span style=\"font-weight: bold\"> Layer (type)        </span>┃<span style=\"font-weight: bold\"> Output Shape      </span>┃<span style=\"font-weight: bold\">    Param # </span>┃<span style=\"font-weight: bold\"> Connected to      </span>┃\n",
       "┡━━━━━━━━━━━━━━━━━━━━━╇━━━━━━━━━━━━━━━━━━━╇━━━━━━━━━━━━╇━━━━━━━━━━━━━━━━━━━┩\n",
       "│ input_layer_4       │ (<span style=\"color: #00d7ff; text-decoration-color: #00d7ff\">None</span>, <span style=\"color: #00af00; text-decoration-color: #00af00\">62</span>, <span style=\"color: #00af00; text-decoration-color: #00af00\">1</span>)     │          <span style=\"color: #00af00; text-decoration-color: #00af00\">0</span> │ -                 │\n",
       "│ (<span style=\"color: #0087ff; text-decoration-color: #0087ff\">InputLayer</span>)        │                   │            │                   │\n",
       "├─────────────────────┼───────────────────┼────────────┼───────────────────┤\n",
       "│ conv1d_4 (<span style=\"color: #0087ff; text-decoration-color: #0087ff\">Conv1D</span>)   │ (<span style=\"color: #00d7ff; text-decoration-color: #00d7ff\">None</span>, <span style=\"color: #00af00; text-decoration-color: #00af00\">60</span>, <span style=\"color: #00af00; text-decoration-color: #00af00\">64</span>)    │        <span style=\"color: #00af00; text-decoration-color: #00af00\">256</span> │ input_layer_4[<span style=\"color: #00af00; text-decoration-color: #00af00\">0</span>]… │\n",
       "├─────────────────────┼───────────────────┼────────────┼───────────────────┤\n",
       "│ lstm_8 (<span style=\"color: #0087ff; text-decoration-color: #0087ff\">LSTM</span>)       │ (<span style=\"color: #00d7ff; text-decoration-color: #00d7ff\">None</span>, <span style=\"color: #00af00; text-decoration-color: #00af00\">62</span>, <span style=\"color: #00af00; text-decoration-color: #00af00\">64</span>)    │     <span style=\"color: #00af00; text-decoration-color: #00af00\">16,896</span> │ input_layer_4[<span style=\"color: #00af00; text-decoration-color: #00af00\">0</span>]… │\n",
       "├─────────────────────┼───────────────────┼────────────┼───────────────────┤\n",
       "│ max_pooling1d_4     │ (<span style=\"color: #00d7ff; text-decoration-color: #00d7ff\">None</span>, <span style=\"color: #00af00; text-decoration-color: #00af00\">30</span>, <span style=\"color: #00af00; text-decoration-color: #00af00\">64</span>)    │          <span style=\"color: #00af00; text-decoration-color: #00af00\">0</span> │ conv1d_4[<span style=\"color: #00af00; text-decoration-color: #00af00\">0</span>][<span style=\"color: #00af00; text-decoration-color: #00af00\">0</span>]    │\n",
       "│ (<span style=\"color: #0087ff; text-decoration-color: #0087ff\">MaxPooling1D</span>)      │                   │            │                   │\n",
       "├─────────────────────┼───────────────────┼────────────┼───────────────────┤\n",
       "│ dropout_16          │ (<span style=\"color: #00d7ff; text-decoration-color: #00d7ff\">None</span>, <span style=\"color: #00af00; text-decoration-color: #00af00\">62</span>, <span style=\"color: #00af00; text-decoration-color: #00af00\">64</span>)    │          <span style=\"color: #00af00; text-decoration-color: #00af00\">0</span> │ lstm_8[<span style=\"color: #00af00; text-decoration-color: #00af00\">0</span>][<span style=\"color: #00af00; text-decoration-color: #00af00\">0</span>]      │\n",
       "│ (<span style=\"color: #0087ff; text-decoration-color: #0087ff\">Dropout</span>)           │                   │            │                   │\n",
       "├─────────────────────┼───────────────────┼────────────┼───────────────────┤\n",
       "│ flatten_4 (<span style=\"color: #0087ff; text-decoration-color: #0087ff\">Flatten</span>) │ (<span style=\"color: #00d7ff; text-decoration-color: #00d7ff\">None</span>, <span style=\"color: #00af00; text-decoration-color: #00af00\">1920</span>)      │          <span style=\"color: #00af00; text-decoration-color: #00af00\">0</span> │ max_pooling1d_4[<span style=\"color: #00af00; text-decoration-color: #00af00\">…</span> │\n",
       "├─────────────────────┼───────────────────┼────────────┼───────────────────┤\n",
       "│ lstm_9 (<span style=\"color: #0087ff; text-decoration-color: #0087ff\">LSTM</span>)       │ (<span style=\"color: #00d7ff; text-decoration-color: #00d7ff\">None</span>, <span style=\"color: #00af00; text-decoration-color: #00af00\">32</span>)        │     <span style=\"color: #00af00; text-decoration-color: #00af00\">12,416</span> │ dropout_16[<span style=\"color: #00af00; text-decoration-color: #00af00\">0</span>][<span style=\"color: #00af00; text-decoration-color: #00af00\">0</span>]  │\n",
       "├─────────────────────┼───────────────────┼────────────┼───────────────────┤\n",
       "│ dense_12 (<span style=\"color: #0087ff; text-decoration-color: #0087ff\">Dense</span>)    │ (<span style=\"color: #00d7ff; text-decoration-color: #00d7ff\">None</span>, <span style=\"color: #00af00; text-decoration-color: #00af00\">32</span>)        │     <span style=\"color: #00af00; text-decoration-color: #00af00\">61,472</span> │ flatten_4[<span style=\"color: #00af00; text-decoration-color: #00af00\">0</span>][<span style=\"color: #00af00; text-decoration-color: #00af00\">0</span>]   │\n",
       "├─────────────────────┼───────────────────┼────────────┼───────────────────┤\n",
       "│ dropout_17          │ (<span style=\"color: #00d7ff; text-decoration-color: #00d7ff\">None</span>, <span style=\"color: #00af00; text-decoration-color: #00af00\">32</span>)        │          <span style=\"color: #00af00; text-decoration-color: #00af00\">0</span> │ lstm_9[<span style=\"color: #00af00; text-decoration-color: #00af00\">0</span>][<span style=\"color: #00af00; text-decoration-color: #00af00\">0</span>]      │\n",
       "│ (<span style=\"color: #0087ff; text-decoration-color: #0087ff\">Dropout</span>)           │                   │            │                   │\n",
       "├─────────────────────┼───────────────────┼────────────┼───────────────────┤\n",
       "│ dropout_18          │ (<span style=\"color: #00d7ff; text-decoration-color: #00d7ff\">None</span>, <span style=\"color: #00af00; text-decoration-color: #00af00\">32</span>)        │          <span style=\"color: #00af00; text-decoration-color: #00af00\">0</span> │ dense_12[<span style=\"color: #00af00; text-decoration-color: #00af00\">0</span>][<span style=\"color: #00af00; text-decoration-color: #00af00\">0</span>]    │\n",
       "│ (<span style=\"color: #0087ff; text-decoration-color: #0087ff\">Dropout</span>)           │                   │            │                   │\n",
       "├─────────────────────┼───────────────────┼────────────┼───────────────────┤\n",
       "│ concatenate_4       │ (<span style=\"color: #00d7ff; text-decoration-color: #00d7ff\">None</span>, <span style=\"color: #00af00; text-decoration-color: #00af00\">64</span>)        │          <span style=\"color: #00af00; text-decoration-color: #00af00\">0</span> │ dropout_17[<span style=\"color: #00af00; text-decoration-color: #00af00\">0</span>][<span style=\"color: #00af00; text-decoration-color: #00af00\">0</span>], │\n",
       "│ (<span style=\"color: #0087ff; text-decoration-color: #0087ff\">Concatenate</span>)       │                   │            │ dropout_18[<span style=\"color: #00af00; text-decoration-color: #00af00\">0</span>][<span style=\"color: #00af00; text-decoration-color: #00af00\">0</span>]  │\n",
       "├─────────────────────┼───────────────────┼────────────┼───────────────────┤\n",
       "│ dense_13 (<span style=\"color: #0087ff; text-decoration-color: #0087ff\">Dense</span>)    │ (<span style=\"color: #00d7ff; text-decoration-color: #00d7ff\">None</span>, <span style=\"color: #00af00; text-decoration-color: #00af00\">64</span>)        │      <span style=\"color: #00af00; text-decoration-color: #00af00\">4,160</span> │ concatenate_4[<span style=\"color: #00af00; text-decoration-color: #00af00\">0</span>]… │\n",
       "├─────────────────────┼───────────────────┼────────────┼───────────────────┤\n",
       "│ dropout_19          │ (<span style=\"color: #00d7ff; text-decoration-color: #00d7ff\">None</span>, <span style=\"color: #00af00; text-decoration-color: #00af00\">64</span>)        │          <span style=\"color: #00af00; text-decoration-color: #00af00\">0</span> │ dense_13[<span style=\"color: #00af00; text-decoration-color: #00af00\">0</span>][<span style=\"color: #00af00; text-decoration-color: #00af00\">0</span>]    │\n",
       "│ (<span style=\"color: #0087ff; text-decoration-color: #0087ff\">Dropout</span>)           │                   │            │                   │\n",
       "├─────────────────────┼───────────────────┼────────────┼───────────────────┤\n",
       "│ dense_14 (<span style=\"color: #0087ff; text-decoration-color: #0087ff\">Dense</span>)    │ (<span style=\"color: #00d7ff; text-decoration-color: #00d7ff\">None</span>, <span style=\"color: #00af00; text-decoration-color: #00af00\">1</span>)         │         <span style=\"color: #00af00; text-decoration-color: #00af00\">65</span> │ dropout_19[<span style=\"color: #00af00; text-decoration-color: #00af00\">0</span>][<span style=\"color: #00af00; text-decoration-color: #00af00\">0</span>]  │\n",
       "└─────────────────────┴───────────────────┴────────────┴───────────────────┘\n",
       "</pre>\n"
      ],
      "text/plain": [
       "┏━━━━━━━━━━━━━━━━━━━━━┳━━━━━━━━━━━━━━━━━━━┳━━━━━━━━━━━━┳━━━━━━━━━━━━━━━━━━━┓\n",
       "┃\u001b[1m \u001b[0m\u001b[1mLayer (type)       \u001b[0m\u001b[1m \u001b[0m┃\u001b[1m \u001b[0m\u001b[1mOutput Shape     \u001b[0m\u001b[1m \u001b[0m┃\u001b[1m \u001b[0m\u001b[1m   Param #\u001b[0m\u001b[1m \u001b[0m┃\u001b[1m \u001b[0m\u001b[1mConnected to     \u001b[0m\u001b[1m \u001b[0m┃\n",
       "┡━━━━━━━━━━━━━━━━━━━━━╇━━━━━━━━━━━━━━━━━━━╇━━━━━━━━━━━━╇━━━━━━━━━━━━━━━━━━━┩\n",
       "│ input_layer_4       │ (\u001b[38;5;45mNone\u001b[0m, \u001b[38;5;34m62\u001b[0m, \u001b[38;5;34m1\u001b[0m)     │          \u001b[38;5;34m0\u001b[0m │ -                 │\n",
       "│ (\u001b[38;5;33mInputLayer\u001b[0m)        │                   │            │                   │\n",
       "├─────────────────────┼───────────────────┼────────────┼───────────────────┤\n",
       "│ conv1d_4 (\u001b[38;5;33mConv1D\u001b[0m)   │ (\u001b[38;5;45mNone\u001b[0m, \u001b[38;5;34m60\u001b[0m, \u001b[38;5;34m64\u001b[0m)    │        \u001b[38;5;34m256\u001b[0m │ input_layer_4[\u001b[38;5;34m0\u001b[0m]… │\n",
       "├─────────────────────┼───────────────────┼────────────┼───────────────────┤\n",
       "│ lstm_8 (\u001b[38;5;33mLSTM\u001b[0m)       │ (\u001b[38;5;45mNone\u001b[0m, \u001b[38;5;34m62\u001b[0m, \u001b[38;5;34m64\u001b[0m)    │     \u001b[38;5;34m16,896\u001b[0m │ input_layer_4[\u001b[38;5;34m0\u001b[0m]… │\n",
       "├─────────────────────┼───────────────────┼────────────┼───────────────────┤\n",
       "│ max_pooling1d_4     │ (\u001b[38;5;45mNone\u001b[0m, \u001b[38;5;34m30\u001b[0m, \u001b[38;5;34m64\u001b[0m)    │          \u001b[38;5;34m0\u001b[0m │ conv1d_4[\u001b[38;5;34m0\u001b[0m][\u001b[38;5;34m0\u001b[0m]    │\n",
       "│ (\u001b[38;5;33mMaxPooling1D\u001b[0m)      │                   │            │                   │\n",
       "├─────────────────────┼───────────────────┼────────────┼───────────────────┤\n",
       "│ dropout_16          │ (\u001b[38;5;45mNone\u001b[0m, \u001b[38;5;34m62\u001b[0m, \u001b[38;5;34m64\u001b[0m)    │          \u001b[38;5;34m0\u001b[0m │ lstm_8[\u001b[38;5;34m0\u001b[0m][\u001b[38;5;34m0\u001b[0m]      │\n",
       "│ (\u001b[38;5;33mDropout\u001b[0m)           │                   │            │                   │\n",
       "├─────────────────────┼───────────────────┼────────────┼───────────────────┤\n",
       "│ flatten_4 (\u001b[38;5;33mFlatten\u001b[0m) │ (\u001b[38;5;45mNone\u001b[0m, \u001b[38;5;34m1920\u001b[0m)      │          \u001b[38;5;34m0\u001b[0m │ max_pooling1d_4[\u001b[38;5;34m…\u001b[0m │\n",
       "├─────────────────────┼───────────────────┼────────────┼───────────────────┤\n",
       "│ lstm_9 (\u001b[38;5;33mLSTM\u001b[0m)       │ (\u001b[38;5;45mNone\u001b[0m, \u001b[38;5;34m32\u001b[0m)        │     \u001b[38;5;34m12,416\u001b[0m │ dropout_16[\u001b[38;5;34m0\u001b[0m][\u001b[38;5;34m0\u001b[0m]  │\n",
       "├─────────────────────┼───────────────────┼────────────┼───────────────────┤\n",
       "│ dense_12 (\u001b[38;5;33mDense\u001b[0m)    │ (\u001b[38;5;45mNone\u001b[0m, \u001b[38;5;34m32\u001b[0m)        │     \u001b[38;5;34m61,472\u001b[0m │ flatten_4[\u001b[38;5;34m0\u001b[0m][\u001b[38;5;34m0\u001b[0m]   │\n",
       "├─────────────────────┼───────────────────┼────────────┼───────────────────┤\n",
       "│ dropout_17          │ (\u001b[38;5;45mNone\u001b[0m, \u001b[38;5;34m32\u001b[0m)        │          \u001b[38;5;34m0\u001b[0m │ lstm_9[\u001b[38;5;34m0\u001b[0m][\u001b[38;5;34m0\u001b[0m]      │\n",
       "│ (\u001b[38;5;33mDropout\u001b[0m)           │                   │            │                   │\n",
       "├─────────────────────┼───────────────────┼────────────┼───────────────────┤\n",
       "│ dropout_18          │ (\u001b[38;5;45mNone\u001b[0m, \u001b[38;5;34m32\u001b[0m)        │          \u001b[38;5;34m0\u001b[0m │ dense_12[\u001b[38;5;34m0\u001b[0m][\u001b[38;5;34m0\u001b[0m]    │\n",
       "│ (\u001b[38;5;33mDropout\u001b[0m)           │                   │            │                   │\n",
       "├─────────────────────┼───────────────────┼────────────┼───────────────────┤\n",
       "│ concatenate_4       │ (\u001b[38;5;45mNone\u001b[0m, \u001b[38;5;34m64\u001b[0m)        │          \u001b[38;5;34m0\u001b[0m │ dropout_17[\u001b[38;5;34m0\u001b[0m][\u001b[38;5;34m0\u001b[0m], │\n",
       "│ (\u001b[38;5;33mConcatenate\u001b[0m)       │                   │            │ dropout_18[\u001b[38;5;34m0\u001b[0m][\u001b[38;5;34m0\u001b[0m]  │\n",
       "├─────────────────────┼───────────────────┼────────────┼───────────────────┤\n",
       "│ dense_13 (\u001b[38;5;33mDense\u001b[0m)    │ (\u001b[38;5;45mNone\u001b[0m, \u001b[38;5;34m64\u001b[0m)        │      \u001b[38;5;34m4,160\u001b[0m │ concatenate_4[\u001b[38;5;34m0\u001b[0m]… │\n",
       "├─────────────────────┼───────────────────┼────────────┼───────────────────┤\n",
       "│ dropout_19          │ (\u001b[38;5;45mNone\u001b[0m, \u001b[38;5;34m64\u001b[0m)        │          \u001b[38;5;34m0\u001b[0m │ dense_13[\u001b[38;5;34m0\u001b[0m][\u001b[38;5;34m0\u001b[0m]    │\n",
       "│ (\u001b[38;5;33mDropout\u001b[0m)           │                   │            │                   │\n",
       "├─────────────────────┼───────────────────┼────────────┼───────────────────┤\n",
       "│ dense_14 (\u001b[38;5;33mDense\u001b[0m)    │ (\u001b[38;5;45mNone\u001b[0m, \u001b[38;5;34m1\u001b[0m)         │         \u001b[38;5;34m65\u001b[0m │ dropout_19[\u001b[38;5;34m0\u001b[0m][\u001b[38;5;34m0\u001b[0m]  │\n",
       "└─────────────────────┴───────────────────┴────────────┴───────────────────┘\n"
      ]
     },
     "metadata": {},
     "output_type": "display_data"
    },
    {
     "data": {
      "text/html": [
       "<pre style=\"white-space:pre;overflow-x:auto;line-height:normal;font-family:Menlo,'DejaVu Sans Mono',consolas,'Courier New',monospace\"><span style=\"font-weight: bold\"> Total params: </span><span style=\"color: #00af00; text-decoration-color: #00af00\">95,265</span> (372.13 KB)\n",
       "</pre>\n"
      ],
      "text/plain": [
       "\u001b[1m Total params: \u001b[0m\u001b[38;5;34m95,265\u001b[0m (372.13 KB)\n"
      ]
     },
     "metadata": {},
     "output_type": "display_data"
    },
    {
     "data": {
      "text/html": [
       "<pre style=\"white-space:pre;overflow-x:auto;line-height:normal;font-family:Menlo,'DejaVu Sans Mono',consolas,'Courier New',monospace\"><span style=\"font-weight: bold\"> Trainable params: </span><span style=\"color: #00af00; text-decoration-color: #00af00\">95,265</span> (372.13 KB)\n",
       "</pre>\n"
      ],
      "text/plain": [
       "\u001b[1m Trainable params: \u001b[0m\u001b[38;5;34m95,265\u001b[0m (372.13 KB)\n"
      ]
     },
     "metadata": {},
     "output_type": "display_data"
    },
    {
     "data": {
      "text/html": [
       "<pre style=\"white-space:pre;overflow-x:auto;line-height:normal;font-family:Menlo,'DejaVu Sans Mono',consolas,'Courier New',monospace\"><span style=\"font-weight: bold\"> Non-trainable params: </span><span style=\"color: #00af00; text-decoration-color: #00af00\">0</span> (0.00 B)\n",
       "</pre>\n"
      ],
      "text/plain": [
       "\u001b[1m Non-trainable params: \u001b[0m\u001b[38;5;34m0\u001b[0m (0.00 B)\n"
      ]
     },
     "metadata": {},
     "output_type": "display_data"
    },
    {
     "name": "stdout",
     "output_type": "stream",
     "text": [
      "Epoch 1/20\n",
      "\u001b[1m308/308\u001b[0m \u001b[32m━━━━━━━━━━━━━━━━━━━━\u001b[0m\u001b[37m\u001b[0m \u001b[1m6s\u001b[0m 12ms/step - accuracy: 0.8769 - loss: 0.2739 - val_accuracy: 0.9931 - val_loss: 0.0221\n",
      "Epoch 2/20\n",
      "\u001b[1m308/308\u001b[0m \u001b[32m━━━━━━━━━━━━━━━━━━━━\u001b[0m\u001b[37m\u001b[0m \u001b[1m3s\u001b[0m 10ms/step - accuracy: 0.9940 - loss: 0.0272 - val_accuracy: 0.9931 - val_loss: 0.0246\n",
      "Epoch 3/20\n",
      "\u001b[1m308/308\u001b[0m \u001b[32m━━━━━━━━━━━━━━━━━━━━\u001b[0m\u001b[37m\u001b[0m \u001b[1m3s\u001b[0m 10ms/step - accuracy: 0.9942 - loss: 0.0203 - val_accuracy: 0.9976 - val_loss: 0.0094\n",
      "Epoch 4/20\n",
      "\u001b[1m308/308\u001b[0m \u001b[32m━━━━━━━━━━━━━━━━━━━━\u001b[0m\u001b[37m\u001b[0m \u001b[1m3s\u001b[0m 10ms/step - accuracy: 0.9962 - loss: 0.0149 - val_accuracy: 0.9980 - val_loss: 0.0061\n",
      "Epoch 5/20\n",
      "\u001b[1m308/308\u001b[0m \u001b[32m━━━━━━━━━━━━━━━━━━━━\u001b[0m\u001b[37m\u001b[0m \u001b[1m3s\u001b[0m 10ms/step - accuracy: 0.9966 - loss: 0.0136 - val_accuracy: 0.9976 - val_loss: 0.0065\n",
      "Epoch 6/20\n",
      "\u001b[1m308/308\u001b[0m \u001b[32m━━━━━━━━━━━━━━━━━━━━\u001b[0m\u001b[37m\u001b[0m \u001b[1m3s\u001b[0m 10ms/step - accuracy: 0.9972 - loss: 0.0120 - val_accuracy: 0.9984 - val_loss: 0.0048\n",
      "Epoch 7/20\n",
      "\u001b[1m308/308\u001b[0m \u001b[32m━━━━━━━━━━━━━━━━━━━━\u001b[0m\u001b[37m\u001b[0m \u001b[1m3s\u001b[0m 11ms/step - accuracy: 0.9973 - loss: 0.0101 - val_accuracy: 0.9980 - val_loss: 0.0042\n",
      "Epoch 8/20\n",
      "\u001b[1m308/308\u001b[0m \u001b[32m━━━━━━━━━━━━━━━━━━━━\u001b[0m\u001b[37m\u001b[0m \u001b[1m3s\u001b[0m 11ms/step - accuracy: 0.9971 - loss: 0.0094 - val_accuracy: 0.9992 - val_loss: 0.0020\n",
      "Epoch 9/20\n",
      "\u001b[1m308/308\u001b[0m \u001b[32m━━━━━━━━━━━━━━━━━━━━\u001b[0m\u001b[37m\u001b[0m \u001b[1m3s\u001b[0m 10ms/step - accuracy: 0.9982 - loss: 0.0087 - val_accuracy: 0.9980 - val_loss: 0.0065\n",
      "Epoch 10/20\n",
      "\u001b[1m308/308\u001b[0m \u001b[32m━━━━━━━━━━━━━━━━━━━━\u001b[0m\u001b[37m\u001b[0m \u001b[1m3s\u001b[0m 10ms/step - accuracy: 0.9979 - loss: 0.0070 - val_accuracy: 0.9992 - val_loss: 0.0018\n",
      "Epoch 11/20\n",
      "\u001b[1m308/308\u001b[0m \u001b[32m━━━━━━━━━━━━━━━━━━━━\u001b[0m\u001b[37m\u001b[0m \u001b[1m3s\u001b[0m 10ms/step - accuracy: 0.9975 - loss: 0.0102 - val_accuracy: 0.9996 - val_loss: 0.0011\n",
      "Epoch 12/20\n",
      "\u001b[1m308/308\u001b[0m \u001b[32m━━━━━━━━━━━━━━━━━━━━\u001b[0m\u001b[37m\u001b[0m \u001b[1m3s\u001b[0m 10ms/step - accuracy: 0.9977 - loss: 0.0068 - val_accuracy: 1.0000 - val_loss: 9.4074e-04\n",
      "Epoch 13/20\n",
      "\u001b[1m308/308\u001b[0m \u001b[32m━━━━━━━━━━━━━━━━━━━━\u001b[0m\u001b[37m\u001b[0m \u001b[1m3s\u001b[0m 10ms/step - accuracy: 0.9981 - loss: 0.0084 - val_accuracy: 0.9996 - val_loss: 0.0018\n",
      "Epoch 14/20\n",
      "\u001b[1m308/308\u001b[0m \u001b[32m━━━━━━━━━━━━━━━━━━━━\u001b[0m\u001b[37m\u001b[0m \u001b[1m3s\u001b[0m 10ms/step - accuracy: 0.9957 - loss: 0.0145 - val_accuracy: 0.9992 - val_loss: 0.0019\n",
      "Epoch 15/20\n",
      "\u001b[1m308/308\u001b[0m \u001b[32m━━━━━━━━━━━━━━━━━━━━\u001b[0m\u001b[37m\u001b[0m \u001b[1m3s\u001b[0m 10ms/step - accuracy: 0.9976 - loss: 0.0079 - val_accuracy: 0.9992 - val_loss: 0.0018\n",
      "Epoch 16/20\n",
      "\u001b[1m308/308\u001b[0m \u001b[32m━━━━━━━━━━━━━━━━━━━━\u001b[0m\u001b[37m\u001b[0m \u001b[1m3s\u001b[0m 11ms/step - accuracy: 0.9983 - loss: 0.0064 - val_accuracy: 0.9992 - val_loss: 0.0012\n",
      "Epoch 17/20\n",
      "\u001b[1m308/308\u001b[0m \u001b[32m━━━━━━━━━━━━━━━━━━━━\u001b[0m\u001b[37m\u001b[0m \u001b[1m3s\u001b[0m 11ms/step - accuracy: 0.9981 - loss: 0.0066 - val_accuracy: 1.0000 - val_loss: 5.3202e-04\n",
      "Epoch 18/20\n",
      "\u001b[1m308/308\u001b[0m \u001b[32m━━━━━━━━━━━━━━━━━━━━\u001b[0m\u001b[37m\u001b[0m \u001b[1m3s\u001b[0m 10ms/step - accuracy: 0.9975 - loss: 0.0087 - val_accuracy: 1.0000 - val_loss: 2.6266e-04\n",
      "Epoch 19/20\n",
      "\u001b[1m308/308\u001b[0m \u001b[32m━━━━━━━━━━━━━━━━━━━━\u001b[0m\u001b[37m\u001b[0m \u001b[1m3s\u001b[0m 10ms/step - accuracy: 0.9985 - loss: 0.0060 - val_accuracy: 1.0000 - val_loss: 3.9673e-04\n",
      "Epoch 20/20\n",
      "\u001b[1m308/308\u001b[0m \u001b[32m━━━━━━━━━━━━━━━━━━━━\u001b[0m\u001b[37m\u001b[0m \u001b[1m3s\u001b[0m 10ms/step - accuracy: 0.9989 - loss: 0.0052 - val_accuracy: 0.9992 - val_loss: 0.0018\n",
      "\u001b[1m77/77\u001b[0m \u001b[32m━━━━━━━━━━━━━━━━━━━━\u001b[0m\u001b[37m\u001b[0m \u001b[1m1s\u001b[0m 6ms/step\n"
     ]
    }
   ],
   "source": [
    "from keras.models import Model, load_model\n",
    "from keras.layers import Input, LSTM, Dense, Dropout, Conv1D, MaxPooling1D, Flatten, Concatenate\n",
    "from keras.callbacks import EarlyStopping, ModelCheckpoint\n",
    "from sklearn.model_selection import KFold\n",
    "from sklearn.metrics import precision_score, recall_score, f1_score\n",
    "import numpy as np\n",
    "\n",
    "def create_bilstm_cnn_model(input_shape):\n",
    "    # Input layer\n",
    "    input_layer = Input(shape=input_shape)\n",
    "\n",
    "    # Bi-LSTM branch\n",
    "    lstm_output = LSTM(64, return_sequences=True)(input_layer)\n",
    "    lstm_output = Dropout(0.5)(lstm_output)\n",
    "    lstm_output = LSTM(32)(lstm_output)\n",
    "    lstm_output = Dropout(0.5)(lstm_output)\n",
    "\n",
    "    # CNN branch\n",
    "    cnn_output = Conv1D(filters=64, kernel_size=3, activation='relu')(input_layer)\n",
    "    cnn_output = MaxPooling1D(pool_size=2)(cnn_output)\n",
    "    cnn_output = Flatten()(cnn_output)\n",
    "    cnn_output = Dense(32, activation='relu')(cnn_output)\n",
    "    cnn_output = Dropout(0.5)(cnn_output)\n",
    "\n",
    "    # Combine LSTM and CNN branches\n",
    "    combined = Concatenate()([lstm_output, cnn_output])\n",
    "    combined = Dense(64, activation='relu')(combined)\n",
    "    combined = Dropout(0.3)(combined)\n",
    "    output = Dense(1, activation='sigmoid')(combined)\n",
    "\n",
    "    model = Model(inputs=input_layer, outputs=output)\n",
    "    return model\n",
    "\n",
    "# Reshape data\n",
    "X_resampled_np = X_resampled.to_numpy()\n",
    "X_resampled_np = np.expand_dims(X_resampled_np, axis=2)  # Reshape to (samples, timesteps, features)\n",
    "n_samples, n_timesteps, n_features = X_resampled_np.shape\n",
    "\n",
    "# Define cross-validation\n",
    "kf = KFold(n_splits=5, shuffle=True, random_state=42)\n",
    "\n",
    "# Arrays to store results\n",
    "precision_scores = []\n",
    "recall_scores = []\n",
    "f1_scores = []\n",
    "accuracy_scores = []\n",
    "histories = []\n",
    "best_accuracy = 0\n",
    "best_history = None\n",
    "\n",
    "# Training and evaluation\n",
    "for train_index, val_index in kf.split(X_resampled):\n",
    "    X_train, X_val = X_resampled_np[train_index], X_resampled_np[val_index]\n",
    "    Y_train, Y_val = y_resampled[train_index], y_resampled[val_index]\n",
    "\n",
    "    # Create and compile the model\n",
    "    model = create_bilstm_cnn_model((n_timesteps, n_features))\n",
    "    model.compile(optimizer='adam', loss='binary_crossentropy', metrics=['accuracy'])\n",
    "    model.summary()\n",
    "\n",
    "    # Define the checkpoint callback to save the best model during training\n",
    "    checkpoint_path = '/kaggle/working/best_model.keras'\n",
    "    checkpoint = ModelCheckpoint(checkpoint_path, monitor='val_accuracy', save_best_only=True, mode='max', save_weights_only=False)\n",
    "\n",
    "    # Training the model\n",
    "    history = model.fit(\n",
    "        X_train, Y_train,\n",
    "        epochs=20,\n",
    "        batch_size=32,\n",
    "        validation_data=(X_val, Y_val),\n",
    "        callbacks=[EarlyStopping(patience=5), checkpoint]\n",
    "    )\n",
    "    \n",
    "    histories.append(history)\n",
    "\n",
    "    # Load the best model\n",
    "    best_model = load_model(checkpoint_path)\n",
    "    \n",
    "    ## New added\n",
    "    # Evaluate the best model on the validation data\n",
    "    results = best_model.evaluate(X_val, Y_val, verbose=0)\n",
    "    accuracy = results[1]\n",
    "    \n",
    "    if accuracy > best_accuracy:\n",
    "        best_accuracy = accuracy\n",
    "        best_history = history\n",
    "        \n",
    "    accuracy_scores.append(accuracy)\n",
    "    ## New added\n",
    "\n",
    "    # Evaluate the best model on the validation data\n",
    "    # results = best_model.evaluate(X_val, Y_val, verbose=0)\n",
    "    # accuracy_scores.append(results[1])\n",
    "\n",
    "    # Predictions\n",
    "    Y_pred = best_model.predict(X_val)\n",
    "    Y_pred = (Y_pred > 0.5).astype(int)\n",
    "\n",
    "    # Calculate precision, recall, and f1-score\n",
    "    precision = precision_score(Y_val, Y_pred)\n",
    "    recall = recall_score(Y_val, Y_pred)\n",
    "    f1 = f1_score(Y_val, Y_pred)\n",
    "\n",
    "    precision_scores.append(precision)\n",
    "    recall_scores.append(recall)\n",
    "    f1_scores.append(f1)\n",
    "\n",
    "\n"
   ]
  },
  {
   "cell_type": "markdown",
   "id": "b80f841f",
   "metadata": {
    "papermill": {
     "duration": 0.377973,
     "end_time": "2024-06-03T17:09:14.157003",
     "exception": false,
     "start_time": "2024-06-03T17:09:13.779030",
     "status": "completed"
    },
    "tags": []
   },
   "source": [
    "### Calculate and print average results"
   ]
  },
  {
   "cell_type": "code",
   "execution_count": 20,
   "id": "ede3aabf",
   "metadata": {
    "execution": {
     "iopub.execute_input": "2024-06-03T17:09:14.899313Z",
     "iopub.status.busy": "2024-06-03T17:09:14.898524Z",
     "iopub.status.idle": "2024-06-03T17:09:14.957889Z",
     "shell.execute_reply": "2024-06-03T17:09:14.956834Z"
    },
    "papermill": {
     "duration": 0.429136,
     "end_time": "2024-06-03T17:09:14.960059",
     "exception": false,
     "start_time": "2024-06-03T17:09:14.530923",
     "status": "completed"
    },
    "tags": []
   },
   "outputs": [
    {
     "name": "stdout",
     "output_type": "stream",
     "text": [
      "Mean Accuracy: 0.9992\n",
      "Mean Precision: 0.9989\n",
      "Mean Recall: 0.9995\n",
      "Mean F1-Score: 0.9992\n"
     ]
    }
   ],
   "source": [
    "# Calculate mean metrics across all folds\n",
    "mean_accuracy = np.mean(accuracy_scores)\n",
    "mean_precision = np.mean(precision_scores)\n",
    "mean_recall = np.mean(recall_scores)\n",
    "mean_f1_score = np.mean(f1_scores)\n",
    "\n",
    "# Print the results\n",
    "print(f'Mean Accuracy: {mean_accuracy:.4f}')\n",
    "print(f'Mean Precision: {mean_precision:.4f}')\n",
    "print(f'Mean Recall: {mean_recall:.4f}')\n",
    "print(f'Mean F1-Score: {mean_f1_score:.4f}')\n",
    "\n",
    "# Save the best model for future use\n",
    "final_model_path = '/kaggle/working/final_best_model.keras'\n",
    "best_model.save(final_model_path)"
   ]
  },
  {
   "cell_type": "markdown",
   "id": "2ddd17ab",
   "metadata": {
    "papermill": {
     "duration": 0.385937,
     "end_time": "2024-06-03T17:09:15.717296",
     "exception": false,
     "start_time": "2024-06-03T17:09:15.331359",
     "status": "completed"
    },
    "tags": []
   },
   "source": [
    "### Model Architecture"
   ]
  },
  {
   "cell_type": "code",
   "execution_count": 21,
   "id": "fbf54da2",
   "metadata": {
    "execution": {
     "iopub.execute_input": "2024-06-03T17:09:16.489330Z",
     "iopub.status.busy": "2024-06-03T17:09:16.488349Z",
     "iopub.status.idle": "2024-06-03T17:09:17.112349Z",
     "shell.execute_reply": "2024-06-03T17:09:17.111342Z"
    },
    "papermill": {
     "duration": 0.991528,
     "end_time": "2024-06-03T17:09:17.117784",
     "exception": false,
     "start_time": "2024-06-03T17:09:16.126256",
     "status": "completed"
    },
    "tags": []
   },
   "outputs": [
    {
     "data": {
      "image/png": "[encoded data removed]",
      "text/plain": [
       "<IPython.core.display.Image object>"
      ]
     },
     "execution_count": 21,
     "metadata": {},
     "output_type": "execute_result"
    }
   ],
   "source": [
    "from keras.utils import plot_model\n",
    "# Visualize the model architecture\n",
    "plot_model(best_model, to_file='/kaggle/working/model_architecture.png', show_shapes=True, show_layer_names=True)"
   ]
  },
  {
   "cell_type": "markdown",
   "id": "3a9661ed",
   "metadata": {
    "papermill": {
     "duration": 0.377683,
     "end_time": "2024-06-03T17:09:17.898213",
     "exception": false,
     "start_time": "2024-06-03T17:09:17.520530",
     "status": "completed"
    },
    "tags": []
   },
   "source": [
    "### Visualizing Training History"
   ]
  },
  {
   "cell_type": "code",
   "execution_count": 22,
   "id": "bdc863f7",
   "metadata": {
    "execution": {
     "iopub.execute_input": "2024-06-03T17:09:18.659654Z",
     "iopub.status.busy": "2024-06-03T17:09:18.658943Z",
     "iopub.status.idle": "2024-06-03T17:09:19.191720Z",
     "shell.execute_reply": "2024-06-03T17:09:19.190790Z"
    },
    "papermill": {
     "duration": 0.920182,
     "end_time": "2024-06-03T17:09:19.194308",
     "exception": false,
     "start_time": "2024-06-03T17:09:18.274126",
     "status": "completed"
    },
    "tags": []
   },
   "outputs": [
    {
     "data": {
      "image/png": "[encoded data removed]",
      "text/plain": [
       "<Figure size 1200x400 with 2 Axes>"
      ]
     },
     "metadata": {},
     "output_type": "display_data"
    }
   ],
   "source": [
    "import matplotlib.pyplot as plt\n",
    "# Plot training & validation accuracy and loss for the best model\n",
    "plt.figure(figsize=(12, 4))\n",
    "\n",
    "plt.subplot(1, 2, 1)\n",
    "plt.plot(best_history.history['accuracy'])\n",
    "plt.plot(best_history.history['val_accuracy'])\n",
    "plt.title('Model accuracy')\n",
    "plt.ylabel('Accuracy')\n",
    "plt.xlabel('Epoch')\n",
    "plt.legend(['Train', 'Validation'], loc='upper left')\n",
    "\n",
    "plt.subplot(1, 2, 2)\n",
    "plt.plot(best_history.history['loss'])\n",
    "plt.plot(best_history.history['val_loss'])\n",
    "plt.title('Model loss')\n",
    "plt.ylabel('Loss')\n",
    "plt.xlabel('Epoch')\n",
    "plt.legend(['Train', 'Validation'], loc='upper left')\n",
    "\n",
    "plt.show()\n"
   ]
  },
  {
   "cell_type": "markdown",
   "id": "c9159b28",
   "metadata": {
    "papermill": {
     "duration": 0.397422,
     "end_time": "2024-06-03T17:09:19.969732",
     "exception": false,
     "start_time": "2024-06-03T17:09:19.572310",
     "status": "completed"
    },
    "tags": []
   },
   "source": [
    "### Done with training with Bi-LSTM"
   ]
  },
  {
   "cell_type": "markdown",
   "id": "47ea345b",
   "metadata": {
    "papermill": {
     "duration": 0.38409,
     "end_time": "2024-06-03T17:09:20.784247",
     "exception": false,
     "start_time": "2024-06-03T17:09:20.400157",
     "status": "completed"
    },
    "tags": []
   },
   "source": [
    "# Prediction begins"
   ]
  },
  {
   "cell_type": "markdown",
   "id": "61c23a15",
   "metadata": {
    "papermill": {
     "duration": 0.381396,
     "end_time": "2024-06-03T17:09:21.544868",
     "exception": false,
     "start_time": "2024-06-03T17:09:21.163472",
     "status": "completed"
    },
    "tags": []
   },
   "source": [
    "### Importing test dataset"
   ]
  },
  {
   "cell_type": "code",
   "execution_count": 23,
   "id": "cfe803a0",
   "metadata": {
    "execution": {
     "iopub.execute_input": "2024-06-03T17:09:22.291340Z",
     "iopub.status.busy": "2024-06-03T17:09:22.290548Z",
     "iopub.status.idle": "2024-06-03T17:09:22.937355Z",
     "shell.execute_reply": "2024-06-03T17:09:22.935932Z"
    },
    "papermill": {
     "duration": 1.021171,
     "end_time": "2024-06-03T17:09:22.939636",
     "exception": false,
     "start_time": "2024-06-03T17:09:21.918465",
     "status": "completed"
    },
    "tags": []
   },
   "outputs": [
    {
     "name": "stdout",
     "output_type": "stream",
     "text": [
      "Signature distribution:\n",
      "Signature\n",
      "APT    2921\n",
      "Name: count, dtype: int64\n",
      "Activity distribution:\n",
      "Activity\n",
      "Normal                                       32934\n",
      "Maintain Access                               2914\n",
      "Encrypted Channel: Symmetric Cryptography        7\n",
      "Name: count, dtype: int64\n",
      "Stage distribution:\n",
      "Stage\n",
      "Benign                32934\n",
      "Lateral Movement       2914\n",
      "Establish Foothold        7\n",
      "Name: count, dtype: int64\n"
     ]
    }
   ],
   "source": [
    "# Base directory where your dataset is stored\n",
    "dataframe = pd.read_csv('/kaggle/input/test-apt-unraveled/netgw_Flow_labeled_w5_d4.csv')\n",
    "\n",
    "\n",
    "\n",
    "# Check label distribution for balance\n",
    "signature_counts = dataframe['Signature'].value_counts()\n",
    "print(\"Signature distribution:\")\n",
    "print(signature_counts)\n",
    "\n",
    "activity_counts = dataframe['Activity'].value_counts()\n",
    "print(\"Activity distribution:\")\n",
    "print(activity_counts)\n",
    "\n",
    "stage_counts = dataframe['Stage'].value_counts()\n",
    "print(\"Stage distribution:\")\n",
    "print(stage_counts)\n"
   ]
  },
  {
   "cell_type": "markdown",
   "id": "80983a75",
   "metadata": {
    "papermill": {
     "duration": 0.372206,
     "end_time": "2024-06-03T17:09:23.684322",
     "exception": false,
     "start_time": "2024-06-03T17:09:23.312116",
     "status": "completed"
    },
    "tags": []
   },
   "source": [
    "### Data Shape"
   ]
  },
  {
   "cell_type": "code",
   "execution_count": 24,
   "id": "e3876eef",
   "metadata": {
    "execution": {
     "iopub.execute_input": "2024-06-03T17:09:24.478224Z",
     "iopub.status.busy": "2024-06-03T17:09:24.477847Z",
     "iopub.status.idle": "2024-06-03T17:09:24.483798Z",
     "shell.execute_reply": "2024-06-03T17:09:24.482878Z"
    },
    "papermill": {
     "duration": 0.425227,
     "end_time": "2024-06-03T17:09:24.485853",
     "exception": false,
     "start_time": "2024-06-03T17:09:24.060626",
     "status": "completed"
    },
    "tags": []
   },
   "outputs": [
    {
     "data": {
      "text/plain": [
       "(35855, 89)"
      ]
     },
     "execution_count": 24,
     "metadata": {},
     "output_type": "execute_result"
    }
   ],
   "source": [
    "dataframe.shape"
   ]
  },
  {
   "cell_type": "code",
   "execution_count": 25,
   "id": "b5fa09fb",
   "metadata": {
    "execution": {
     "iopub.execute_input": "2024-06-03T17:09:25.234441Z",
     "iopub.status.busy": "2024-06-03T17:09:25.233971Z",
     "iopub.status.idle": "2024-06-03T17:09:25.257765Z",
     "shell.execute_reply": "2024-06-03T17:09:25.256577Z"
    },
    "papermill": {
     "duration": 0.400368,
     "end_time": "2024-06-03T17:09:25.259660",
     "exception": false,
     "start_time": "2024-06-03T17:09:24.859292",
     "status": "completed"
    },
    "tags": []
   },
   "outputs": [
    {
     "name": "stdout",
     "output_type": "stream",
     "text": [
      "Signature\n",
      "Non-APT    32934\n",
      "APT         2921\n",
      "Name: count, dtype: int64\n"
     ]
    }
   ],
   "source": [
    "dataframe['Signature'] = dataframe['Signature'].apply(lambda x: 'APT' if x == 'APT' else 'Non-APT')\n",
    "\n",
    "# Check the distribution of the new label\n",
    "print(dataframe['Signature'].value_counts())"
   ]
  },
  {
   "cell_type": "markdown",
   "id": "7e98de20",
   "metadata": {
    "papermill": {
     "duration": 0.382788,
     "end_time": "2024-06-03T17:09:26.045579",
     "exception": false,
     "start_time": "2024-06-03T17:09:25.662791",
     "status": "completed"
    },
    "tags": []
   },
   "source": [
    "### Signature test encoding"
   ]
  },
  {
   "cell_type": "code",
   "execution_count": 26,
   "id": "f36e798a",
   "metadata": {
    "execution": {
     "iopub.execute_input": "2024-06-03T17:09:26.842881Z",
     "iopub.status.busy": "2024-06-03T17:09:26.842506Z",
     "iopub.status.idle": "2024-06-03T17:09:26.859033Z",
     "shell.execute_reply": "2024-06-03T17:09:26.858125Z"
    },
    "papermill": {
     "duration": 0.445426,
     "end_time": "2024-06-03T17:09:26.861743",
     "exception": false,
     "start_time": "2024-06-03T17:09:26.416317",
     "status": "completed"
    },
    "tags": []
   },
   "outputs": [
    {
     "name": "stdout",
     "output_type": "stream",
     "text": [
      "Encoded target classes:\n",
      "APT: 0\n",
      "Non-APT: 1\n",
      "Transformed target classes:\n",
      "[1 1 1 ... 0 1 1]\n"
     ]
    }
   ],
   "source": [
    "from sklearn.preprocessing import LabelEncoder\n",
    "\n",
    "# Sample target classes\n",
    "target_classes = dataframe[\"Signature\"].values\n",
    "\n",
    "# Initialize LabelEncoder\n",
    "encoder = LabelEncoder()\n",
    "\n",
    "# Fit and transform the target classes\n",
    "Y_pred = encoder.fit_transform(target_classes)\n",
    "\n",
    "# Display the encoded target classes\n",
    "print(\"Encoded target classes:\")\n",
    "for class_name, encoded_class in zip(encoder.classes_, range(len(encoder.classes_))):\n",
    "    print(f\"{class_name}: {encoded_class}\")\n",
    "\n",
    "# Check the transformed target classes\n",
    "print(\"Transformed target classes:\")\n",
    "print(Y_pred)"
   ]
  },
  {
   "cell_type": "markdown",
   "id": "9cd124c6",
   "metadata": {
    "papermill": {
     "duration": 0.365292,
     "end_time": "2024-06-03T17:09:27.622424",
     "exception": false,
     "start_time": "2024-06-03T17:09:27.257132",
     "status": "completed"
    },
    "tags": []
   },
   "source": [
    "### selecting uncorrelated data"
   ]
  },
  {
   "cell_type": "code",
   "execution_count": 27,
   "id": "4c59d150",
   "metadata": {
    "execution": {
     "iopub.execute_input": "2024-06-03T17:09:28.377374Z",
     "iopub.status.busy": "2024-06-03T17:09:28.376913Z",
     "iopub.status.idle": "2024-06-03T17:09:28.390862Z",
     "shell.execute_reply": "2024-06-03T17:09:28.389950Z"
    },
    "papermill": {
     "duration": 0.390438,
     "end_time": "2024-06-03T17:09:28.393010",
     "exception": false,
     "start_time": "2024-06-03T17:09:28.002572",
     "status": "completed"
    },
    "tags": []
   },
   "outputs": [
    {
     "data": {
      "text/plain": [
       "Index(['src_port', 'dst_port', 'protocol', 'ip_version', 'vlan_id',\n",
       "       'tunnel_id', 'bidirectional_first_seen_ms', 'bidirectional_duration_ms',\n",
       "       'bidirectional_packets', 'bidirectional_bytes', 'src2dst_packets',\n",
       "       'src2dst_bytes', 'dst2src_first_seen_ms', 'dst2src_duration_ms',\n",
       "       'dst2src_packets', 'bidirectional_min_ps', 'bidirectional_mean_ps',\n",
       "       'bidirectional_stddev_ps', 'src2dst_mean_ps', 'src2dst_stddev_ps',\n",
       "       'dst2src_min_ps', 'dst2src_mean_ps', 'dst2src_stddev_ps',\n",
       "       'bidirectional_min_piat_ms', 'bidirectional_mean_piat_ms',\n",
       "       'bidirectional_stddev_piat_ms', 'bidirectional_max_piat_ms',\n",
       "       'src2dst_min_piat_ms', 'src2dst_mean_piat_ms', 'src2dst_stddev_piat_ms',\n",
       "       'dst2src_min_piat_ms', 'dst2src_mean_piat_ms', 'dst2src_stddev_piat_ms',\n",
       "       'dst2src_max_piat_ms', 'bidirectional_syn_packets',\n",
       "       'bidirectional_cwr_packets', 'bidirectional_ece_packets',\n",
       "       'bidirectional_urg_packets', 'bidirectional_ack_packets',\n",
       "       'bidirectional_psh_packets', 'bidirectional_rst_packets',\n",
       "       'bidirectional_fin_packets', 'src2dst_cwr_packets',\n",
       "       'src2dst_ece_packets', 'src2dst_urg_packets', 'src2dst_psh_packets',\n",
       "       'src2dst_rst_packets', 'dst2src_cwr_packets', 'dst2src_ece_packets',\n",
       "       'dst2src_urg_packets', 'dst2src_ack_packets', 'dst2src_psh_packets',\n",
       "       'dst2src_rst_packets', 'application_is_guessed'],\n",
       "      dtype='object')"
      ]
     },
     "execution_count": 27,
     "metadata": {},
     "output_type": "execute_result"
    }
   ],
   "source": [
    "uncorrelated_test = dataframe[['src_port', 'dst_port', 'protocol', 'ip_version', 'vlan_id',\n",
    "       'tunnel_id', 'bidirectional_first_seen_ms', 'bidirectional_duration_ms',\n",
    "       'bidirectional_packets', 'bidirectional_bytes', 'src2dst_packets',\n",
    "       'src2dst_bytes', 'dst2src_first_seen_ms', 'dst2src_duration_ms',\n",
    "       'dst2src_packets', 'bidirectional_min_ps', 'bidirectional_mean_ps',\n",
    "       'bidirectional_stddev_ps', 'src2dst_mean_ps', 'src2dst_stddev_ps',\n",
    "       'dst2src_min_ps', 'dst2src_mean_ps', 'dst2src_stddev_ps',\n",
    "       'bidirectional_min_piat_ms', 'bidirectional_mean_piat_ms',\n",
    "       'bidirectional_stddev_piat_ms', 'bidirectional_max_piat_ms',\n",
    "       'src2dst_min_piat_ms', 'src2dst_mean_piat_ms', 'src2dst_stddev_piat_ms',\n",
    "       'dst2src_min_piat_ms', 'dst2src_mean_piat_ms', 'dst2src_stddev_piat_ms',\n",
    "       'dst2src_max_piat_ms', 'bidirectional_syn_packets',\n",
    "       'bidirectional_cwr_packets', 'bidirectional_ece_packets',\n",
    "       'bidirectional_urg_packets', 'bidirectional_ack_packets',\n",
    "       'bidirectional_psh_packets', 'bidirectional_rst_packets',\n",
    "       'bidirectional_fin_packets', 'src2dst_cwr_packets',\n",
    "       'src2dst_ece_packets', 'src2dst_urg_packets', 'src2dst_psh_packets',\n",
    "       'src2dst_rst_packets', 'dst2src_cwr_packets', 'dst2src_ece_packets',\n",
    "       'dst2src_urg_packets', 'dst2src_ack_packets', 'dst2src_psh_packets',\n",
    "       'dst2src_rst_packets', 'application_is_guessed']]\n",
    "\n",
    "uncorrelated_test.columns"
   ]
  },
  {
   "cell_type": "code",
   "execution_count": 28,
   "id": "a6804128",
   "metadata": {
    "execution": {
     "iopub.execute_input": "2024-06-03T17:09:29.196028Z",
     "iopub.status.busy": "2024-06-03T17:09:29.195374Z",
     "iopub.status.idle": "2024-06-03T17:09:29.201167Z",
     "shell.execute_reply": "2024-06-03T17:09:29.200351Z"
    },
    "papermill": {
     "duration": 0.420822,
     "end_time": "2024-06-03T17:09:29.203226",
     "exception": false,
     "start_time": "2024-06-03T17:09:28.782404",
     "status": "completed"
    },
    "tags": []
   },
   "outputs": [
    {
     "data": {
      "text/plain": [
       "(35855, 54)"
      ]
     },
     "execution_count": 28,
     "metadata": {},
     "output_type": "execute_result"
    }
   ],
   "source": [
    "type(uncorrelated_test)\n",
    "uncorrelated_test.shape"
   ]
  },
  {
   "cell_type": "markdown",
   "id": "66e8ec57",
   "metadata": {
    "papermill": {
     "duration": 0.393001,
     "end_time": "2024-06-03T17:09:29.971687",
     "exception": false,
     "start_time": "2024-06-03T17:09:29.578686",
     "status": "completed"
    },
    "tags": []
   },
   "source": [
    "### working on IP"
   ]
  },
  {
   "cell_type": "code",
   "execution_count": 29,
   "id": "b9af5a5b",
   "metadata": {
    "execution": {
     "iopub.execute_input": "2024-06-03T17:09:30.773039Z",
     "iopub.status.busy": "2024-06-03T17:09:30.772667Z",
     "iopub.status.idle": "2024-06-03T17:09:31.290363Z",
     "shell.execute_reply": "2024-06-03T17:09:31.289170Z"
    },
    "papermill": {
     "duration": 0.911555,
     "end_time": "2024-06-03T17:09:31.293495",
     "exception": false,
     "start_time": "2024-06-03T17:09:30.381940",
     "status": "completed"
    },
    "tags": []
   },
   "outputs": [
    {
     "name": "stderr",
     "output_type": "stream",
     "text": [
      "/tmp/ipykernel_24/2628416595.py:19: FutureWarning: A value is trying to be set on a copy of a DataFrame or Series through chained assignment using an inplace method.\n",
      "The behavior will change in pandas 3.0. This inplace method will never work because the intermediate object on which we are setting values always behaves as a copy.\n",
      "\n",
      "For example, when doing 'df[col].method(value, inplace=True)', try using 'df.method({col: value}, inplace=True)' or df[col] = df[col].method(value) instead, to perform the operation inplace on the original object.\n",
      "\n",
      "\n",
      "  df_ip_pred['src_ip'].fillna(-1, inplace=True)\n",
      "/tmp/ipykernel_24/2628416595.py:20: FutureWarning: A value is trying to be set on a copy of a DataFrame or Series through chained assignment using an inplace method.\n",
      "The behavior will change in pandas 3.0. This inplace method will never work because the intermediate object on which we are setting values always behaves as a copy.\n",
      "\n",
      "For example, when doing 'df[col].method(value, inplace=True)', try using 'df.method({col: value}, inplace=True)' or df[col] = df[col].method(value) instead, to perform the operation inplace on the original object.\n",
      "\n",
      "\n",
      "  df_ip_pred ['dst_ip'].fillna(-1, inplace=True)\n"
     ]
    },
    {
     "data": {
      "text/html": [
       "<div>\n",
       "<style scoped>\n",
       "    .dataframe tbody tr th:only-of-type {\n",
       "        vertical-align: middle;\n",
       "    }\n",
       "\n",
       "    .dataframe tbody tr th {\n",
       "        vertical-align: top;\n",
       "    }\n",
       "\n",
       "    .dataframe thead th {\n",
       "        text-align: right;\n",
       "    }\n",
       "</style>\n",
       "<table border=\"1\" class=\"dataframe\">\n",
       "  <thead>\n",
       "    <tr style=\"text-align: right;\">\n",
       "      <th></th>\n",
       "      <th>src_ip</th>\n",
       "      <th>dst_ip</th>\n",
       "    </tr>\n",
       "  </thead>\n",
       "  <tbody>\n",
       "    <tr>\n",
       "      <th>0</th>\n",
       "      <td>0.752563</td>\n",
       "      <td>0.151935</td>\n",
       "    </tr>\n",
       "    <tr>\n",
       "      <th>1</th>\n",
       "      <td>0.752563</td>\n",
       "      <td>0.635251</td>\n",
       "    </tr>\n",
       "    <tr>\n",
       "      <th>2</th>\n",
       "      <td>0.752563</td>\n",
       "      <td>0.675187</td>\n",
       "    </tr>\n",
       "    <tr>\n",
       "      <th>3</th>\n",
       "      <td>0.752563</td>\n",
       "      <td>0.031373</td>\n",
       "    </tr>\n",
       "    <tr>\n",
       "      <th>4</th>\n",
       "      <td>0.752563</td>\n",
       "      <td>0.635251</td>\n",
       "    </tr>\n",
       "    <tr>\n",
       "      <th>...</th>\n",
       "      <td>...</td>\n",
       "      <td>...</td>\n",
       "    </tr>\n",
       "    <tr>\n",
       "      <th>35850</th>\n",
       "      <td>0.752563</td>\n",
       "      <td>0.031372</td>\n",
       "    </tr>\n",
       "    <tr>\n",
       "      <th>35851</th>\n",
       "      <td>0.752563</td>\n",
       "      <td>0.390952</td>\n",
       "    </tr>\n",
       "    <tr>\n",
       "      <th>35852</th>\n",
       "      <td>0.752563</td>\n",
       "      <td>0.039185</td>\n",
       "    </tr>\n",
       "    <tr>\n",
       "      <th>35853</th>\n",
       "      <td>0.752563</td>\n",
       "      <td>0.031373</td>\n",
       "    </tr>\n",
       "    <tr>\n",
       "      <th>35854</th>\n",
       "      <td>0.752563</td>\n",
       "      <td>0.031373</td>\n",
       "    </tr>\n",
       "  </tbody>\n",
       "</table>\n",
       "<p>35855 rows × 2 columns</p>\n",
       "</div>"
      ],
      "text/plain": [
       "         src_ip    dst_ip\n",
       "0      0.752563  0.151935\n",
       "1      0.752563  0.635251\n",
       "2      0.752563  0.675187\n",
       "3      0.752563  0.031373\n",
       "4      0.752563  0.635251\n",
       "...         ...       ...\n",
       "35850  0.752563  0.031372\n",
       "35851  0.752563  0.390952\n",
       "35852  0.752563  0.039185\n",
       "35853  0.752563  0.031373\n",
       "35854  0.752563  0.031373\n",
       "\n",
       "[35855 rows x 2 columns]"
      ]
     },
     "execution_count": 29,
     "metadata": {},
     "output_type": "execute_result"
    }
   ],
   "source": [
    "# Function to validate and convert IP to integer\n",
    "def validate_and_convert_ip(ip):\n",
    "    try:\n",
    "        # Check if it's a valid IPv4 address\n",
    "        ip = ipaddress.IPv4Address(ip)\n",
    "        return int(ip) / (2**32 - 1)  # Normalize to the range [0, 1]\n",
    "    except:\n",
    "        # Handle both IPv6 and invalid addresses by returning NaN\n",
    "        return np.nan\n",
    "\n",
    "# Create a copy of the IP-related columns to avoid modifying the original DataFrame\n",
    "df_ip_pred = dataframe[[\"src_ip\", \"dst_ip\"]].copy()\n",
    "\n",
    "# Apply the function to IP columns\n",
    "df_ip_pred['src_ip'] = df_ip_pred['src_ip'].apply(validate_and_convert_ip)\n",
    "df_ip_pred['dst_ip'] = df_ip_pred['dst_ip'].apply(validate_and_convert_ip)\n",
    "\n",
    "# Handle NaN values that may have resulted from invalid IPs\n",
    "df_ip_pred['src_ip'].fillna(-1, inplace=True)\n",
    "df_ip_pred ['dst_ip'].fillna(-1, inplace=True)\n",
    "\n",
    "# Combine df_ip back with the other non-numeric columns for encoding\n",
    "df_non_numeric = df_cleaned[non_numeric_columns].copy()\n",
    "df_combined = pd.concat([df_ip, df_non_numeric], axis=1)\n",
    "\n",
    "\n",
    "\n",
    "# Check the resulting dataframe\n",
    "df_ip_pred "
   ]
  },
  {
   "cell_type": "markdown",
   "id": "8230e739",
   "metadata": {
    "papermill": {
     "duration": 0.385326,
     "end_time": "2024-06-03T17:09:32.064396",
     "exception": false,
     "start_time": "2024-06-03T17:09:31.679070",
     "status": "completed"
    },
    "tags": []
   },
   "source": [
    "### for non-IP"
   ]
  },
  {
   "cell_type": "code",
   "execution_count": 30,
   "id": "0aaa5ce2",
   "metadata": {
    "execution": {
     "iopub.execute_input": "2024-06-03T17:09:32.884851Z",
     "iopub.status.busy": "2024-06-03T17:09:32.884483Z",
     "iopub.status.idle": "2024-06-03T17:09:33.197283Z",
     "shell.execute_reply": "2024-06-03T17:09:33.196159Z"
    },
    "papermill": {
     "duration": 0.703235,
     "end_time": "2024-06-03T17:09:33.199907",
     "exception": false,
     "start_time": "2024-06-03T17:09:32.496672",
     "status": "completed"
    },
    "tags": []
   },
   "outputs": [],
   "source": [
    "# Create a DataFrame for non-numeric columns excluding IPs\n",
    "non_ip_columns = [\"src_mac\", \"src_oui\", \"dst_mac\",\n",
    "                  \"dst_oui\", \"application_name\", \"application_category_name\"]\n",
    "\n",
    "# Select the non-IP non-numeric columns\n",
    "df_non_numeric = dataframe[non_ip_columns].copy()\n",
    "\n",
    "# Initialize the target encoder\n",
    "target_encoder = ce.TargetEncoder(cols=non_ip_columns)\n",
    "\n",
    "# Assuming Y is your target variable\n",
    "# Y = df_cleaned['target_variable']\n",
    "\n",
    "# Fit and transform the data\n",
    "encoded_non_ip = target_encoder.fit_transform(df_non_numeric, Y_pred)"
   ]
  },
  {
   "cell_type": "markdown",
   "id": "a79421c3",
   "metadata": {
    "papermill": {
     "duration": 0.37635,
     "end_time": "2024-06-03T17:09:33.987630",
     "exception": false,
     "start_time": "2024-06-03T17:09:33.611280",
     "status": "completed"
    },
    "tags": []
   },
   "source": [
    "### Predicted data prepare"
   ]
  },
  {
   "cell_type": "code",
   "execution_count": 31,
   "id": "e71c9297",
   "metadata": {
    "execution": {
     "iopub.execute_input": "2024-06-03T17:09:34.740730Z",
     "iopub.status.busy": "2024-06-03T17:09:34.740355Z",
     "iopub.status.idle": "2024-06-03T17:09:34.767346Z",
     "shell.execute_reply": "2024-06-03T17:09:34.766438Z"
    },
    "papermill": {
     "duration": 0.405168,
     "end_time": "2024-06-03T17:09:34.769613",
     "exception": false,
     "start_time": "2024-06-03T17:09:34.364445",
     "status": "completed"
    },
    "tags": []
   },
   "outputs": [
    {
     "data": {
      "text/html": [
       "<div>\n",
       "<style scoped>\n",
       "    .dataframe tbody tr th:only-of-type {\n",
       "        vertical-align: middle;\n",
       "    }\n",
       "\n",
       "    .dataframe tbody tr th {\n",
       "        vertical-align: top;\n",
       "    }\n",
       "\n",
       "    .dataframe thead th {\n",
       "        text-align: right;\n",
       "    }\n",
       "</style>\n",
       "<table border=\"1\" class=\"dataframe\">\n",
       "  <thead>\n",
       "    <tr style=\"text-align: right;\">\n",
       "      <th></th>\n",
       "      <th>src_ip</th>\n",
       "      <th>dst_ip</th>\n",
       "      <th>src_mac</th>\n",
       "      <th>src_oui</th>\n",
       "      <th>dst_mac</th>\n",
       "      <th>dst_oui</th>\n",
       "      <th>application_name</th>\n",
       "      <th>application_category_name</th>\n",
       "      <th>src_port</th>\n",
       "      <th>dst_port</th>\n",
       "      <th>...</th>\n",
       "      <th>src2dst_urg_packets</th>\n",
       "      <th>src2dst_psh_packets</th>\n",
       "      <th>src2dst_rst_packets</th>\n",
       "      <th>dst2src_cwr_packets</th>\n",
       "      <th>dst2src_ece_packets</th>\n",
       "      <th>dst2src_urg_packets</th>\n",
       "      <th>dst2src_ack_packets</th>\n",
       "      <th>dst2src_psh_packets</th>\n",
       "      <th>dst2src_rst_packets</th>\n",
       "      <th>application_is_guessed</th>\n",
       "    </tr>\n",
       "  </thead>\n",
       "  <tbody>\n",
       "    <tr>\n",
       "      <th>0</th>\n",
       "      <td>0.752563</td>\n",
       "      <td>0.151935</td>\n",
       "      <td>0.909077</td>\n",
       "      <td>0.918533</td>\n",
       "      <td>0.906674</td>\n",
       "      <td>0.906722</td>\n",
       "      <td>1.000000</td>\n",
       "      <td>1.000000</td>\n",
       "      <td>123</td>\n",
       "      <td>123</td>\n",
       "      <td>...</td>\n",
       "      <td>0</td>\n",
       "      <td>0</td>\n",
       "      <td>0</td>\n",
       "      <td>0</td>\n",
       "      <td>0</td>\n",
       "      <td>0</td>\n",
       "      <td>0</td>\n",
       "      <td>0</td>\n",
       "      <td>0</td>\n",
       "      <td>0</td>\n",
       "    </tr>\n",
       "    <tr>\n",
       "      <th>1</th>\n",
       "      <td>0.752563</td>\n",
       "      <td>0.635251</td>\n",
       "      <td>0.909077</td>\n",
       "      <td>0.918533</td>\n",
       "      <td>0.906674</td>\n",
       "      <td>0.906722</td>\n",
       "      <td>1.000000</td>\n",
       "      <td>1.000000</td>\n",
       "      <td>123</td>\n",
       "      <td>123</td>\n",
       "      <td>...</td>\n",
       "      <td>0</td>\n",
       "      <td>0</td>\n",
       "      <td>0</td>\n",
       "      <td>0</td>\n",
       "      <td>0</td>\n",
       "      <td>0</td>\n",
       "      <td>0</td>\n",
       "      <td>0</td>\n",
       "      <td>0</td>\n",
       "      <td>0</td>\n",
       "    </tr>\n",
       "    <tr>\n",
       "      <th>2</th>\n",
       "      <td>0.752563</td>\n",
       "      <td>0.675187</td>\n",
       "      <td>0.909077</td>\n",
       "      <td>0.918533</td>\n",
       "      <td>0.906674</td>\n",
       "      <td>0.906722</td>\n",
       "      <td>0.998535</td>\n",
       "      <td>0.699578</td>\n",
       "      <td>55810</td>\n",
       "      <td>443</td>\n",
       "      <td>...</td>\n",
       "      <td>0</td>\n",
       "      <td>0</td>\n",
       "      <td>0</td>\n",
       "      <td>0</td>\n",
       "      <td>0</td>\n",
       "      <td>0</td>\n",
       "      <td>3</td>\n",
       "      <td>1</td>\n",
       "      <td>0</td>\n",
       "      <td>1</td>\n",
       "    </tr>\n",
       "    <tr>\n",
       "      <th>3</th>\n",
       "      <td>0.752563</td>\n",
       "      <td>0.031373</td>\n",
       "      <td>0.909077</td>\n",
       "      <td>0.918533</td>\n",
       "      <td>0.906674</td>\n",
       "      <td>0.906722</td>\n",
       "      <td>1.000000</td>\n",
       "      <td>1.000000</td>\n",
       "      <td>0</td>\n",
       "      <td>0</td>\n",
       "      <td>...</td>\n",
       "      <td>0</td>\n",
       "      <td>0</td>\n",
       "      <td>0</td>\n",
       "      <td>0</td>\n",
       "      <td>0</td>\n",
       "      <td>0</td>\n",
       "      <td>0</td>\n",
       "      <td>0</td>\n",
       "      <td>0</td>\n",
       "      <td>0</td>\n",
       "    </tr>\n",
       "    <tr>\n",
       "      <th>4</th>\n",
       "      <td>0.752563</td>\n",
       "      <td>0.635251</td>\n",
       "      <td>0.909077</td>\n",
       "      <td>0.918533</td>\n",
       "      <td>0.906674</td>\n",
       "      <td>0.906722</td>\n",
       "      <td>1.000000</td>\n",
       "      <td>1.000000</td>\n",
       "      <td>123</td>\n",
       "      <td>123</td>\n",
       "      <td>...</td>\n",
       "      <td>0</td>\n",
       "      <td>0</td>\n",
       "      <td>0</td>\n",
       "      <td>0</td>\n",
       "      <td>0</td>\n",
       "      <td>0</td>\n",
       "      <td>0</td>\n",
       "      <td>0</td>\n",
       "      <td>0</td>\n",
       "      <td>0</td>\n",
       "    </tr>\n",
       "  </tbody>\n",
       "</table>\n",
       "<p>5 rows × 62 columns</p>\n",
       "</div>"
      ],
      "text/plain": [
       "     src_ip    dst_ip   src_mac   src_oui   dst_mac   dst_oui  \\\n",
       "0  0.752563  0.151935  0.909077  0.918533  0.906674  0.906722   \n",
       "1  0.752563  0.635251  0.909077  0.918533  0.906674  0.906722   \n",
       "2  0.752563  0.675187  0.909077  0.918533  0.906674  0.906722   \n",
       "3  0.752563  0.031373  0.909077  0.918533  0.906674  0.906722   \n",
       "4  0.752563  0.635251  0.909077  0.918533  0.906674  0.906722   \n",
       "\n",
       "   application_name  application_category_name  src_port  dst_port  ...  \\\n",
       "0          1.000000                   1.000000       123       123  ...   \n",
       "1          1.000000                   1.000000       123       123  ...   \n",
       "2          0.998535                   0.699578     55810       443  ...   \n",
       "3          1.000000                   1.000000         0         0  ...   \n",
       "4          1.000000                   1.000000       123       123  ...   \n",
       "\n",
       "   src2dst_urg_packets  src2dst_psh_packets  src2dst_rst_packets  \\\n",
       "0                    0                    0                    0   \n",
       "1                    0                    0                    0   \n",
       "2                    0                    0                    0   \n",
       "3                    0                    0                    0   \n",
       "4                    0                    0                    0   \n",
       "\n",
       "   dst2src_cwr_packets  dst2src_ece_packets  dst2src_urg_packets  \\\n",
       "0                    0                    0                    0   \n",
       "1                    0                    0                    0   \n",
       "2                    0                    0                    0   \n",
       "3                    0                    0                    0   \n",
       "4                    0                    0                    0   \n",
       "\n",
       "   dst2src_ack_packets  dst2src_psh_packets  dst2src_rst_packets  \\\n",
       "0                    0                    0                    0   \n",
       "1                    0                    0                    0   \n",
       "2                    3                    1                    0   \n",
       "3                    0                    0                    0   \n",
       "4                    0                    0                    0   \n",
       "\n",
       "   application_is_guessed  \n",
       "0                       0  \n",
       "1                       0  \n",
       "2                       1  \n",
       "3                       0  \n",
       "4                       0  \n",
       "\n",
       "[5 rows x 62 columns]"
      ]
     },
     "execution_count": 31,
     "metadata": {},
     "output_type": "execute_result"
    }
   ],
   "source": [
    "# Combine the encoded IP and non-IP columns with other numeric features\n",
    "X_pred = pd.concat([df_ip_pred , encoded_non_ip, uncorrelated_test], axis=1)\n",
    "\n",
    "# Check the resulting dataframe\n",
    "X_pred.head()"
   ]
  },
  {
   "cell_type": "code",
   "execution_count": 32,
   "id": "f311e1ac",
   "metadata": {
    "execution": {
     "iopub.execute_input": "2024-06-03T17:09:35.575053Z",
     "iopub.status.busy": "2024-06-03T17:09:35.574662Z",
     "iopub.status.idle": "2024-06-03T17:09:35.581147Z",
     "shell.execute_reply": "2024-06-03T17:09:35.580214Z"
    },
    "papermill": {
     "duration": 0.413714,
     "end_time": "2024-06-03T17:09:35.583210",
     "exception": false,
     "start_time": "2024-06-03T17:09:35.169496",
     "status": "completed"
    },
    "tags": []
   },
   "outputs": [
    {
     "data": {
      "text/plain": [
       "(35855, 62)"
      ]
     },
     "execution_count": 32,
     "metadata": {},
     "output_type": "execute_result"
    }
   ],
   "source": [
    "X_pred.shape"
   ]
  },
  {
   "cell_type": "markdown",
   "id": "d21efe5a",
   "metadata": {
    "papermill": {
     "duration": 0.421899,
     "end_time": "2024-06-03T17:09:36.390914",
     "exception": false,
     "start_time": "2024-06-03T17:09:35.969015",
     "status": "completed"
    },
    "tags": []
   },
   "source": [
    "### Scaling data."
   ]
  },
  {
   "cell_type": "code",
   "execution_count": 33,
   "id": "68084c05",
   "metadata": {
    "execution": {
     "iopub.execute_input": "2024-06-03T17:09:37.145845Z",
     "iopub.status.busy": "2024-06-03T17:09:37.145494Z",
     "iopub.status.idle": "2024-06-03T17:12:31.485364Z",
     "shell.execute_reply": "2024-06-03T17:12:31.484274Z"
    },
    "papermill": {
     "duration": 175.132709,
     "end_time": "2024-06-03T17:12:31.900717",
     "exception": false,
     "start_time": "2024-06-03T17:09:36.768008",
     "status": "completed"
    },
    "tags": []
   },
   "outputs": [
    {
     "name": "stderr",
     "output_type": "stream",
     "text": [
      "/opt/conda/lib/python3.10/site-packages/sklearn/cluster/_kmeans.py:870: FutureWarning: The default value of `n_init` will change from 10 to 'auto' in 1.4. Set the value of `n_init` explicitly to suppress the warning\n",
      "  warnings.warn(\n"
     ]
    },
    {
     "name": "stdout",
     "output_type": "stream",
     "text": [
      "0    2921\n",
      "1    2921\n",
      "Name: count, dtype: int64\n"
     ]
    },
    {
     "data": {
      "text/plain": [
       "(35855, 62)"
      ]
     },
     "execution_count": 33,
     "metadata": {},
     "output_type": "execute_result"
    }
   ],
   "source": [
    "from sklearn.preprocessing import MinMaxScaler\n",
    "from imblearn.under_sampling import ClusterCentroids\n",
    "\n",
    "scaler = MinMaxScaler()\n",
    "X_pred = pd.DataFrame(scaler.fit_transform(X_pred), columns=X_pred.columns)\n",
    "\n",
    "under_sampling = ClusterCentroids(random_state=random_state)\n",
    "\n",
    "X_resampled_pred, Y_resampled_pred = under_sampling.fit_resample(X_pred, Y_pred)\n",
    "\n",
    "print(pd.Series(Y_resampled_pred).value_counts())\n",
    "X_pred.shape"
   ]
  },
  {
   "cell_type": "markdown",
   "id": "b473f43c",
   "metadata": {
    "papermill": {
     "duration": 0.402126,
     "end_time": "2024-06-03T17:12:32.699745",
     "exception": false,
     "start_time": "2024-06-03T17:12:32.297619",
     "status": "completed"
    },
    "tags": []
   },
   "source": [
    "### Reshaping for LSTM"
   ]
  },
  {
   "cell_type": "code",
   "execution_count": 34,
   "id": "4590af85",
   "metadata": {
    "execution": {
     "iopub.execute_input": "2024-06-03T17:12:33.529604Z",
     "iopub.status.busy": "2024-06-03T17:12:33.528840Z",
     "iopub.status.idle": "2024-06-03T17:12:33.536438Z",
     "shell.execute_reply": "2024-06-03T17:12:33.535263Z"
    },
    "papermill": {
     "duration": 0.441357,
     "end_time": "2024-06-03T17:12:33.538538",
     "exception": false,
     "start_time": "2024-06-03T17:12:33.097181",
     "status": "completed"
    },
    "tags": []
   },
   "outputs": [
    {
     "name": "stdout",
     "output_type": "stream",
     "text": [
      "Training set reshaped for LSTM: (5842, 62)\n"
     ]
    }
   ],
   "source": [
    "import numpy as np\n",
    "\n",
    "\n",
    "X_pred_lstm = X_resampled_pred.to_numpy()\n",
    "X_pred_lstm = np.expand_dims(X_pred_lstm, axis=2) \n",
    "\n",
    "# Display the new shapes\n",
    "print(f\"Training set reshaped for LSTM: {X_resampled_pred.shape}\")"
   ]
  },
  {
   "cell_type": "markdown",
   "id": "e68d5302",
   "metadata": {
    "papermill": {
     "duration": 0.380983,
     "end_time": "2024-06-03T17:12:34.350791",
     "exception": false,
     "start_time": "2024-06-03T17:12:33.969808",
     "status": "completed"
    },
    "tags": []
   },
   "source": [
    "### Predictions"
   ]
  },
  {
   "cell_type": "code",
   "execution_count": 35,
   "id": "1ccbd3a9",
   "metadata": {
    "execution": {
     "iopub.execute_input": "2024-06-03T17:12:35.100543Z",
     "iopub.status.busy": "2024-06-03T17:12:35.099854Z",
     "iopub.status.idle": "2024-06-03T17:12:35.888059Z",
     "shell.execute_reply": "2024-06-03T17:12:35.887146Z"
    },
    "papermill": {
     "duration": 1.164546,
     "end_time": "2024-06-03T17:12:35.889977",
     "exception": false,
     "start_time": "2024-06-03T17:12:34.725431",
     "status": "completed"
    },
    "tags": []
   },
   "outputs": [
    {
     "name": "stdout",
     "output_type": "stream",
     "text": [
      "\u001b[1m183/183\u001b[0m \u001b[32m━━━━━━━━━━━━━━━━━━━━\u001b[0m\u001b[37m\u001b[0m \u001b[1m1s\u001b[0m 3ms/step\n",
      "[[0]\n",
      " [0]\n",
      " [0]\n",
      " ...\n",
      " [1]\n",
      " [1]\n",
      " [1]]\n"
     ]
    }
   ],
   "source": [
    "# Make predictions\n",
    "Y_pred_lstm = best_model.predict(X_pred_lstm)\n",
    "\n",
    "# Convert probabilities to binary labels\n",
    "Y_pred_binary = (Y_pred_lstm > 0.5).astype(int)\n",
    "\n",
    "# Display the predictions\n",
    "print(Y_pred_binary)\n"
   ]
  },
  {
   "cell_type": "markdown",
   "id": "86bc8c1c",
   "metadata": {
    "papermill": {
     "duration": 0.375039,
     "end_time": "2024-06-03T17:12:36.676598",
     "exception": false,
     "start_time": "2024-06-03T17:12:36.301559",
     "status": "completed"
    },
    "tags": []
   },
   "source": [
    "### Evaluation"
   ]
  },
  {
   "cell_type": "code",
   "execution_count": 36,
   "id": "3d61d351",
   "metadata": {
    "execution": {
     "iopub.execute_input": "2024-06-03T17:12:37.439400Z",
     "iopub.status.busy": "2024-06-03T17:12:37.438636Z",
     "iopub.status.idle": "2024-06-03T17:12:37.876904Z",
     "shell.execute_reply": "2024-06-03T17:12:37.875974Z"
    },
    "papermill": {
     "duration": 0.825603,
     "end_time": "2024-06-03T17:12:37.879100",
     "exception": false,
     "start_time": "2024-06-03T17:12:37.053497",
     "status": "completed"
    },
    "tags": []
   },
   "outputs": [
    {
     "name": "stdout",
     "output_type": "stream",
     "text": [
      "Accuracy: 0.9988\n",
      "Precision: 0.9986\n",
      "Recall: 0.9990\n",
      "F1-Score: 0.9988\n",
      "Confusion Matrix:\n",
      "[[2917    4]\n",
      " [   3 2918]]\n"
     ]
    },
    {
     "data": {
      "image/png": "[encoded data removed]",
      "text/plain": [
       "<Figure size 800x600 with 2 Axes>"
      ]
     },
     "metadata": {},
     "output_type": "display_data"
    }
   ],
   "source": [
    "# Import necessary libraries for evaluation\n",
    "from sklearn.metrics import accuracy_score, precision_score, recall_score, f1_score, confusion_matrix\n",
    "\n",
    "# Assuming 'y_test' contains the true labels for the test data\n",
    "# Ensure y_test is available; it should be the labels of your test dataset\n",
    "\n",
    "# 1. Make Predictions\n",
    "# Y_pred_lstm = model.predict(X_pred_lstm)\n",
    "# Y_predicted_classes = (Y_pred_lstm > 0.5).astype(int).flatten()\n",
    "\n",
    "# 2. Calculate Evaluation Metrics\n",
    "accuracy = accuracy_score(Y_resampled_pred, Y_pred_binary )\n",
    "precision = precision_score(Y_resampled_pred, Y_pred_binary )\n",
    "recall = recall_score(Y_resampled_pred, Y_pred_binary )\n",
    "f1 = f1_score(Y_resampled_pred, Y_pred_binary )\n",
    "conf_matrix = confusion_matrix(Y_resampled_pred, Y_pred_binary )\n",
    "\n",
    "# 3. Print Evaluation Metrics\n",
    "print(f\"Accuracy: {accuracy:.4f}\")\n",
    "print(f\"Precision: {precision:.4f}\")\n",
    "print(f\"Recall: {recall:.4f}\")\n",
    "print(f\"F1-Score: {f1:.4f}\")\n",
    "print(\"Confusion Matrix:\")\n",
    "print(conf_matrix)\n",
    "\n",
    "# Optional: Plot the confusion matrix for better visualization\n",
    "import seaborn as sns\n",
    "import matplotlib.pyplot as plt\n",
    "\n",
    "plt.figure(figsize=(8, 6))\n",
    "sns.heatmap(conf_matrix, annot=True, fmt='d', cmap='Blues')\n",
    "plt.xlabel('Predicted')\n",
    "plt.ylabel('True')\n",
    "plt.title('Confusion Matrix')\n",
    "plt.show()\n"
   ]
  }
 ],
 "metadata": {
  "kaggle": {
   "accelerator": "nvidiaTeslaT4",
   "dataSources": [
    {
     "datasetId": 5088913,
     "sourceId": 8522583,
     "sourceType": "datasetVersion"
    },
    {
     "datasetId": 5123354,
     "sourceId": 8568929,
     "sourceType": "datasetVersion"
    }
   ],
   "dockerImageVersionId": 30698,
   "isGpuEnabled": true,
   "isInternetEnabled": true,
   "language": "python",
   "sourceType": "notebook"
  },
  "kernelspec": {
   "display_name": "Python 3",
   "language": "python",
   "name": "python3"
  },
  "language_info": {
   "codemirror_mode": {
    "name": "ipython",
    "version": 3
   },
   "file_extension": ".py",
   "mimetype": "text/x-python",
   "name": "python",
   "nbconvert_exporter": "python",
   "pygments_lexer": "ipython3",
   "version": "3.10.13"
  },
  "papermill": {
   "default_parameters": {},
   "duration": 1183.374271,
   "end_time": "2024-06-03T17:12:41.703488",
   "environment_variables": {},
   "exception": null,
   "input_path": "__notebook__.ipynb",
   "output_path": "__notebook__.ipynb",
   "parameters": {},
   "start_time": "2024-06-03T16:52:58.329217",
   "version": "2.5.0"
  }
 },
 "nbformat": 4,
 "nbformat_minor": 5
}
